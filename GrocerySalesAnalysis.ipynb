{
  "nbformat": 4,
  "nbformat_minor": 0,
  "metadata": {
    "colab": {
      "name": "GrocerySalesAnalysis.ipynb",
      "provenance": [],
      "collapsed_sections": []
    },
    "kernelspec": {
      "name": "python3",
      "display_name": "Python 3"
    },
    "language_info": {
      "name": "python"
    }
  },
  "cells": [
    {
      "cell_type": "markdown",
      "metadata": {
        "id": "S5f06cYaI9QN"
      },
      "source": [
        "## Libraries Required"
      ]
    },
    {
      "cell_type": "code",
      "metadata": {
        "id": "K3-DcBZHYcSh"
      },
      "source": [
        "import matplotlib.pyplot as plt\n",
        "import pandas as pd\n",
        "import seaborn as sns\n",
        "\n",
        "from sklearn.preprocessing import LabelEncoder,OneHotEncoder,OrdinalEncoder\n",
        "from sklearn.feature_selection import RFECV\n",
        "from sklearn.svm import SVR\n",
        "from sklearn import preprocessing\n",
        "from sklearn.feature_selection import SelectKBest, f_regression\n",
        "from sklearn.model_selection import train_test_split\n",
        "import numpy as np\n",
        "from sklearn.linear_model import LinearRegression\n",
        "from sklearn.metrics import mean_absolute_percentage_error\n",
        "from sklearn.svm import SVR\n",
        "from sklearn import linear_model\n",
        "from sklearn.ensemble import RandomForestRegressor"
      ],
      "execution_count": null,
      "outputs": []
    },
    {
      "cell_type": "markdown",
      "metadata": {
        "id": "UQ8rFJhJI9qt"
      },
      "source": [
        "## loading training set"
      ]
    },
    {
      "cell_type": "code",
      "metadata": {
        "id": "uwWEypSBY7_P"
      },
      "source": [
        "# Loading the train.csv dataset\n",
        "\n",
        "data = pd.read_csv(\"drive/MyDrive/train.csv\")"
      ],
      "execution_count": null,
      "outputs": []
    },
    {
      "cell_type": "code",
      "metadata": {
        "colab": {
          "base_uri": "https://localhost:8080/"
        },
        "id": "PFAn1yWSY96S",
        "outputId": "78272836-63ce-4cf4-8577-0e8ba4f07823"
      },
      "source": [
        "# Inspecting the database \n",
        "\n",
        "data.head()"
      ],
      "execution_count": null,
      "outputs": [
        {
          "output_type": "execute_result",
          "data": {
            "text/html": [
              "<div>\n",
              "<style scoped>\n",
              "    .dataframe tbody tr th:only-of-type {\n",
              "        vertical-align: middle;\n",
              "    }\n",
              "\n",
              "    .dataframe tbody tr th {\n",
              "        vertical-align: top;\n",
              "    }\n",
              "\n",
              "    .dataframe thead th {\n",
              "        text-align: right;\n",
              "    }\n",
              "</style>\n",
              "<table border=\"1\" class=\"dataframe\">\n",
              "  <thead>\n",
              "    <tr style=\"text-align: right;\">\n",
              "      <th></th>\n",
              "      <th>id</th>\n",
              "      <th>Date</th>\n",
              "      <th>Store Number</th>\n",
              "      <th>Store Grade</th>\n",
              "      <th>City</th>\n",
              "      <th>State</th>\n",
              "      <th>Item Number</th>\n",
              "      <th>Item Family</th>\n",
              "      <th>Promotion</th>\n",
              "      <th>Perishable</th>\n",
              "      <th>Holiday</th>\n",
              "      <th>Holiday Extent</th>\n",
              "      <th>Holiday Transferred</th>\n",
              "      <th>Quantity</th>\n",
              "    </tr>\n",
              "  </thead>\n",
              "  <tbody>\n",
              "    <tr>\n",
              "      <th>0</th>\n",
              "      <td>66779748</td>\n",
              "      <td>2019-01-05</td>\n",
              "      <td>11</td>\n",
              "      <td>A</td>\n",
              "      <td>New York</td>\n",
              "      <td>New York</td>\n",
              "      <td>1146795</td>\n",
              "      <td>GROCERY</td>\n",
              "      <td>False</td>\n",
              "      <td>0</td>\n",
              "      <td>NaN</td>\n",
              "      <td>NaN</td>\n",
              "      <td>NaN</td>\n",
              "      <td>6.0</td>\n",
              "    </tr>\n",
              "    <tr>\n",
              "      <th>1</th>\n",
              "      <td>66784022</td>\n",
              "      <td>2019-01-05</td>\n",
              "      <td>14</td>\n",
              "      <td>B</td>\n",
              "      <td>Los Angeles</td>\n",
              "      <td>California</td>\n",
              "      <td>1146795</td>\n",
              "      <td>GROCERY</td>\n",
              "      <td>False</td>\n",
              "      <td>0</td>\n",
              "      <td>NaN</td>\n",
              "      <td>NaN</td>\n",
              "      <td>NaN</td>\n",
              "      <td>6.0</td>\n",
              "    </tr>\n",
              "    <tr>\n",
              "      <th>2</th>\n",
              "      <td>66785409</td>\n",
              "      <td>2019-01-05</td>\n",
              "      <td>15</td>\n",
              "      <td>B</td>\n",
              "      <td>Houston</td>\n",
              "      <td>Texas</td>\n",
              "      <td>1146795</td>\n",
              "      <td>GROCERY</td>\n",
              "      <td>False</td>\n",
              "      <td>0</td>\n",
              "      <td>NaN</td>\n",
              "      <td>NaN</td>\n",
              "      <td>NaN</td>\n",
              "      <td>6.0</td>\n",
              "    </tr>\n",
              "    <tr>\n",
              "      <th>3</th>\n",
              "      <td>66791247</td>\n",
              "      <td>2019-01-05</td>\n",
              "      <td>19</td>\n",
              "      <td>B</td>\n",
              "      <td>Philadelphia</td>\n",
              "      <td>Pennsylvania</td>\n",
              "      <td>1146795</td>\n",
              "      <td>GROCERY</td>\n",
              "      <td>False</td>\n",
              "      <td>0</td>\n",
              "      <td>NaN</td>\n",
              "      <td>NaN</td>\n",
              "      <td>NaN</td>\n",
              "      <td>6.0</td>\n",
              "    </tr>\n",
              "    <tr>\n",
              "      <th>4</th>\n",
              "      <td>66796208</td>\n",
              "      <td>2019-01-05</td>\n",
              "      <td>22</td>\n",
              "      <td>B</td>\n",
              "      <td>Chicago</td>\n",
              "      <td>Illinois</td>\n",
              "      <td>1146795</td>\n",
              "      <td>GROCERY</td>\n",
              "      <td>False</td>\n",
              "      <td>0</td>\n",
              "      <td>NaN</td>\n",
              "      <td>NaN</td>\n",
              "      <td>NaN</td>\n",
              "      <td>6.0</td>\n",
              "    </tr>\n",
              "  </tbody>\n",
              "</table>\n",
              "</div>"
            ],
            "text/plain": [
              "         id        Date  ...  Holiday Transferred Quantity\n",
              "0  66779748  2019-01-05  ...                  NaN      6.0\n",
              "1  66784022  2019-01-05  ...                  NaN      6.0\n",
              "2  66785409  2019-01-05  ...                  NaN      6.0\n",
              "3  66791247  2019-01-05  ...                  NaN      6.0\n",
              "4  66796208  2019-01-05  ...                  NaN      6.0\n",
              "\n",
              "[5 rows x 14 columns]"
            ]
          },
          "metadata": {},
          "execution_count": 428
        }
      ]
    },
    {
      "cell_type": "code",
      "metadata": {
        "colab": {
          "base_uri": "https://localhost:8080/"
        },
        "id": "z1svUId_ZHvE",
        "outputId": "792e0fe7-0293-4a07-acfa-a8f53827cc34"
      },
      "source": [
        "# Checking the columns in the train.csv dataset\n",
        "\n",
        "data.columns"
      ],
      "execution_count": null,
      "outputs": [
        {
          "output_type": "execute_result",
          "data": {
            "text/plain": [
              "Index(['id', 'Date', 'Store Number', 'Store Grade', 'City', 'State',\n",
              "       'Item Number', 'Item Family', 'Promotion', 'Perishable', 'Holiday',\n",
              "       'Holiday Extent', 'Holiday Transferred', 'Quantity'],\n",
              "      dtype='object')"
            ]
          },
          "metadata": {},
          "execution_count": 429
        }
      ]
    },
    {
      "cell_type": "code",
      "metadata": {
        "colab": {
          "base_uri": "https://localhost:8080/"
        },
        "id": "DcYscYhKZL8c",
        "outputId": "f7d24037-517f-4571-f6cc-40ef21c1cc50"
      },
      "source": [
        "# Statistics of the train.csv dataset\n",
        "\n",
        "data.describe()"
      ],
      "execution_count": null,
      "outputs": [
        {
          "output_type": "execute_result",
          "data": {
            "text/html": [
              "<div>\n",
              "<style scoped>\n",
              "    .dataframe tbody tr th:only-of-type {\n",
              "        vertical-align: middle;\n",
              "    }\n",
              "\n",
              "    .dataframe tbody tr th {\n",
              "        vertical-align: top;\n",
              "    }\n",
              "\n",
              "    .dataframe thead th {\n",
              "        text-align: right;\n",
              "    }\n",
              "</style>\n",
              "<table border=\"1\" class=\"dataframe\">\n",
              "  <thead>\n",
              "    <tr style=\"text-align: right;\">\n",
              "      <th></th>\n",
              "      <th>id</th>\n",
              "      <th>Store Number</th>\n",
              "      <th>Item Number</th>\n",
              "      <th>Perishable</th>\n",
              "      <th>Quantity</th>\n",
              "    </tr>\n",
              "  </thead>\n",
              "  <tbody>\n",
              "    <tr>\n",
              "      <th>count</th>\n",
              "      <td>2.411000e+03</td>\n",
              "      <td>2411.000000</td>\n",
              "      <td>2411.0</td>\n",
              "      <td>2411.0</td>\n",
              "      <td>2411.000000</td>\n",
              "    </tr>\n",
              "    <tr>\n",
              "      <th>mean</th>\n",
              "      <td>7.815180e+07</td>\n",
              "      <td>27.083783</td>\n",
              "      <td>1146795.0</td>\n",
              "      <td>0.0</td>\n",
              "      <td>6.203650</td>\n",
              "    </tr>\n",
              "    <tr>\n",
              "      <th>std</th>\n",
              "      <td>6.503956e+06</td>\n",
              "      <td>13.192087</td>\n",
              "      <td>0.0</td>\n",
              "      <td>0.0</td>\n",
              "      <td>1.830018</td>\n",
              "    </tr>\n",
              "    <tr>\n",
              "      <th>min</th>\n",
              "      <td>6.677975e+07</td>\n",
              "      <td>11.000000</td>\n",
              "      <td>1146795.0</td>\n",
              "      <td>0.0</td>\n",
              "      <td>2.000000</td>\n",
              "    </tr>\n",
              "    <tr>\n",
              "      <th>25%</th>\n",
              "      <td>7.256662e+07</td>\n",
              "      <td>15.000000</td>\n",
              "      <td>1146795.0</td>\n",
              "      <td>0.0</td>\n",
              "      <td>5.000000</td>\n",
              "    </tr>\n",
              "    <tr>\n",
              "      <th>50%</th>\n",
              "      <td>7.824733e+07</td>\n",
              "      <td>22.000000</td>\n",
              "      <td>1146795.0</td>\n",
              "      <td>0.0</td>\n",
              "      <td>6.000000</td>\n",
              "    </tr>\n",
              "    <tr>\n",
              "      <th>75%</th>\n",
              "      <td>8.362051e+07</td>\n",
              "      <td>35.000000</td>\n",
              "      <td>1146795.0</td>\n",
              "      <td>0.0</td>\n",
              "      <td>8.000000</td>\n",
              "    </tr>\n",
              "    <tr>\n",
              "      <th>max</th>\n",
              "      <td>8.965620e+07</td>\n",
              "      <td>54.000000</td>\n",
              "      <td>1146795.0</td>\n",
              "      <td>0.0</td>\n",
              "      <td>14.000000</td>\n",
              "    </tr>\n",
              "  </tbody>\n",
              "</table>\n",
              "</div>"
            ],
            "text/plain": [
              "                 id  Store Number  Item Number  Perishable     Quantity\n",
              "count  2.411000e+03   2411.000000       2411.0      2411.0  2411.000000\n",
              "mean   7.815180e+07     27.083783    1146795.0         0.0     6.203650\n",
              "std    6.503956e+06     13.192087          0.0         0.0     1.830018\n",
              "min    6.677975e+07     11.000000    1146795.0         0.0     2.000000\n",
              "25%    7.256662e+07     15.000000    1146795.0         0.0     5.000000\n",
              "50%    7.824733e+07     22.000000    1146795.0         0.0     6.000000\n",
              "75%    8.362051e+07     35.000000    1146795.0         0.0     8.000000\n",
              "max    8.965620e+07     54.000000    1146795.0         0.0    14.000000"
            ]
          },
          "metadata": {},
          "execution_count": 430
        }
      ]
    },
    {
      "cell_type": "code",
      "metadata": {
        "colab": {
          "base_uri": "https://localhost:8080/"
        },
        "id": "uQJxuOh4Dvnm",
        "outputId": "2a79b191-0537-43cb-da97-07d9503e4150"
      },
      "source": [
        "# Removing rows having duplicate values in the 'id' column\n",
        "\n",
        "data.drop_duplicates(subset = 'id')"
      ],
      "execution_count": null,
      "outputs": [
        {
          "output_type": "execute_result",
          "data": {
            "text/html": [
              "<div>\n",
              "<style scoped>\n",
              "    .dataframe tbody tr th:only-of-type {\n",
              "        vertical-align: middle;\n",
              "    }\n",
              "\n",
              "    .dataframe tbody tr th {\n",
              "        vertical-align: top;\n",
              "    }\n",
              "\n",
              "    .dataframe thead th {\n",
              "        text-align: right;\n",
              "    }\n",
              "</style>\n",
              "<table border=\"1\" class=\"dataframe\">\n",
              "  <thead>\n",
              "    <tr style=\"text-align: right;\">\n",
              "      <th></th>\n",
              "      <th>id</th>\n",
              "      <th>Date</th>\n",
              "      <th>Store Number</th>\n",
              "      <th>Store Grade</th>\n",
              "      <th>City</th>\n",
              "      <th>State</th>\n",
              "      <th>Item Number</th>\n",
              "      <th>Item Family</th>\n",
              "      <th>Promotion</th>\n",
              "      <th>Perishable</th>\n",
              "      <th>Holiday</th>\n",
              "      <th>Holiday Extent</th>\n",
              "      <th>Holiday Transferred</th>\n",
              "      <th>Quantity</th>\n",
              "    </tr>\n",
              "  </thead>\n",
              "  <tbody>\n",
              "    <tr>\n",
              "      <th>0</th>\n",
              "      <td>66779748</td>\n",
              "      <td>2019-01-05</td>\n",
              "      <td>11</td>\n",
              "      <td>A</td>\n",
              "      <td>New York</td>\n",
              "      <td>New York</td>\n",
              "      <td>1146795</td>\n",
              "      <td>GROCERY</td>\n",
              "      <td>False</td>\n",
              "      <td>0</td>\n",
              "      <td>NaN</td>\n",
              "      <td>NaN</td>\n",
              "      <td>NaN</td>\n",
              "      <td>6.0</td>\n",
              "    </tr>\n",
              "    <tr>\n",
              "      <th>1</th>\n",
              "      <td>66784022</td>\n",
              "      <td>2019-01-05</td>\n",
              "      <td>14</td>\n",
              "      <td>B</td>\n",
              "      <td>Los Angeles</td>\n",
              "      <td>California</td>\n",
              "      <td>1146795</td>\n",
              "      <td>GROCERY</td>\n",
              "      <td>False</td>\n",
              "      <td>0</td>\n",
              "      <td>NaN</td>\n",
              "      <td>NaN</td>\n",
              "      <td>NaN</td>\n",
              "      <td>6.0</td>\n",
              "    </tr>\n",
              "    <tr>\n",
              "      <th>2</th>\n",
              "      <td>66785409</td>\n",
              "      <td>2019-01-05</td>\n",
              "      <td>15</td>\n",
              "      <td>B</td>\n",
              "      <td>Houston</td>\n",
              "      <td>Texas</td>\n",
              "      <td>1146795</td>\n",
              "      <td>GROCERY</td>\n",
              "      <td>False</td>\n",
              "      <td>0</td>\n",
              "      <td>NaN</td>\n",
              "      <td>NaN</td>\n",
              "      <td>NaN</td>\n",
              "      <td>6.0</td>\n",
              "    </tr>\n",
              "    <tr>\n",
              "      <th>3</th>\n",
              "      <td>66791247</td>\n",
              "      <td>2019-01-05</td>\n",
              "      <td>19</td>\n",
              "      <td>B</td>\n",
              "      <td>Philadelphia</td>\n",
              "      <td>Pennsylvania</td>\n",
              "      <td>1146795</td>\n",
              "      <td>GROCERY</td>\n",
              "      <td>False</td>\n",
              "      <td>0</td>\n",
              "      <td>NaN</td>\n",
              "      <td>NaN</td>\n",
              "      <td>NaN</td>\n",
              "      <td>6.0</td>\n",
              "    </tr>\n",
              "    <tr>\n",
              "      <th>4</th>\n",
              "      <td>66796208</td>\n",
              "      <td>2019-01-05</td>\n",
              "      <td>22</td>\n",
              "      <td>B</td>\n",
              "      <td>Chicago</td>\n",
              "      <td>Illinois</td>\n",
              "      <td>1146795</td>\n",
              "      <td>GROCERY</td>\n",
              "      <td>False</td>\n",
              "      <td>0</td>\n",
              "      <td>NaN</td>\n",
              "      <td>NaN</td>\n",
              "      <td>NaN</td>\n",
              "      <td>6.0</td>\n",
              "    </tr>\n",
              "    <tr>\n",
              "      <th>...</th>\n",
              "      <td>...</td>\n",
              "      <td>...</td>\n",
              "      <td>...</td>\n",
              "      <td>...</td>\n",
              "      <td>...</td>\n",
              "      <td>...</td>\n",
              "      <td>...</td>\n",
              "      <td>...</td>\n",
              "      <td>...</td>\n",
              "      <td>...</td>\n",
              "      <td>...</td>\n",
              "      <td>...</td>\n",
              "      <td>...</td>\n",
              "      <td>...</td>\n",
              "    </tr>\n",
              "    <tr>\n",
              "      <th>2406</th>\n",
              "      <td>89598432</td>\n",
              "      <td>2019-08-31</td>\n",
              "      <td>22</td>\n",
              "      <td>B</td>\n",
              "      <td>Chicago</td>\n",
              "      <td>Illinois</td>\n",
              "      <td>1146795</td>\n",
              "      <td>GROCERY</td>\n",
              "      <td>False</td>\n",
              "      <td>0</td>\n",
              "      <td>NaN</td>\n",
              "      <td>NaN</td>\n",
              "      <td>NaN</td>\n",
              "      <td>4.0</td>\n",
              "    </tr>\n",
              "    <tr>\n",
              "      <th>2407</th>\n",
              "      <td>89614679</td>\n",
              "      <td>2019-08-31</td>\n",
              "      <td>33</td>\n",
              "      <td>B</td>\n",
              "      <td>San Antonio</td>\n",
              "      <td>Texas</td>\n",
              "      <td>1146795</td>\n",
              "      <td>GROCERY</td>\n",
              "      <td>False</td>\n",
              "      <td>0</td>\n",
              "      <td>NaN</td>\n",
              "      <td>NaN</td>\n",
              "      <td>NaN</td>\n",
              "      <td>4.0</td>\n",
              "    </tr>\n",
              "    <tr>\n",
              "      <th>2408</th>\n",
              "      <td>89617687</td>\n",
              "      <td>2019-08-31</td>\n",
              "      <td>35</td>\n",
              "      <td>B</td>\n",
              "      <td>San Diego</td>\n",
              "      <td>California</td>\n",
              "      <td>1146795</td>\n",
              "      <td>GROCERY</td>\n",
              "      <td>False</td>\n",
              "      <td>0</td>\n",
              "      <td>NaN</td>\n",
              "      <td>NaN</td>\n",
              "      <td>NaN</td>\n",
              "      <td>4.0</td>\n",
              "    </tr>\n",
              "    <tr>\n",
              "      <th>2409</th>\n",
              "      <td>89632466</td>\n",
              "      <td>2019-08-31</td>\n",
              "      <td>43</td>\n",
              "      <td>D</td>\n",
              "      <td>Seattle</td>\n",
              "      <td>Washington</td>\n",
              "      <td>1146795</td>\n",
              "      <td>GROCERY</td>\n",
              "      <td>False</td>\n",
              "      <td>0</td>\n",
              "      <td>NaN</td>\n",
              "      <td>NaN</td>\n",
              "      <td>NaN</td>\n",
              "      <td>4.0</td>\n",
              "    </tr>\n",
              "    <tr>\n",
              "      <th>2410</th>\n",
              "      <td>89656195</td>\n",
              "      <td>2019-08-31</td>\n",
              "      <td>54</td>\n",
              "      <td>B</td>\n",
              "      <td>Boston</td>\n",
              "      <td>Massachusetts</td>\n",
              "      <td>1146795</td>\n",
              "      <td>GROCERY</td>\n",
              "      <td>False</td>\n",
              "      <td>0</td>\n",
              "      <td>NaN</td>\n",
              "      <td>NaN</td>\n",
              "      <td>NaN</td>\n",
              "      <td>4.0</td>\n",
              "    </tr>\n",
              "  </tbody>\n",
              "</table>\n",
              "<p>2325 rows × 14 columns</p>\n",
              "</div>"
            ],
            "text/plain": [
              "            id        Date  ...  Holiday Transferred Quantity\n",
              "0     66779748  2019-01-05  ...                  NaN      6.0\n",
              "1     66784022  2019-01-05  ...                  NaN      6.0\n",
              "2     66785409  2019-01-05  ...                  NaN      6.0\n",
              "3     66791247  2019-01-05  ...                  NaN      6.0\n",
              "4     66796208  2019-01-05  ...                  NaN      6.0\n",
              "...        ...         ...  ...                  ...      ...\n",
              "2406  89598432  2019-08-31  ...                  NaN      4.0\n",
              "2407  89614679  2019-08-31  ...                  NaN      4.0\n",
              "2408  89617687  2019-08-31  ...                  NaN      4.0\n",
              "2409  89632466  2019-08-31  ...                  NaN      4.0\n",
              "2410  89656195  2019-08-31  ...                  NaN      4.0\n",
              "\n",
              "[2325 rows x 14 columns]"
            ]
          },
          "metadata": {},
          "execution_count": 431
        }
      ]
    },
    {
      "cell_type": "markdown",
      "metadata": {
        "id": "BsVXpVcXcps9"
      },
      "source": [
        "# dealing with empty values"
      ]
    },
    {
      "cell_type": "code",
      "metadata": {
        "colab": {
          "base_uri": "https://localhost:8080/"
        },
        "id": "Bw7e0eeLcovC",
        "outputId": "88e8d64c-353d-47ca-fa7a-6a4ab168f007"
      },
      "source": [
        "# counting null values in every row\n",
        "\n",
        "for i,j in data.iteritems():\n",
        "  print(i)\n",
        "  print(data[i].isna().sum())"
      ],
      "execution_count": null,
      "outputs": [
        {
          "output_type": "stream",
          "name": "stdout",
          "text": [
            "id\n",
            "0\n",
            "Date\n",
            "0\n",
            "Store Number\n",
            "0\n",
            "Store Grade\n",
            "0\n",
            "City\n",
            "0\n",
            "State\n",
            "0\n",
            "Item Number\n",
            "0\n",
            "Item Family\n",
            "0\n",
            "Promotion\n",
            "0\n",
            "Perishable\n",
            "0\n",
            "Holiday\n",
            "1824\n",
            "Holiday Extent\n",
            "1824\n",
            "Holiday Transferred\n",
            "1824\n",
            "Quantity\n",
            "0\n"
          ]
        }
      ]
    },
    {
      "cell_type": "code",
      "metadata": {
        "colab": {
          "base_uri": "https://localhost:8080/"
        },
        "id": "HvxUtNvrcosr",
        "outputId": "d742afdf-990f-4fea-b04d-05ddc603615c"
      },
      "source": [
        "# analyzing the columns that have null values\n",
        "\n",
        "print(data['Holiday'].value_counts())\n",
        "print(data['Holiday Extent'].value_counts())\n",
        "print(data['Holiday Transferred'].value_counts())"
      ],
      "execution_count": null,
      "outputs": [
        {
          "output_type": "stream",
          "name": "stdout",
          "text": [
            "Holiday    587\n",
            "Name: Holiday, dtype: int64\n",
            "National    403\n",
            "Local       165\n",
            "Regional     19\n",
            "Name: Holiday Extent, dtype: int64\n",
            "False    557\n",
            "True      30\n",
            "Name: Holiday Transferred, dtype: int64\n"
          ]
        }
      ]
    },
    {
      "cell_type": "code",
      "metadata": {
        "id": "QRNRtNgzcoqC"
      },
      "source": [
        "# For columns having null values, we replace them with 'N/A' or 'Not Holiday'\n",
        "\n",
        "values = {\"Holiday\": 'Not Holiday', \"Holiday Extent\": 'N/A', \"Holiday Transferred\": 'N/A'}\n",
        "data = data.fillna(value = values)"
      ],
      "execution_count": null,
      "outputs": []
    },
    {
      "cell_type": "markdown",
      "metadata": {
        "id": "CLcZg4eect8B"
      },
      "source": [
        "# analyzing columns"
      ]
    },
    {
      "cell_type": "code",
      "metadata": {
        "colab": {
          "base_uri": "https://localhost:8080/"
        },
        "id": "IHMI173YaSmo",
        "outputId": "2f06a768-a4e7-4a0c-a31b-75ee619c3f91"
      },
      "source": [
        "# checking unique values in every columns\n",
        "\n",
        "for i,j in data.iteritems():\n",
        "  print(\"The {} column has {} unique values\".format(i,data[i].nunique()))\n",
        "  # thinking to do one hot encoding or label encoding of string variable"
      ],
      "execution_count": null,
      "outputs": [
        {
          "output_type": "stream",
          "name": "stdout",
          "text": [
            "The id column has 2325 unique values\n",
            "The Date column has 239 unique values\n",
            "The Store Number column has 10 unique values\n",
            "The Store Grade column has 4 unique values\n",
            "The City column has 10 unique values\n",
            "The State column has 8 unique values\n",
            "The Item Number column has 1 unique values\n",
            "The Item Family column has 1 unique values\n",
            "The Promotion column has 2 unique values\n",
            "The Perishable column has 1 unique values\n",
            "The Holiday column has 2 unique values\n",
            "The Holiday Extent column has 4 unique values\n",
            "The Holiday Transferred column has 3 unique values\n",
            "The Quantity column has 12 unique values\n"
          ]
        }
      ]
    },
    {
      "cell_type": "markdown",
      "metadata": {
        "id": "kkqlmDF51eIW"
      },
      "source": [
        "the item number, Item family and Perishable column have only one unique value so it is not viable to use this column so we are dropping these columns"
      ]
    },
    {
      "cell_type": "code",
      "metadata": {
        "id": "_cGBh2RhaSlj"
      },
      "source": [
        "# dropping the unwanted columns\n",
        "\n",
        "data = data.drop(['Item Number', 'Item Family', 'Perishable'], axis = 1)"
      ],
      "execution_count": null,
      "outputs": []
    },
    {
      "cell_type": "code",
      "metadata": {
        "id": "_M7BF9-NSv8A"
      },
      "source": [
        "# Creating the 'dayofyear' column, equivalent to days of the week\n",
        "\n",
        "data['dayofyear'] = pd.to_datetime(data.iloc[:,1]).dt.weekday"
      ],
      "execution_count": null,
      "outputs": []
    },
    {
      "cell_type": "code",
      "metadata": {
        "id": "lYuIIEi2K1Lh"
      },
      "source": [
        "col = ['id', 'Date', 'Store Number', 'City', 'State',\n",
        "       'Promotion', 'Holiday', 'Holiday Extent', 'Holiday Transferred',\n",
        "       'dayofyear','Store Grade', 'Quantity']"
      ],
      "execution_count": null,
      "outputs": []
    },
    {
      "cell_type": "code",
      "metadata": {
        "id": "bhAWF309LADW"
      },
      "source": [
        "# Changing the order of columns in the training dataset to the order given in the 'col' list\n",
        "\n",
        "data = data.reindex(columns=col)"
      ],
      "execution_count": null,
      "outputs": []
    },
    {
      "cell_type": "code",
      "metadata": {
        "id": "_PdWOV3zMQsT"
      },
      "source": [
        "le = LabelEncoder()"
      ],
      "execution_count": null,
      "outputs": []
    },
    {
      "cell_type": "code",
      "metadata": {
        "id": "Z_LnTbJiJwTZ"
      },
      "source": [
        "# label encoding the data \n",
        "data.iloc[:,2:-2] = data.iloc[:,2:-2].apply(lambda col: le.fit_transform(col.astype(str)), axis=0, result_type='expand')"
      ],
      "execution_count": null,
      "outputs": []
    },
    {
      "cell_type": "code",
      "metadata": {
        "colab": {
          "base_uri": "https://localhost:8080/"
        },
        "id": "Y6i8pIEdJwLw",
        "outputId": "955003a3-8244-44c3-c548-3612a4d5a3e3"
      },
      "source": [
        "data.head() "
      ],
      "execution_count": null,
      "outputs": [
        {
          "output_type": "execute_result",
          "data": {
            "text/html": [
              "<div>\n",
              "<style scoped>\n",
              "    .dataframe tbody tr th:only-of-type {\n",
              "        vertical-align: middle;\n",
              "    }\n",
              "\n",
              "    .dataframe tbody tr th {\n",
              "        vertical-align: top;\n",
              "    }\n",
              "\n",
              "    .dataframe thead th {\n",
              "        text-align: right;\n",
              "    }\n",
              "</style>\n",
              "<table border=\"1\" class=\"dataframe\">\n",
              "  <thead>\n",
              "    <tr style=\"text-align: right;\">\n",
              "      <th></th>\n",
              "      <th>id</th>\n",
              "      <th>Date</th>\n",
              "      <th>Store Number</th>\n",
              "      <th>City</th>\n",
              "      <th>State</th>\n",
              "      <th>Promotion</th>\n",
              "      <th>Holiday</th>\n",
              "      <th>Holiday Extent</th>\n",
              "      <th>Holiday Transferred</th>\n",
              "      <th>dayofyear</th>\n",
              "      <th>Store Grade</th>\n",
              "      <th>Quantity</th>\n",
              "    </tr>\n",
              "  </thead>\n",
              "  <tbody>\n",
              "    <tr>\n",
              "      <th>0</th>\n",
              "      <td>66779748</td>\n",
              "      <td>2019-01-05</td>\n",
              "      <td>0</td>\n",
              "      <td>4</td>\n",
              "      <td>4</td>\n",
              "      <td>0</td>\n",
              "      <td>1</td>\n",
              "      <td>1</td>\n",
              "      <td>1</td>\n",
              "      <td>5</td>\n",
              "      <td>A</td>\n",
              "      <td>6.0</td>\n",
              "    </tr>\n",
              "    <tr>\n",
              "      <th>1</th>\n",
              "      <td>66784022</td>\n",
              "      <td>2019-01-05</td>\n",
              "      <td>1</td>\n",
              "      <td>3</td>\n",
              "      <td>1</td>\n",
              "      <td>0</td>\n",
              "      <td>1</td>\n",
              "      <td>1</td>\n",
              "      <td>1</td>\n",
              "      <td>5</td>\n",
              "      <td>B</td>\n",
              "      <td>6.0</td>\n",
              "    </tr>\n",
              "    <tr>\n",
              "      <th>2</th>\n",
              "      <td>66785409</td>\n",
              "      <td>2019-01-05</td>\n",
              "      <td>2</td>\n",
              "      <td>2</td>\n",
              "      <td>6</td>\n",
              "      <td>0</td>\n",
              "      <td>1</td>\n",
              "      <td>1</td>\n",
              "      <td>1</td>\n",
              "      <td>5</td>\n",
              "      <td>B</td>\n",
              "      <td>6.0</td>\n",
              "    </tr>\n",
              "    <tr>\n",
              "      <th>3</th>\n",
              "      <td>66791247</td>\n",
              "      <td>2019-01-05</td>\n",
              "      <td>3</td>\n",
              "      <td>5</td>\n",
              "      <td>5</td>\n",
              "      <td>0</td>\n",
              "      <td>1</td>\n",
              "      <td>1</td>\n",
              "      <td>1</td>\n",
              "      <td>5</td>\n",
              "      <td>B</td>\n",
              "      <td>6.0</td>\n",
              "    </tr>\n",
              "    <tr>\n",
              "      <th>4</th>\n",
              "      <td>66796208</td>\n",
              "      <td>2019-01-05</td>\n",
              "      <td>4</td>\n",
              "      <td>1</td>\n",
              "      <td>2</td>\n",
              "      <td>0</td>\n",
              "      <td>1</td>\n",
              "      <td>1</td>\n",
              "      <td>1</td>\n",
              "      <td>5</td>\n",
              "      <td>B</td>\n",
              "      <td>6.0</td>\n",
              "    </tr>\n",
              "  </tbody>\n",
              "</table>\n",
              "</div>"
            ],
            "text/plain": [
              "         id        Date  Store Number  ...  dayofyear  Store Grade  Quantity\n",
              "0  66779748  2019-01-05             0  ...          5            A       6.0\n",
              "1  66784022  2019-01-05             1  ...          5            B       6.0\n",
              "2  66785409  2019-01-05             2  ...          5            B       6.0\n",
              "3  66791247  2019-01-05             3  ...          5            B       6.0\n",
              "4  66796208  2019-01-05             4  ...          5            B       6.0\n",
              "\n",
              "[5 rows x 12 columns]"
            ]
          },
          "metadata": {},
          "execution_count": 442
        }
      ]
    },
    {
      "cell_type": "code",
      "metadata": {
        "id": "KrslQrwly-OP"
      },
      "source": [
        "# Changing the 4 distinct values in the 'Store Grade' to numbers\n",
        "\n",
        "data.iloc[:,-2] = data.iloc[:,-2].replace({'A':4, 'B':3, 'C':2, 'D':1})"
      ],
      "execution_count": null,
      "outputs": []
    },
    {
      "cell_type": "markdown",
      "metadata": {
        "id": "r-PoqRXAMdi5"
      },
      "source": [
        "# Visualizing the data"
      ]
    },
    {
      "cell_type": "code",
      "metadata": {
        "id": "QigsScG0PJUX"
      },
      "source": [
        "# Average sales per day of week\n",
        "\n",
        "df1 = data.groupby(['dayofyear']).mean()"
      ],
      "execution_count": null,
      "outputs": []
    },
    {
      "cell_type": "code",
      "metadata": {
        "colab": {
          "base_uri": "https://localhost:8080/"
        },
        "id": "jcmhfEBNPUhJ",
        "outputId": "d415cf97-cf80-4b2d-8f50-323bc462b159"
      },
      "source": [
        "df1.plot.bar(y= 'Quantity')"
      ],
      "execution_count": null,
      "outputs": [
        {
          "output_type": "execute_result",
          "data": {
            "text/plain": [
              "<matplotlib.axes._subplots.AxesSubplot at 0x7f93a4088d10>"
            ]
          },
          "metadata": {},
          "execution_count": 445
        },
        {
          "output_type": "display_data",
          "data": {
            "image/png": "[encoded data removed]",
            "text/plain": [
              "<Figure size 432x288 with 1 Axes>"
            ]
          },
          "metadata": {
            "needs_background": "light"
          }
        }
      ]
    },
    {
      "cell_type": "code",
      "metadata": {
        "colab": {
          "base_uri": "https://localhost:8080/"
        },
        "id": "wGfrS7HkKJAf",
        "outputId": "f97e3caa-1751-4612-c7e0-fce2783ee0af"
      },
      "source": [
        "data.plot(y = 'Quantity')"
      ],
      "execution_count": null,
      "outputs": [
        {
          "output_type": "execute_result",
          "data": {
            "text/plain": [
              "<matplotlib.axes._subplots.AxesSubplot at 0x7f93a3ee1cd0>"
            ]
          },
          "metadata": {},
          "execution_count": 446
        },
        {
          "output_type": "display_data",
          "data": {
            "image/png": "[encoded data removed]",
            "text/plain": [
              "<Figure size 432x288 with 1 Axes>"
            ]
          },
          "metadata": {
            "needs_background": "light"
          }
        }
      ]
    },
    {
      "cell_type": "code",
      "metadata": {
        "colab": {
          "base_uri": "https://localhost:8080/"
        },
        "id": "BgsL6cxMNadA",
        "outputId": "338c653a-3f4f-4692-a9d4-0fd14554e0a7"
      },
      "source": [
        "data.plot(x='id',y='Quantity',kind= 'box')"
      ],
      "execution_count": null,
      "outputs": [
        {
          "output_type": "execute_result",
          "data": {
            "text/plain": [
              "<matplotlib.axes._subplots.AxesSubplot at 0x7f9391603210>"
            ]
          },
          "metadata": {},
          "execution_count": 447
        },
        {
          "output_type": "display_data",
          "data": {
            "image/png": "[encoded data removed]",
            "text/plain": [
              "<Figure size 432x288 with 1 Axes>"
            ]
          },
          "metadata": {
            "needs_background": "light"
          }
        }
      ]
    },
    {
      "cell_type": "code",
      "metadata": {
        "colab": {
          "base_uri": "https://localhost:8080/"
        },
        "id": "osF9qoQsMLgz",
        "outputId": "d596239a-c10c-420e-93a5-d09ecfdfd5b8"
      },
      "source": [
        "#removing outliers\n",
        "\n",
        "dat = data.loc[data['Quantity']==14]\n",
        "print(dat)\n",
        "data.drop(data[data['Quantity'] == 14].index, inplace = True)"
      ],
      "execution_count": null,
      "outputs": [
        {
          "output_type": "stream",
          "name": "stdout",
          "text": [
            "           id        Date  Store Number  ...  dayofyear  Store Grade  Quantity\n",
            "886  75331438  2019-04-04             6  ...          3            3      14.0\n",
            "887  75348901  2019-04-04             8  ...          3            1      14.0\n",
            "\n",
            "[2 rows x 12 columns]\n"
          ]
        }
      ]
    },
    {
      "cell_type": "code",
      "metadata": {
        "colab": {
          "base_uri": "https://localhost:8080/"
        },
        "id": "1wgGQ83FMoVB",
        "outputId": "0d220c25-3966-4922-e2d7-90ab34132c45"
      },
      "source": [
        "# Correlation matrix\n",
        "\n",
        "corr = data.corr()\n",
        "corr.shape\n",
        "\n",
        "plt.figure(figsize=(15,30))\n",
        "sns.heatmap(corr, cbar=True, square=True, fmt='.1f', annot=True, annot_kws={'size':15}, cmap='Greens')"
      ],
      "execution_count": null,
      "outputs": [
        {
          "output_type": "execute_result",
          "data": {
            "text/plain": [
              "<matplotlib.axes._subplots.AxesSubplot at 0x7f93a3fdcd10>"
            ]
          },
          "metadata": {},
          "execution_count": 449
        },
        {
          "output_type": "display_data",
          "data": {
            "image/png": "[encoded data removed]",
            "text/plain": [
              "<Figure size 1080x2160 with 2 Axes>"
            ]
          },
          "metadata": {
            "needs_background": "light"
          }
        }
      ]
    },
    {
      "cell_type": "code",
      "metadata": {
        "id": "YlBz1ftAMuPo"
      },
      "source": [
        "cols = ['Store Number', 'City', 'State',\n",
        "        'Promotion', 'Holiday', 'Holiday Extent', 'Holiday Transferred',\n",
        "        'dayofyear']"
      ],
      "execution_count": null,
      "outputs": []
    },
    {
      "cell_type": "code",
      "metadata": {
        "id": "9FdnfznI633H"
      },
      "source": [
        " # one hot encoding columns having less unique values\n",
        " \n",
        " df = pd.get_dummies(data, columns=cols)"
      ],
      "execution_count": null,
      "outputs": []
    },
    {
      "cell_type": "code",
      "metadata": {
        "colab": {
          "base_uri": "https://localhost:8080/"
        },
        "id": "ZWDqJf4caSi8",
        "outputId": "d5f82b8b-2243-4ba0-f55f-fd032f39e437"
      },
      "source": [
        "df.head()"
      ],
      "execution_count": null,
      "outputs": [
        {
          "output_type": "execute_result",
          "data": {
            "text/html": [
              "<div>\n",
              "<style scoped>\n",
              "    .dataframe tbody tr th:only-of-type {\n",
              "        vertical-align: middle;\n",
              "    }\n",
              "\n",
              "    .dataframe tbody tr th {\n",
              "        vertical-align: top;\n",
              "    }\n",
              "\n",
              "    .dataframe thead th {\n",
              "        text-align: right;\n",
              "    }\n",
              "</style>\n",
              "<table border=\"1\" class=\"dataframe\">\n",
              "  <thead>\n",
              "    <tr style=\"text-align: right;\">\n",
              "      <th></th>\n",
              "      <th>id</th>\n",
              "      <th>Date</th>\n",
              "      <th>Store Grade</th>\n",
              "      <th>Quantity</th>\n",
              "      <th>Store Number_0</th>\n",
              "      <th>Store Number_1</th>\n",
              "      <th>Store Number_2</th>\n",
              "      <th>Store Number_3</th>\n",
              "      <th>Store Number_4</th>\n",
              "      <th>Store Number_5</th>\n",
              "      <th>Store Number_6</th>\n",
              "      <th>Store Number_7</th>\n",
              "      <th>Store Number_8</th>\n",
              "      <th>Store Number_9</th>\n",
              "      <th>City_0</th>\n",
              "      <th>City_1</th>\n",
              "      <th>City_2</th>\n",
              "      <th>City_3</th>\n",
              "      <th>City_4</th>\n",
              "      <th>City_5</th>\n",
              "      <th>City_6</th>\n",
              "      <th>City_7</th>\n",
              "      <th>City_8</th>\n",
              "      <th>City_9</th>\n",
              "      <th>State_0</th>\n",
              "      <th>State_1</th>\n",
              "      <th>State_2</th>\n",
              "      <th>State_3</th>\n",
              "      <th>State_4</th>\n",
              "      <th>State_5</th>\n",
              "      <th>State_6</th>\n",
              "      <th>State_7</th>\n",
              "      <th>Promotion_0</th>\n",
              "      <th>Promotion_1</th>\n",
              "      <th>Holiday_0</th>\n",
              "      <th>Holiday_1</th>\n",
              "      <th>Holiday Extent_0</th>\n",
              "      <th>Holiday Extent_1</th>\n",
              "      <th>Holiday Extent_2</th>\n",
              "      <th>Holiday Extent_3</th>\n",
              "      <th>Holiday Transferred_0</th>\n",
              "      <th>Holiday Transferred_1</th>\n",
              "      <th>Holiday Transferred_2</th>\n",
              "      <th>dayofyear_0</th>\n",
              "      <th>dayofyear_1</th>\n",
              "      <th>dayofyear_2</th>\n",
              "      <th>dayofyear_3</th>\n",
              "      <th>dayofyear_4</th>\n",
              "      <th>dayofyear_5</th>\n",
              "      <th>dayofyear_6</th>\n",
              "    </tr>\n",
              "  </thead>\n",
              "  <tbody>\n",
              "    <tr>\n",
              "      <th>0</th>\n",
              "      <td>66779748</td>\n",
              "      <td>2019-01-05</td>\n",
              "      <td>4</td>\n",
              "      <td>6.0</td>\n",
              "      <td>1</td>\n",
              "      <td>0</td>\n",
              "      <td>0</td>\n",
              "      <td>0</td>\n",
              "      <td>0</td>\n",
              "      <td>0</td>\n",
              "      <td>0</td>\n",
              "      <td>0</td>\n",
              "      <td>0</td>\n",
              "      <td>0</td>\n",
              "      <td>0</td>\n",
              "      <td>0</td>\n",
              "      <td>0</td>\n",
              "      <td>0</td>\n",
              "      <td>1</td>\n",
              "      <td>0</td>\n",
              "      <td>0</td>\n",
              "      <td>0</td>\n",
              "      <td>0</td>\n",
              "      <td>0</td>\n",
              "      <td>0</td>\n",
              "      <td>0</td>\n",
              "      <td>0</td>\n",
              "      <td>0</td>\n",
              "      <td>1</td>\n",
              "      <td>0</td>\n",
              "      <td>0</td>\n",
              "      <td>0</td>\n",
              "      <td>1</td>\n",
              "      <td>0</td>\n",
              "      <td>0</td>\n",
              "      <td>1</td>\n",
              "      <td>0</td>\n",
              "      <td>1</td>\n",
              "      <td>0</td>\n",
              "      <td>0</td>\n",
              "      <td>0</td>\n",
              "      <td>1</td>\n",
              "      <td>0</td>\n",
              "      <td>0</td>\n",
              "      <td>0</td>\n",
              "      <td>0</td>\n",
              "      <td>0</td>\n",
              "      <td>0</td>\n",
              "      <td>1</td>\n",
              "      <td>0</td>\n",
              "    </tr>\n",
              "    <tr>\n",
              "      <th>1</th>\n",
              "      <td>66784022</td>\n",
              "      <td>2019-01-05</td>\n",
              "      <td>3</td>\n",
              "      <td>6.0</td>\n",
              "      <td>0</td>\n",
              "      <td>1</td>\n",
              "      <td>0</td>\n",
              "      <td>0</td>\n",
              "      <td>0</td>\n",
              "      <td>0</td>\n",
              "      <td>0</td>\n",
              "      <td>0</td>\n",
              "      <td>0</td>\n",
              "      <td>0</td>\n",
              "      <td>0</td>\n",
              "      <td>0</td>\n",
              "      <td>0</td>\n",
              "      <td>1</td>\n",
              "      <td>0</td>\n",
              "      <td>0</td>\n",
              "      <td>0</td>\n",
              "      <td>0</td>\n",
              "      <td>0</td>\n",
              "      <td>0</td>\n",
              "      <td>0</td>\n",
              "      <td>1</td>\n",
              "      <td>0</td>\n",
              "      <td>0</td>\n",
              "      <td>0</td>\n",
              "      <td>0</td>\n",
              "      <td>0</td>\n",
              "      <td>0</td>\n",
              "      <td>1</td>\n",
              "      <td>0</td>\n",
              "      <td>0</td>\n",
              "      <td>1</td>\n",
              "      <td>0</td>\n",
              "      <td>1</td>\n",
              "      <td>0</td>\n",
              "      <td>0</td>\n",
              "      <td>0</td>\n",
              "      <td>1</td>\n",
              "      <td>0</td>\n",
              "      <td>0</td>\n",
              "      <td>0</td>\n",
              "      <td>0</td>\n",
              "      <td>0</td>\n",
              "      <td>0</td>\n",
              "      <td>1</td>\n",
              "      <td>0</td>\n",
              "    </tr>\n",
              "    <tr>\n",
              "      <th>2</th>\n",
              "      <td>66785409</td>\n",
              "      <td>2019-01-05</td>\n",
              "      <td>3</td>\n",
              "      <td>6.0</td>\n",
              "      <td>0</td>\n",
              "      <td>0</td>\n",
              "      <td>1</td>\n",
              "      <td>0</td>\n",
              "      <td>0</td>\n",
              "      <td>0</td>\n",
              "      <td>0</td>\n",
              "      <td>0</td>\n",
              "      <td>0</td>\n",
              "      <td>0</td>\n",
              "      <td>0</td>\n",
              "      <td>0</td>\n",
              "      <td>1</td>\n",
              "      <td>0</td>\n",
              "      <td>0</td>\n",
              "      <td>0</td>\n",
              "      <td>0</td>\n",
              "      <td>0</td>\n",
              "      <td>0</td>\n",
              "      <td>0</td>\n",
              "      <td>0</td>\n",
              "      <td>0</td>\n",
              "      <td>0</td>\n",
              "      <td>0</td>\n",
              "      <td>0</td>\n",
              "      <td>0</td>\n",
              "      <td>1</td>\n",
              "      <td>0</td>\n",
              "      <td>1</td>\n",
              "      <td>0</td>\n",
              "      <td>0</td>\n",
              "      <td>1</td>\n",
              "      <td>0</td>\n",
              "      <td>1</td>\n",
              "      <td>0</td>\n",
              "      <td>0</td>\n",
              "      <td>0</td>\n",
              "      <td>1</td>\n",
              "      <td>0</td>\n",
              "      <td>0</td>\n",
              "      <td>0</td>\n",
              "      <td>0</td>\n",
              "      <td>0</td>\n",
              "      <td>0</td>\n",
              "      <td>1</td>\n",
              "      <td>0</td>\n",
              "    </tr>\n",
              "    <tr>\n",
              "      <th>3</th>\n",
              "      <td>66791247</td>\n",
              "      <td>2019-01-05</td>\n",
              "      <td>3</td>\n",
              "      <td>6.0</td>\n",
              "      <td>0</td>\n",
              "      <td>0</td>\n",
              "      <td>0</td>\n",
              "      <td>1</td>\n",
              "      <td>0</td>\n",
              "      <td>0</td>\n",
              "      <td>0</td>\n",
              "      <td>0</td>\n",
              "      <td>0</td>\n",
              "      <td>0</td>\n",
              "      <td>0</td>\n",
              "      <td>0</td>\n",
              "      <td>0</td>\n",
              "      <td>0</td>\n",
              "      <td>0</td>\n",
              "      <td>1</td>\n",
              "      <td>0</td>\n",
              "      <td>0</td>\n",
              "      <td>0</td>\n",
              "      <td>0</td>\n",
              "      <td>0</td>\n",
              "      <td>0</td>\n",
              "      <td>0</td>\n",
              "      <td>0</td>\n",
              "      <td>0</td>\n",
              "      <td>1</td>\n",
              "      <td>0</td>\n",
              "      <td>0</td>\n",
              "      <td>1</td>\n",
              "      <td>0</td>\n",
              "      <td>0</td>\n",
              "      <td>1</td>\n",
              "      <td>0</td>\n",
              "      <td>1</td>\n",
              "      <td>0</td>\n",
              "      <td>0</td>\n",
              "      <td>0</td>\n",
              "      <td>1</td>\n",
              "      <td>0</td>\n",
              "      <td>0</td>\n",
              "      <td>0</td>\n",
              "      <td>0</td>\n",
              "      <td>0</td>\n",
              "      <td>0</td>\n",
              "      <td>1</td>\n",
              "      <td>0</td>\n",
              "    </tr>\n",
              "    <tr>\n",
              "      <th>4</th>\n",
              "      <td>66796208</td>\n",
              "      <td>2019-01-05</td>\n",
              "      <td>3</td>\n",
              "      <td>6.0</td>\n",
              "      <td>0</td>\n",
              "      <td>0</td>\n",
              "      <td>0</td>\n",
              "      <td>0</td>\n",
              "      <td>1</td>\n",
              "      <td>0</td>\n",
              "      <td>0</td>\n",
              "      <td>0</td>\n",
              "      <td>0</td>\n",
              "      <td>0</td>\n",
              "      <td>0</td>\n",
              "      <td>1</td>\n",
              "      <td>0</td>\n",
              "      <td>0</td>\n",
              "      <td>0</td>\n",
              "      <td>0</td>\n",
              "      <td>0</td>\n",
              "      <td>0</td>\n",
              "      <td>0</td>\n",
              "      <td>0</td>\n",
              "      <td>0</td>\n",
              "      <td>0</td>\n",
              "      <td>1</td>\n",
              "      <td>0</td>\n",
              "      <td>0</td>\n",
              "      <td>0</td>\n",
              "      <td>0</td>\n",
              "      <td>0</td>\n",
              "      <td>1</td>\n",
              "      <td>0</td>\n",
              "      <td>0</td>\n",
              "      <td>1</td>\n",
              "      <td>0</td>\n",
              "      <td>1</td>\n",
              "      <td>0</td>\n",
              "      <td>0</td>\n",
              "      <td>0</td>\n",
              "      <td>1</td>\n",
              "      <td>0</td>\n",
              "      <td>0</td>\n",
              "      <td>0</td>\n",
              "      <td>0</td>\n",
              "      <td>0</td>\n",
              "      <td>0</td>\n",
              "      <td>1</td>\n",
              "      <td>0</td>\n",
              "    </tr>\n",
              "  </tbody>\n",
              "</table>\n",
              "</div>"
            ],
            "text/plain": [
              "         id        Date  Store Grade  ...  dayofyear_4  dayofyear_5  dayofyear_6\n",
              "0  66779748  2019-01-05            4  ...            0            1            0\n",
              "1  66784022  2019-01-05            3  ...            0            1            0\n",
              "2  66785409  2019-01-05            3  ...            0            1            0\n",
              "3  66791247  2019-01-05            3  ...            0            1            0\n",
              "4  66796208  2019-01-05            3  ...            0            1            0\n",
              "\n",
              "[5 rows x 50 columns]"
            ]
          },
          "metadata": {},
          "execution_count": 452
        }
      ]
    },
    {
      "cell_type": "markdown",
      "metadata": {
        "id": "xMDBlf-0ty0c"
      },
      "source": [
        "# feature selection"
      ]
    },
    {
      "cell_type": "code",
      "metadata": {
        "id": "IjP5xgE6nza_"
      },
      "source": [
        " # check with id too as id has the greatest correlation\n",
        " \n",
        " df_label = df.iloc[:,3]\n",
        " df = df.drop(['id','Quantity','Date'],axis = 1)"
      ],
      "execution_count": null,
      "outputs": []
    },
    {
      "cell_type": "code",
      "metadata": {
        "colab": {
          "base_uri": "https://localhost:8080/"
        },
        "id": "GGYsoA1Q36Ou",
        "outputId": "a05cff87-f566-4789-f6ae-527e8fb2c9ca"
      },
      "source": [
        "# Recursive feature elimination with cross-validation to select the number of features.\n",
        "\n",
        "estimator = SVR(kernel=\"linear\")\n",
        "selector = RFECV(estimator, step=1, cv=2)\n",
        "selector = selector.fit(df, df_label)\n",
        "print(\"Features selected\", selector.support_)\n",
        "print(\"Feature ranking\", selector.ranking_)"
      ],
      "execution_count": null,
      "outputs": [
        {
          "output_type": "stream",
          "name": "stderr",
          "text": [
            "/usr/local/lib/python3.7/dist-packages/sklearn/base.py:446: UserWarning: X does not have valid feature names, but RFECV was fitted with feature names\n",
            "  \"X does not have valid feature names, but\"\n"
          ]
        },
        {
          "output_type": "stream",
          "name": "stdout",
          "text": [
            "Features selected [False False False False False False False  True  True  True False  True\n",
            "  True  True  True False False False  True False False False False False\n",
            " False False False False False  True False False False  True False  True\n",
            "  True  True False  True  True  True  True  True  True False  True]\n",
            "Feature ranking [15 26  4  3 12  9 21  1  1  1 14  1  1  1  1 20  5 17  1  7  6 19 28 13\n",
            " 10 24 16 25 11  1  2 27 18  1 22  1  1  1 23  1  1  1  1  1  1  8  1]\n"
          ]
        }
      ]
    },
    {
      "cell_type": "code",
      "metadata": {
        "colab": {
          "base_uri": "https://localhost:8080/"
        },
        "id": "JBpuVWJF4nJd",
        "outputId": "0d566a26-cbff-4bd5-e9c9-918883777142"
      },
      "source": [
        "# feature selection according to k highest scores\n",
        "\n",
        "selector = SelectKBest(f_regression,k = 20)\n",
        "print(\"Original feature shape:\", df.shape)\n",
        "\n",
        "new_X = selector.fit_transform(df, df_label)\n",
        "print(\"Transformed feature shape:\", new_X.shape)"
      ],
      "execution_count": null,
      "outputs": [
        {
          "output_type": "stream",
          "name": "stdout",
          "text": [
            "Original feature shape: (2409, 47)\n",
            "Transformed feature shape: (2409, 20)\n"
          ]
        }
      ]
    },
    {
      "cell_type": "code",
      "metadata": {
        "colab": {
          "base_uri": "https://localhost:8080/"
        },
        "id": "PgRBGELV4nGp",
        "outputId": "4d463170-e0a3-4740-dcf6-2f046d758423"
      },
      "source": [
        "new_X"
      ],
      "execution_count": null,
      "outputs": [
        {
          "output_type": "execute_result",
          "data": {
            "text/plain": [
              "array([[0, 0, 0, ..., 0, 0, 0],\n",
              "       [1, 0, 0, ..., 0, 0, 0],\n",
              "       [0, 1, 0, ..., 0, 0, 0],\n",
              "       ...,\n",
              "       [0, 0, 0, ..., 0, 0, 0],\n",
              "       [0, 0, 0, ..., 0, 0, 0],\n",
              "       [0, 0, 0, ..., 0, 0, 0]])"
            ]
          },
          "metadata": {},
          "execution_count": 456
        }
      ]
    },
    {
      "cell_type": "markdown",
      "metadata": {
        "id": "qgMrlR30U24s"
      },
      "source": [
        "### Visualizing the top 20 best features"
      ]
    },
    {
      "cell_type": "code",
      "metadata": {
        "colab": {
          "base_uri": "https://localhost:8080/"
        },
        "id": "vnxR6WDg6lhJ",
        "outputId": "92733e48-6ecb-43a1-aba1-b30bb9bcf8ae"
      },
      "source": [
        "# Spliiting data into test and train sets\n",
        "X_train, X_test, y_train, y_test = train_test_split(df, df_label, test_size=0.35, random_state=42)\n",
        "# fitting the model\n",
        "model = RandomForestRegressor(n_estimators=500, n_jobs=-1, random_state=42)\n",
        "model.fit(X_train, y_train)\n",
        "# plotting feature importances\n",
        "features = df.columns\n",
        "importances = model.feature_importances_\n",
        "dict1 = {i : f for (i, f) in zip(importances,features)}\n",
        "dict2 = sorted(dict1.items(),reverse=True)[:20]\n",
        "importance = list(a for (a, b) in dict2)\n",
        "feature = list(b for (a, b) in dict2)\n",
        "#indices = np.argsort(importances)\n",
        "plt.figure(figsize=(10,15))\n",
        "plt.title('Feature Importances')\n",
        "plt.barh(range(len(dict2)), importance[::-1], color='b', align='center')\n",
        "plt.yticks(range(len(dict2)), feature[::-1])\n",
        "plt.xlabel('Relative Importance')\n",
        "plt.show()"
      ],
      "execution_count": null,
      "outputs": [
        {
          "output_type": "display_data",
          "data": {
            "image/png": "[encoded data removed]",
            "text/plain": [
              "<Figure size 720x1080 with 1 Axes>"
            ]
          },
          "metadata": {
            "needs_background": "light"
          }
        }
      ]
    },
    {
      "cell_type": "code",
      "metadata": {
        "colab": {
          "base_uri": "https://localhost:8080/"
        },
        "id": "mMHOm1_R_7h0",
        "outputId": "7050be44-aee5-4af4-972c-f9863244283c"
      },
      "source": [
        "# Creating separate lists for top 20 best columns and the columns to be dropped\n",
        "\n",
        "top20_features = feature\n",
        "features_list = features.tolist()\n",
        "features_to_drop = list(set(features_list) - set(top20_features))\n",
        "print(features_to_drop)\n",
        "print(len(features_to_drop))"
      ],
      "execution_count": null,
      "outputs": [
        {
          "output_type": "stream",
          "name": "stdout",
          "text": [
            "['State_6', 'Holiday_1', 'Holiday Transferred_2', 'City_9', 'Store Number_2', 'City_0', 'Holiday Extent_1', 'State_2', 'Store Number_4', 'Store Number_0', 'City_1', 'City_6', 'Store Number_5', 'State_5', 'Store Number_3', 'State_7', 'State_4', 'City_4', 'State_0', 'City_5', 'Holiday_0', 'City_2', 'Holiday Transferred_1', 'Store Number_8', 'State_3', 'Store Number_9', 'State_1']\n",
            "27\n"
          ]
        }
      ]
    },
    {
      "cell_type": "code",
      "metadata": {
        "colab": {
          "base_uri": "https://localhost:8080/"
        },
        "id": "TsfxQpBDDB_D",
        "outputId": "7ea02f55-04da-4308-99af-98ff8bec7887"
      },
      "source": [
        "features_to_drop"
      ],
      "execution_count": null,
      "outputs": [
        {
          "output_type": "execute_result",
          "data": {
            "text/plain": [
              "['State_6',\n",
              " 'Holiday_1',\n",
              " 'Holiday Transferred_2',\n",
              " 'City_9',\n",
              " 'Store Number_2',\n",
              " 'City_0',\n",
              " 'Holiday Extent_1',\n",
              " 'State_2',\n",
              " 'Store Number_4',\n",
              " 'Store Number_0',\n",
              " 'City_1',\n",
              " 'City_6',\n",
              " 'Store Number_5',\n",
              " 'State_5',\n",
              " 'Store Number_3',\n",
              " 'State_7',\n",
              " 'State_4',\n",
              " 'City_4',\n",
              " 'State_0',\n",
              " 'City_5',\n",
              " 'Holiday_0',\n",
              " 'City_2',\n",
              " 'Holiday Transferred_1',\n",
              " 'Store Number_8',\n",
              " 'State_3',\n",
              " 'Store Number_9',\n",
              " 'State_1']"
            ]
          },
          "metadata": {},
          "execution_count": 459
        }
      ]
    },
    {
      "cell_type": "code",
      "metadata": {
        "colab": {
          "base_uri": "https://localhost:8080/"
        },
        "id": "vQ-JthjoKRiY",
        "outputId": "453df839-ea1b-4df5-9f08-03e65b253a04"
      },
      "source": [
        "df.head()"
      ],
      "execution_count": null,
      "outputs": [
        {
          "output_type": "execute_result",
          "data": {
            "text/html": [
              "<div>\n",
              "<style scoped>\n",
              "    .dataframe tbody tr th:only-of-type {\n",
              "        vertical-align: middle;\n",
              "    }\n",
              "\n",
              "    .dataframe tbody tr th {\n",
              "        vertical-align: top;\n",
              "    }\n",
              "\n",
              "    .dataframe thead th {\n",
              "        text-align: right;\n",
              "    }\n",
              "</style>\n",
              "<table border=\"1\" class=\"dataframe\">\n",
              "  <thead>\n",
              "    <tr style=\"text-align: right;\">\n",
              "      <th></th>\n",
              "      <th>Store Grade</th>\n",
              "      <th>Store Number_0</th>\n",
              "      <th>Store Number_1</th>\n",
              "      <th>Store Number_2</th>\n",
              "      <th>Store Number_3</th>\n",
              "      <th>Store Number_4</th>\n",
              "      <th>Store Number_5</th>\n",
              "      <th>Store Number_6</th>\n",
              "      <th>Store Number_7</th>\n",
              "      <th>Store Number_8</th>\n",
              "      <th>Store Number_9</th>\n",
              "      <th>City_0</th>\n",
              "      <th>City_1</th>\n",
              "      <th>City_2</th>\n",
              "      <th>City_3</th>\n",
              "      <th>City_4</th>\n",
              "      <th>City_5</th>\n",
              "      <th>City_6</th>\n",
              "      <th>City_7</th>\n",
              "      <th>City_8</th>\n",
              "      <th>City_9</th>\n",
              "      <th>State_0</th>\n",
              "      <th>State_1</th>\n",
              "      <th>State_2</th>\n",
              "      <th>State_3</th>\n",
              "      <th>State_4</th>\n",
              "      <th>State_5</th>\n",
              "      <th>State_6</th>\n",
              "      <th>State_7</th>\n",
              "      <th>Promotion_0</th>\n",
              "      <th>Promotion_1</th>\n",
              "      <th>Holiday_0</th>\n",
              "      <th>Holiday_1</th>\n",
              "      <th>Holiday Extent_0</th>\n",
              "      <th>Holiday Extent_1</th>\n",
              "      <th>Holiday Extent_2</th>\n",
              "      <th>Holiday Extent_3</th>\n",
              "      <th>Holiday Transferred_0</th>\n",
              "      <th>Holiday Transferred_1</th>\n",
              "      <th>Holiday Transferred_2</th>\n",
              "      <th>dayofyear_0</th>\n",
              "      <th>dayofyear_1</th>\n",
              "      <th>dayofyear_2</th>\n",
              "      <th>dayofyear_3</th>\n",
              "      <th>dayofyear_4</th>\n",
              "      <th>dayofyear_5</th>\n",
              "      <th>dayofyear_6</th>\n",
              "    </tr>\n",
              "  </thead>\n",
              "  <tbody>\n",
              "    <tr>\n",
              "      <th>0</th>\n",
              "      <td>4</td>\n",
              "      <td>1</td>\n",
              "      <td>0</td>\n",
              "      <td>0</td>\n",
              "      <td>0</td>\n",
              "      <td>0</td>\n",
              "      <td>0</td>\n",
              "      <td>0</td>\n",
              "      <td>0</td>\n",
              "      <td>0</td>\n",
              "      <td>0</td>\n",
              "      <td>0</td>\n",
              "      <td>0</td>\n",
              "      <td>0</td>\n",
              "      <td>0</td>\n",
              "      <td>1</td>\n",
              "      <td>0</td>\n",
              "      <td>0</td>\n",
              "      <td>0</td>\n",
              "      <td>0</td>\n",
              "      <td>0</td>\n",
              "      <td>0</td>\n",
              "      <td>0</td>\n",
              "      <td>0</td>\n",
              "      <td>0</td>\n",
              "      <td>1</td>\n",
              "      <td>0</td>\n",
              "      <td>0</td>\n",
              "      <td>0</td>\n",
              "      <td>1</td>\n",
              "      <td>0</td>\n",
              "      <td>0</td>\n",
              "      <td>1</td>\n",
              "      <td>0</td>\n",
              "      <td>1</td>\n",
              "      <td>0</td>\n",
              "      <td>0</td>\n",
              "      <td>0</td>\n",
              "      <td>1</td>\n",
              "      <td>0</td>\n",
              "      <td>0</td>\n",
              "      <td>0</td>\n",
              "      <td>0</td>\n",
              "      <td>0</td>\n",
              "      <td>0</td>\n",
              "      <td>1</td>\n",
              "      <td>0</td>\n",
              "    </tr>\n",
              "    <tr>\n",
              "      <th>1</th>\n",
              "      <td>3</td>\n",
              "      <td>0</td>\n",
              "      <td>1</td>\n",
              "      <td>0</td>\n",
              "      <td>0</td>\n",
              "      <td>0</td>\n",
              "      <td>0</td>\n",
              "      <td>0</td>\n",
              "      <td>0</td>\n",
              "      <td>0</td>\n",
              "      <td>0</td>\n",
              "      <td>0</td>\n",
              "      <td>0</td>\n",
              "      <td>0</td>\n",
              "      <td>1</td>\n",
              "      <td>0</td>\n",
              "      <td>0</td>\n",
              "      <td>0</td>\n",
              "      <td>0</td>\n",
              "      <td>0</td>\n",
              "      <td>0</td>\n",
              "      <td>0</td>\n",
              "      <td>1</td>\n",
              "      <td>0</td>\n",
              "      <td>0</td>\n",
              "      <td>0</td>\n",
              "      <td>0</td>\n",
              "      <td>0</td>\n",
              "      <td>0</td>\n",
              "      <td>1</td>\n",
              "      <td>0</td>\n",
              "      <td>0</td>\n",
              "      <td>1</td>\n",
              "      <td>0</td>\n",
              "      <td>1</td>\n",
              "      <td>0</td>\n",
              "      <td>0</td>\n",
              "      <td>0</td>\n",
              "      <td>1</td>\n",
              "      <td>0</td>\n",
              "      <td>0</td>\n",
              "      <td>0</td>\n",
              "      <td>0</td>\n",
              "      <td>0</td>\n",
              "      <td>0</td>\n",
              "      <td>1</td>\n",
              "      <td>0</td>\n",
              "    </tr>\n",
              "    <tr>\n",
              "      <th>2</th>\n",
              "      <td>3</td>\n",
              "      <td>0</td>\n",
              "      <td>0</td>\n",
              "      <td>1</td>\n",
              "      <td>0</td>\n",
              "      <td>0</td>\n",
              "      <td>0</td>\n",
              "      <td>0</td>\n",
              "      <td>0</td>\n",
              "      <td>0</td>\n",
              "      <td>0</td>\n",
              "      <td>0</td>\n",
              "      <td>0</td>\n",
              "      <td>1</td>\n",
              "      <td>0</td>\n",
              "      <td>0</td>\n",
              "      <td>0</td>\n",
              "      <td>0</td>\n",
              "      <td>0</td>\n",
              "      <td>0</td>\n",
              "      <td>0</td>\n",
              "      <td>0</td>\n",
              "      <td>0</td>\n",
              "      <td>0</td>\n",
              "      <td>0</td>\n",
              "      <td>0</td>\n",
              "      <td>0</td>\n",
              "      <td>1</td>\n",
              "      <td>0</td>\n",
              "      <td>1</td>\n",
              "      <td>0</td>\n",
              "      <td>0</td>\n",
              "      <td>1</td>\n",
              "      <td>0</td>\n",
              "      <td>1</td>\n",
              "      <td>0</td>\n",
              "      <td>0</td>\n",
              "      <td>0</td>\n",
              "      <td>1</td>\n",
              "      <td>0</td>\n",
              "      <td>0</td>\n",
              "      <td>0</td>\n",
              "      <td>0</td>\n",
              "      <td>0</td>\n",
              "      <td>0</td>\n",
              "      <td>1</td>\n",
              "      <td>0</td>\n",
              "    </tr>\n",
              "    <tr>\n",
              "      <th>3</th>\n",
              "      <td>3</td>\n",
              "      <td>0</td>\n",
              "      <td>0</td>\n",
              "      <td>0</td>\n",
              "      <td>1</td>\n",
              "      <td>0</td>\n",
              "      <td>0</td>\n",
              "      <td>0</td>\n",
              "      <td>0</td>\n",
              "      <td>0</td>\n",
              "      <td>0</td>\n",
              "      <td>0</td>\n",
              "      <td>0</td>\n",
              "      <td>0</td>\n",
              "      <td>0</td>\n",
              "      <td>0</td>\n",
              "      <td>1</td>\n",
              "      <td>0</td>\n",
              "      <td>0</td>\n",
              "      <td>0</td>\n",
              "      <td>0</td>\n",
              "      <td>0</td>\n",
              "      <td>0</td>\n",
              "      <td>0</td>\n",
              "      <td>0</td>\n",
              "      <td>0</td>\n",
              "      <td>1</td>\n",
              "      <td>0</td>\n",
              "      <td>0</td>\n",
              "      <td>1</td>\n",
              "      <td>0</td>\n",
              "      <td>0</td>\n",
              "      <td>1</td>\n",
              "      <td>0</td>\n",
              "      <td>1</td>\n",
              "      <td>0</td>\n",
              "      <td>0</td>\n",
              "      <td>0</td>\n",
              "      <td>1</td>\n",
              "      <td>0</td>\n",
              "      <td>0</td>\n",
              "      <td>0</td>\n",
              "      <td>0</td>\n",
              "      <td>0</td>\n",
              "      <td>0</td>\n",
              "      <td>1</td>\n",
              "      <td>0</td>\n",
              "    </tr>\n",
              "    <tr>\n",
              "      <th>4</th>\n",
              "      <td>3</td>\n",
              "      <td>0</td>\n",
              "      <td>0</td>\n",
              "      <td>0</td>\n",
              "      <td>0</td>\n",
              "      <td>1</td>\n",
              "      <td>0</td>\n",
              "      <td>0</td>\n",
              "      <td>0</td>\n",
              "      <td>0</td>\n",
              "      <td>0</td>\n",
              "      <td>0</td>\n",
              "      <td>1</td>\n",
              "      <td>0</td>\n",
              "      <td>0</td>\n",
              "      <td>0</td>\n",
              "      <td>0</td>\n",
              "      <td>0</td>\n",
              "      <td>0</td>\n",
              "      <td>0</td>\n",
              "      <td>0</td>\n",
              "      <td>0</td>\n",
              "      <td>0</td>\n",
              "      <td>1</td>\n",
              "      <td>0</td>\n",
              "      <td>0</td>\n",
              "      <td>0</td>\n",
              "      <td>0</td>\n",
              "      <td>0</td>\n",
              "      <td>1</td>\n",
              "      <td>0</td>\n",
              "      <td>0</td>\n",
              "      <td>1</td>\n",
              "      <td>0</td>\n",
              "      <td>1</td>\n",
              "      <td>0</td>\n",
              "      <td>0</td>\n",
              "      <td>0</td>\n",
              "      <td>1</td>\n",
              "      <td>0</td>\n",
              "      <td>0</td>\n",
              "      <td>0</td>\n",
              "      <td>0</td>\n",
              "      <td>0</td>\n",
              "      <td>0</td>\n",
              "      <td>1</td>\n",
              "      <td>0</td>\n",
              "    </tr>\n",
              "  </tbody>\n",
              "</table>\n",
              "</div>"
            ],
            "text/plain": [
              "   Store Grade  Store Number_0  ...  dayofyear_5  dayofyear_6\n",
              "0            4               1  ...            1            0\n",
              "1            3               0  ...            1            0\n",
              "2            3               0  ...            1            0\n",
              "3            3               0  ...            1            0\n",
              "4            3               0  ...            1            0\n",
              "\n",
              "[5 rows x 47 columns]"
            ]
          },
          "metadata": {},
          "execution_count": 460
        }
      ]
    },
    {
      "cell_type": "markdown",
      "metadata": {
        "id": "Q2yfE3mXJKty"
      },
      "source": [
        "## predicting using the top 20 features"
      ]
    },
    {
      "cell_type": "code",
      "metadata": {
        "id": "kCSRzjgeyv--"
      },
      "source": [
        "# Creating a copy of the training dataset with the columns to be dropped removed\n",
        "\n",
        "df3 = df.drop(features_to_drop,axis = 1)\n",
        "features_to_drop.remove('Holiday Transferred_2') # as the testing data doesn't have this column"
      ],
      "execution_count": null,
      "outputs": []
    },
    {
      "cell_type": "code",
      "metadata": {
        "id": "bJhxG_QYv7Vi"
      },
      "source": [
        "# #trying pca\n",
        "# from sklearn.decomposition import PCA\n",
        "# pca = PCA(n_components = 3)\n",
        "# df2 = pca.fit_transform(df1)"
      ],
      "execution_count": null,
      "outputs": []
    },
    {
      "cell_type": "code",
      "metadata": {
        "id": "hT9QgbcxoKOS"
      },
      "source": [
        "## Creating training and test sets from the df3 dataframe (contains 20 columns)\n",
        "\n",
        "X_train, X_test, y_train, y_test = train_test_split(df3,df_label,test_size = 0.35,random_state=42,shuffle = True)"
      ],
      "execution_count": null,
      "outputs": []
    },
    {
      "cell_type": "markdown",
      "metadata": {
        "id": "xPx5riHfpqlb"
      },
      "source": [
        "# machine learning"
      ]
    },
    {
      "cell_type": "markdown",
      "metadata": {
        "id": "wvmHLsL_Wxrg"
      },
      "source": [
        "## linear regression"
      ]
    },
    {
      "cell_type": "code",
      "metadata": {
        "id": "jpfgvBJVqSrn"
      },
      "source": [
        "LR = LinearRegression()\n",
        "LR.fit(X_train, y_train)\n",
        "y_prediction = LR.predict(X_test)"
      ],
      "execution_count": null,
      "outputs": []
    },
    {
      "cell_type": "code",
      "metadata": {
        "colab": {
          "base_uri": "https://localhost:8080/"
        },
        "id": "vqmi0MwNquHs",
        "outputId": "e7951ecc-28e3-496a-c22f-558e70a95481"
      },
      "source": [
        "print(mean_absolute_percentage_error(y_test,y_prediction))"
      ],
      "execution_count": null,
      "outputs": [
        {
          "output_type": "stream",
          "name": "stdout",
          "text": [
            "0.2450661470942499\n"
          ]
        }
      ]
    },
    {
      "cell_type": "markdown",
      "metadata": {
        "id": "UWrYBslvXOpS"
      },
      "source": [
        "## support vector regressor"
      ]
    },
    {
      "cell_type": "code",
      "metadata": {
        "id": "EmcTwE_wXb_0"
      },
      "source": [
        "SR = SVR(gamma='auto')\n",
        "SR.fit(X_train,y_train)\n",
        "y_prediction = SR.predict(X_test)"
      ],
      "execution_count": null,
      "outputs": []
    },
    {
      "cell_type": "code",
      "metadata": {
        "colab": {
          "base_uri": "https://localhost:8080/"
        },
        "id": "_0oWprv5XsEo",
        "outputId": "4093898c-5693-432f-b81b-c04df0c036c0"
      },
      "source": [
        "print(mean_absolute_percentage_error(y_test,y_prediction))"
      ],
      "execution_count": null,
      "outputs": [
        {
          "output_type": "stream",
          "name": "stdout",
          "text": [
            "0.24147979336335046\n"
          ]
        }
      ]
    },
    {
      "cell_type": "markdown",
      "metadata": {
        "id": "9XkneYqIfVc-"
      },
      "source": [
        "## Random forest"
      ]
    },
    {
      "cell_type": "code",
      "metadata": {
        "id": "aNX9FHLOZLRa"
      },
      "source": [
        "RM = RandomForestRegressor(n_estimators=3, criterion='squared_error', max_features='auto', bootstrap=True,\n",
        "                           oob_score=False, random_state=42)\n",
        "RM.fit(X_train, y_train)\n",
        "y_prediction = RM.predict(X_test)"
      ],
      "execution_count": null,
      "outputs": []
    },
    {
      "cell_type": "code",
      "metadata": {
        "colab": {
          "base_uri": "https://localhost:8080/"
        },
        "id": "5ZIkWtPkgHdz",
        "outputId": "efbaffb9-ab56-4227-e248-2f2b7cf9f2e5"
      },
      "source": [
        "print(mean_absolute_percentage_error(y_test,y_prediction))"
      ],
      "execution_count": null,
      "outputs": [
        {
          "output_type": "stream",
          "name": "stdout",
          "text": [
            "0.25389154674850567\n"
          ]
        }
      ]
    },
    {
      "cell_type": "markdown",
      "metadata": {
        "id": "gYWN8F_wqWEn"
      },
      "source": [
        "## lasso regression"
      ]
    },
    {
      "cell_type": "code",
      "metadata": {
        "id": "SAl0W999qd2y"
      },
      "source": [
        "clf = linear_model.Lasso(alpha = 0.001)\n",
        "clf.fit(X_train,y_train)\n",
        "y_prediction = clf.predict(X_test)"
      ],
      "execution_count": null,
      "outputs": []
    },
    {
      "cell_type": "code",
      "metadata": {
        "colab": {
          "base_uri": "https://localhost:8080/"
        },
        "id": "M548DGtqqrsr",
        "outputId": "bdad1dcf-f965-42f2-bc8f-5176aa0ca424"
      },
      "source": [
        "print(mean_absolute_percentage_error(y_test,y_prediction))"
      ],
      "execution_count": null,
      "outputs": [
        {
          "output_type": "stream",
          "name": "stdout",
          "text": [
            "0.24428792935997065\n"
          ]
        }
      ]
    },
    {
      "cell_type": "markdown",
      "metadata": {
        "id": "4xi76fx6rRkX"
      },
      "source": [
        "## Ridge regression"
      ]
    },
    {
      "cell_type": "code",
      "metadata": {
        "id": "LBrCvBVtqumK"
      },
      "source": [
        "clf = linear_model.Ridge(alpha = 0.1)\n",
        "clf.fit(X_train,y_train)\n",
        "y_prediction = clf.predict(X_test)"
      ],
      "execution_count": null,
      "outputs": []
    },
    {
      "cell_type": "code",
      "metadata": {
        "colab": {
          "base_uri": "https://localhost:8080/"
        },
        "id": "EL3Si_s0rwch",
        "outputId": "4471246b-6179-42fb-a34a-be41fcff9c3f"
      },
      "source": [
        "print(mean_absolute_percentage_error(y_test,y_prediction))"
      ],
      "execution_count": null,
      "outputs": [
        {
          "output_type": "stream",
          "name": "stdout",
          "text": [
            "0.24434118459466725\n"
          ]
        }
      ]
    },
    {
      "cell_type": "markdown",
      "metadata": {
        "id": "rU3_fB9dkstF"
      },
      "source": [
        "## Logistic Regression"
      ]
    },
    {
      "cell_type": "code",
      "metadata": {
        "id": "Lz39OYB1r1dW"
      },
      "source": [
        "clf = linear_model.LogisticRegression(n_jobs=-1, penalty='elasticnet',l1_ratio=0.6, solver='saga',max_iter=800)\n",
        "clf.fit(X_train, y_train)\n",
        "y_prediction = clf.predict(X_test)"
      ],
      "execution_count": null,
      "outputs": []
    },
    {
      "cell_type": "code",
      "metadata": {
        "colab": {
          "base_uri": "https://localhost:8080/"
        },
        "id": "mGl42KsglAvk",
        "outputId": "20c64980-58a6-4a7b-aa55-442e60ed9f26"
      },
      "source": [
        "y_pred = clf.predict(X_train)\n",
        "print(mean_absolute_percentage_error(y_train,y_pred)) # training error\n",
        "print(mean_absolute_percentage_error(y_test,y_prediction)) # testing error"
      ],
      "execution_count": null,
      "outputs": [
        {
          "output_type": "stream",
          "name": "stdout",
          "text": [
            "0.23129729517908434\n",
            "0.2396466783611333\n"
          ]
        }
      ]
    },
    {
      "cell_type": "markdown",
      "metadata": {
        "id": "cowJyZ-KL9-L"
      },
      "source": [
        "# preprocessing test.csv"
      ]
    },
    {
      "cell_type": "code",
      "metadata": {
        "id": "eWWs1nMsLxbP"
      },
      "source": [
        "db = pd.read_csv('drive/MyDrive/test.csv')"
      ],
      "execution_count": null,
      "outputs": []
    },
    {
      "cell_type": "code",
      "metadata": {
        "colab": {
          "base_uri": "https://localhost:8080/"
        },
        "id": "INPMxK_uLxNV",
        "outputId": "c8cd776f-6d68-42a3-e726-e9b11b1bc481"
      },
      "source": [
        "db.head()"
      ],
      "execution_count": null,
      "outputs": [
        {
          "output_type": "execute_result",
          "data": {
            "text/html": [
              "<div>\n",
              "<style scoped>\n",
              "    .dataframe tbody tr th:only-of-type {\n",
              "        vertical-align: middle;\n",
              "    }\n",
              "\n",
              "    .dataframe tbody tr th {\n",
              "        vertical-align: top;\n",
              "    }\n",
              "\n",
              "    .dataframe thead th {\n",
              "        text-align: right;\n",
              "    }\n",
              "</style>\n",
              "<table border=\"1\" class=\"dataframe\">\n",
              "  <thead>\n",
              "    <tr style=\"text-align: right;\">\n",
              "      <th></th>\n",
              "      <th>id</th>\n",
              "      <th>Date</th>\n",
              "      <th>Store Number</th>\n",
              "      <th>Store Grade</th>\n",
              "      <th>City</th>\n",
              "      <th>State</th>\n",
              "      <th>Item Number</th>\n",
              "      <th>Item Family</th>\n",
              "      <th>Promotion</th>\n",
              "      <th>Perishable</th>\n",
              "      <th>Holiday</th>\n",
              "      <th>Holiday Extent</th>\n",
              "      <th>Holiday Transferred</th>\n",
              "    </tr>\n",
              "  </thead>\n",
              "  <tbody>\n",
              "    <tr>\n",
              "      <th>0</th>\n",
              "      <td>89679192</td>\n",
              "      <td>2019-09-01</td>\n",
              "      <td>11</td>\n",
              "      <td>A</td>\n",
              "      <td>New York</td>\n",
              "      <td>New York</td>\n",
              "      <td>1146795</td>\n",
              "      <td>GROCERY</td>\n",
              "      <td>False</td>\n",
              "      <td>0</td>\n",
              "      <td>NaN</td>\n",
              "      <td>NaN</td>\n",
              "      <td>NaN</td>\n",
              "    </tr>\n",
              "    <tr>\n",
              "      <th>1</th>\n",
              "      <td>89683748</td>\n",
              "      <td>2019-09-01</td>\n",
              "      <td>14</td>\n",
              "      <td>B</td>\n",
              "      <td>Los Angeles</td>\n",
              "      <td>California</td>\n",
              "      <td>1146795</td>\n",
              "      <td>GROCERY</td>\n",
              "      <td>False</td>\n",
              "      <td>0</td>\n",
              "      <td>NaN</td>\n",
              "      <td>NaN</td>\n",
              "      <td>NaN</td>\n",
              "    </tr>\n",
              "    <tr>\n",
              "      <th>2</th>\n",
              "      <td>89685203</td>\n",
              "      <td>2019-09-01</td>\n",
              "      <td>15</td>\n",
              "      <td>B</td>\n",
              "      <td>Houston</td>\n",
              "      <td>Texas</td>\n",
              "      <td>1146795</td>\n",
              "      <td>GROCERY</td>\n",
              "      <td>False</td>\n",
              "      <td>0</td>\n",
              "      <td>NaN</td>\n",
              "      <td>NaN</td>\n",
              "      <td>NaN</td>\n",
              "    </tr>\n",
              "    <tr>\n",
              "      <th>3</th>\n",
              "      <td>89689659</td>\n",
              "      <td>2019-09-01</td>\n",
              "      <td>19</td>\n",
              "      <td>B</td>\n",
              "      <td>Philadelphia</td>\n",
              "      <td>Pennsylvania</td>\n",
              "      <td>1146795</td>\n",
              "      <td>GROCERY</td>\n",
              "      <td>False</td>\n",
              "      <td>0</td>\n",
              "      <td>NaN</td>\n",
              "      <td>NaN</td>\n",
              "      <td>NaN</td>\n",
              "    </tr>\n",
              "    <tr>\n",
              "      <th>4</th>\n",
              "      <td>89694936</td>\n",
              "      <td>2019-09-01</td>\n",
              "      <td>22</td>\n",
              "      <td>B</td>\n",
              "      <td>Chicago</td>\n",
              "      <td>Illinois</td>\n",
              "      <td>1146795</td>\n",
              "      <td>GROCERY</td>\n",
              "      <td>False</td>\n",
              "      <td>0</td>\n",
              "      <td>NaN</td>\n",
              "      <td>NaN</td>\n",
              "      <td>NaN</td>\n",
              "    </tr>\n",
              "  </tbody>\n",
              "</table>\n",
              "</div>"
            ],
            "text/plain": [
              "         id        Date  ...  Holiday Extent Holiday Transferred\n",
              "0  89679192  2019-09-01  ...             NaN                 NaN\n",
              "1  89683748  2019-09-01  ...             NaN                 NaN\n",
              "2  89685203  2019-09-01  ...             NaN                 NaN\n",
              "3  89689659  2019-09-01  ...             NaN                 NaN\n",
              "4  89694936  2019-09-01  ...             NaN                 NaN\n",
              "\n",
              "[5 rows x 13 columns]"
            ]
          },
          "metadata": {},
          "execution_count": 477
        }
      ]
    },
    {
      "cell_type": "code",
      "metadata": {
        "colab": {
          "base_uri": "https://localhost:8080/"
        },
        "id": "uy9fx8g7LxJy",
        "outputId": "fe4139b2-db89-486a-c8f8-ebd6fbcc58d0"
      },
      "source": [
        "db.describe()"
      ],
      "execution_count": null,
      "outputs": [
        {
          "output_type": "execute_result",
          "data": {
            "text/html": [
              "<div>\n",
              "<style scoped>\n",
              "    .dataframe tbody tr th:only-of-type {\n",
              "        vertical-align: middle;\n",
              "    }\n",
              "\n",
              "    .dataframe tbody tr th {\n",
              "        vertical-align: top;\n",
              "    }\n",
              "\n",
              "    .dataframe thead th {\n",
              "        text-align: right;\n",
              "    }\n",
              "</style>\n",
              "<table border=\"1\" class=\"dataframe\">\n",
              "  <thead>\n",
              "    <tr style=\"text-align: right;\">\n",
              "      <th></th>\n",
              "      <th>id</th>\n",
              "      <th>Store Number</th>\n",
              "      <th>Item Number</th>\n",
              "      <th>Perishable</th>\n",
              "    </tr>\n",
              "  </thead>\n",
              "  <tbody>\n",
              "    <tr>\n",
              "      <th>count</th>\n",
              "      <td>1.124000e+03</td>\n",
              "      <td>1124.000000</td>\n",
              "      <td>1124.0</td>\n",
              "      <td>1124.0</td>\n",
              "    </tr>\n",
              "    <tr>\n",
              "      <th>mean</th>\n",
              "      <td>9.568522e+07</td>\n",
              "      <td>27.136121</td>\n",
              "      <td>1146795.0</td>\n",
              "      <td>0.0</td>\n",
              "    </tr>\n",
              "    <tr>\n",
              "      <th>std</th>\n",
              "      <td>3.423167e+06</td>\n",
              "      <td>13.572541</td>\n",
              "      <td>0.0</td>\n",
              "      <td>0.0</td>\n",
              "    </tr>\n",
              "    <tr>\n",
              "      <th>min</th>\n",
              "      <td>8.967919e+07</td>\n",
              "      <td>11.000000</td>\n",
              "      <td>1146795.0</td>\n",
              "      <td>0.0</td>\n",
              "    </tr>\n",
              "    <tr>\n",
              "      <th>25%</th>\n",
              "      <td>9.275832e+07</td>\n",
              "      <td>15.000000</td>\n",
              "      <td>1146795.0</td>\n",
              "      <td>0.0</td>\n",
              "    </tr>\n",
              "    <tr>\n",
              "      <th>50%</th>\n",
              "      <td>9.578135e+07</td>\n",
              "      <td>22.000000</td>\n",
              "      <td>1146795.0</td>\n",
              "      <td>0.0</td>\n",
              "    </tr>\n",
              "    <tr>\n",
              "      <th>75%</th>\n",
              "      <td>9.857575e+07</td>\n",
              "      <td>35.000000</td>\n",
              "      <td>1146795.0</td>\n",
              "      <td>0.0</td>\n",
              "    </tr>\n",
              "    <tr>\n",
              "      <th>max</th>\n",
              "      <td>1.015777e+08</td>\n",
              "      <td>54.000000</td>\n",
              "      <td>1146795.0</td>\n",
              "      <td>0.0</td>\n",
              "    </tr>\n",
              "  </tbody>\n",
              "</table>\n",
              "</div>"
            ],
            "text/plain": [
              "                 id  Store Number  Item Number  Perishable\n",
              "count  1.124000e+03   1124.000000       1124.0      1124.0\n",
              "mean   9.568522e+07     27.136121    1146795.0         0.0\n",
              "std    3.423167e+06     13.572541          0.0         0.0\n",
              "min    8.967919e+07     11.000000    1146795.0         0.0\n",
              "25%    9.275832e+07     15.000000    1146795.0         0.0\n",
              "50%    9.578135e+07     22.000000    1146795.0         0.0\n",
              "75%    9.857575e+07     35.000000    1146795.0         0.0\n",
              "max    1.015777e+08     54.000000    1146795.0         0.0"
            ]
          },
          "metadata": {},
          "execution_count": 478
        }
      ]
    },
    {
      "cell_type": "code",
      "metadata": {
        "colab": {
          "base_uri": "https://localhost:8080/"
        },
        "id": "9yCJQlPXMPVl",
        "outputId": "1e4716ca-e031-42d8-9ce9-7fd58dbe174d"
      },
      "source": [
        "db.columns"
      ],
      "execution_count": null,
      "outputs": [
        {
          "output_type": "execute_result",
          "data": {
            "text/plain": [
              "Index(['id', 'Date', 'Store Number', 'Store Grade', 'City', 'State',\n",
              "       'Item Number', 'Item Family', 'Promotion', 'Perishable', 'Holiday',\n",
              "       'Holiday Extent', 'Holiday Transferred'],\n",
              "      dtype='object')"
            ]
          },
          "metadata": {},
          "execution_count": 479
        }
      ]
    },
    {
      "cell_type": "code",
      "metadata": {
        "colab": {
          "base_uri": "https://localhost:8080/"
        },
        "id": "d0yr5XMyMbfd",
        "outputId": "060db504-ea2e-4049-8455-f3e059e407bb"
      },
      "source": [
        "# counting null values in every row\n",
        "for i,j in db.iteritems():\n",
        "  print(i)\n",
        "  print(db[i].isna().sum())"
      ],
      "execution_count": null,
      "outputs": [
        {
          "output_type": "stream",
          "name": "stdout",
          "text": [
            "id\n",
            "0\n",
            "Date\n",
            "0\n",
            "Store Number\n",
            "0\n",
            "Store Grade\n",
            "0\n",
            "City\n",
            "0\n",
            "State\n",
            "0\n",
            "Item Number\n",
            "0\n",
            "Item Family\n",
            "0\n",
            "Promotion\n",
            "0\n",
            "Perishable\n",
            "0\n",
            "Holiday\n",
            "916\n",
            "Holiday Extent\n",
            "906\n",
            "Holiday Transferred\n",
            "906\n"
          ]
        }
      ]
    },
    {
      "cell_type": "code",
      "metadata": {
        "colab": {
          "base_uri": "https://localhost:8080/"
        },
        "id": "LDKcvtBRMw0P",
        "outputId": "0ce716c1-780a-4cdb-83b3-38f389555b44"
      },
      "source": [
        "# analyzing the columns that have null values\n",
        "print(db['Holiday'].value_counts())\n",
        "print(db['Holiday Extent'].value_counts())\n",
        "print(db['Holiday Transferred'].value_counts())"
      ],
      "execution_count": null,
      "outputs": [
        {
          "output_type": "stream",
          "name": "stdout",
          "text": [
            "Holiday    208\n",
            "Name: Holiday, dtype: int64\n",
            "National    114\n",
            "Local        84\n",
            "Regional     20\n",
            "Name: Holiday Extent, dtype: int64\n",
            "False    218\n",
            "Name: Holiday Transferred, dtype: int64\n"
          ]
        }
      ]
    },
    {
      "cell_type": "code",
      "metadata": {
        "id": "ryYtXEZoM8Xd"
      },
      "source": [
        "values = {\"Holiday\": 'Not Holiday', \"Holiday Extent\": 'N/A', \"Holiday Transferred\": 'N/A'}\n",
        "db = db.fillna(value = values)"
      ],
      "execution_count": null,
      "outputs": []
    },
    {
      "cell_type": "code",
      "metadata": {
        "id": "GzAHZsL0NCRK"
      },
      "source": [
        "#dropping the unwanted columns\n",
        "data = db.drop(['Item Number', 'Item Family', 'Perishable'], axis = 1)"
      ],
      "execution_count": null,
      "outputs": []
    },
    {
      "cell_type": "code",
      "metadata": {
        "id": "BWTqtW0iNY_6"
      },
      "source": [
        "db['dayofyear'] = pd.to_datetime(db.iloc[:,1]).dt.weekday"
      ],
      "execution_count": null,
      "outputs": []
    },
    {
      "cell_type": "code",
      "metadata": {
        "id": "QyQg1snMNshW"
      },
      "source": [
        "col_t = ['id', 'Date', 'Store Number', 'City', 'State',\n",
        "       'Promotion', 'Holiday', 'Holiday Extent', 'Holiday Transferred',\n",
        "       'dayofyear','Store Grade']"
      ],
      "execution_count": null,
      "outputs": []
    },
    {
      "cell_type": "code",
      "metadata": {
        "id": "RmK3O2xQN0q3"
      },
      "source": [
        "db = db.reindex(columns=col_t)"
      ],
      "execution_count": null,
      "outputs": []
    },
    {
      "cell_type": "code",
      "metadata": {
        "colab": {
          "base_uri": "https://localhost:8080/"
        },
        "id": "1VmykKEOOZEF",
        "outputId": "c2dbcb15-217b-4e2d-bc3d-9a5875b38ea6"
      },
      "source": [
        "db.head()"
      ],
      "execution_count": null,
      "outputs": [
        {
          "output_type": "execute_result",
          "data": {
            "text/html": [
              "<div>\n",
              "<style scoped>\n",
              "    .dataframe tbody tr th:only-of-type {\n",
              "        vertical-align: middle;\n",
              "    }\n",
              "\n",
              "    .dataframe tbody tr th {\n",
              "        vertical-align: top;\n",
              "    }\n",
              "\n",
              "    .dataframe thead th {\n",
              "        text-align: right;\n",
              "    }\n",
              "</style>\n",
              "<table border=\"1\" class=\"dataframe\">\n",
              "  <thead>\n",
              "    <tr style=\"text-align: right;\">\n",
              "      <th></th>\n",
              "      <th>id</th>\n",
              "      <th>Date</th>\n",
              "      <th>Store Number</th>\n",
              "      <th>City</th>\n",
              "      <th>State</th>\n",
              "      <th>Promotion</th>\n",
              "      <th>Holiday</th>\n",
              "      <th>Holiday Extent</th>\n",
              "      <th>Holiday Transferred</th>\n",
              "      <th>dayofyear</th>\n",
              "      <th>Store Grade</th>\n",
              "    </tr>\n",
              "  </thead>\n",
              "  <tbody>\n",
              "    <tr>\n",
              "      <th>0</th>\n",
              "      <td>89679192</td>\n",
              "      <td>2019-09-01</td>\n",
              "      <td>11</td>\n",
              "      <td>New York</td>\n",
              "      <td>New York</td>\n",
              "      <td>False</td>\n",
              "      <td>Not Holiday</td>\n",
              "      <td>N/A</td>\n",
              "      <td>N/A</td>\n",
              "      <td>6</td>\n",
              "      <td>A</td>\n",
              "    </tr>\n",
              "    <tr>\n",
              "      <th>1</th>\n",
              "      <td>89683748</td>\n",
              "      <td>2019-09-01</td>\n",
              "      <td>14</td>\n",
              "      <td>Los Angeles</td>\n",
              "      <td>California</td>\n",
              "      <td>False</td>\n",
              "      <td>Not Holiday</td>\n",
              "      <td>N/A</td>\n",
              "      <td>N/A</td>\n",
              "      <td>6</td>\n",
              "      <td>B</td>\n",
              "    </tr>\n",
              "    <tr>\n",
              "      <th>2</th>\n",
              "      <td>89685203</td>\n",
              "      <td>2019-09-01</td>\n",
              "      <td>15</td>\n",
              "      <td>Houston</td>\n",
              "      <td>Texas</td>\n",
              "      <td>False</td>\n",
              "      <td>Not Holiday</td>\n",
              "      <td>N/A</td>\n",
              "      <td>N/A</td>\n",
              "      <td>6</td>\n",
              "      <td>B</td>\n",
              "    </tr>\n",
              "    <tr>\n",
              "      <th>3</th>\n",
              "      <td>89689659</td>\n",
              "      <td>2019-09-01</td>\n",
              "      <td>19</td>\n",
              "      <td>Philadelphia</td>\n",
              "      <td>Pennsylvania</td>\n",
              "      <td>False</td>\n",
              "      <td>Not Holiday</td>\n",
              "      <td>N/A</td>\n",
              "      <td>N/A</td>\n",
              "      <td>6</td>\n",
              "      <td>B</td>\n",
              "    </tr>\n",
              "    <tr>\n",
              "      <th>4</th>\n",
              "      <td>89694936</td>\n",
              "      <td>2019-09-01</td>\n",
              "      <td>22</td>\n",
              "      <td>Chicago</td>\n",
              "      <td>Illinois</td>\n",
              "      <td>False</td>\n",
              "      <td>Not Holiday</td>\n",
              "      <td>N/A</td>\n",
              "      <td>N/A</td>\n",
              "      <td>6</td>\n",
              "      <td>B</td>\n",
              "    </tr>\n",
              "  </tbody>\n",
              "</table>\n",
              "</div>"
            ],
            "text/plain": [
              "         id        Date  ...  dayofyear Store Grade\n",
              "0  89679192  2019-09-01  ...          6           A\n",
              "1  89683748  2019-09-01  ...          6           B\n",
              "2  89685203  2019-09-01  ...          6           B\n",
              "3  89689659  2019-09-01  ...          6           B\n",
              "4  89694936  2019-09-01  ...          6           B\n",
              "\n",
              "[5 rows x 11 columns]"
            ]
          },
          "metadata": {},
          "execution_count": 487
        }
      ]
    },
    {
      "cell_type": "code",
      "metadata": {
        "id": "ihpS4C2HN_Hy"
      },
      "source": [
        "le = LabelEncoder()\n",
        "# label encoding the data \n",
        "db.iloc[:,2:-1] = db.iloc[:,2:-1].apply(lambda col: le.fit_transform(col.astype(str)), axis=0, result_type='expand')\n",
        "db.iloc[:,-1] = db.iloc[:,-1].replace({'A':4,'B':3,'C':2,'D':1})"
      ],
      "execution_count": null,
      "outputs": []
    },
    {
      "cell_type": "code",
      "metadata": {
        "colab": {
          "base_uri": "https://localhost:8080/"
        },
        "id": "Jo-LNb02OGi6",
        "outputId": "e52cdb26-68b2-455b-95c7-c85279b45428"
      },
      "source": [
        "db.head()"
      ],
      "execution_count": null,
      "outputs": [
        {
          "output_type": "execute_result",
          "data": {
            "text/html": [
              "<div>\n",
              "<style scoped>\n",
              "    .dataframe tbody tr th:only-of-type {\n",
              "        vertical-align: middle;\n",
              "    }\n",
              "\n",
              "    .dataframe tbody tr th {\n",
              "        vertical-align: top;\n",
              "    }\n",
              "\n",
              "    .dataframe thead th {\n",
              "        text-align: right;\n",
              "    }\n",
              "</style>\n",
              "<table border=\"1\" class=\"dataframe\">\n",
              "  <thead>\n",
              "    <tr style=\"text-align: right;\">\n",
              "      <th></th>\n",
              "      <th>id</th>\n",
              "      <th>Date</th>\n",
              "      <th>Store Number</th>\n",
              "      <th>City</th>\n",
              "      <th>State</th>\n",
              "      <th>Promotion</th>\n",
              "      <th>Holiday</th>\n",
              "      <th>Holiday Extent</th>\n",
              "      <th>Holiday Transferred</th>\n",
              "      <th>dayofyear</th>\n",
              "      <th>Store Grade</th>\n",
              "    </tr>\n",
              "  </thead>\n",
              "  <tbody>\n",
              "    <tr>\n",
              "      <th>0</th>\n",
              "      <td>89679192</td>\n",
              "      <td>2019-09-01</td>\n",
              "      <td>0</td>\n",
              "      <td>4</td>\n",
              "      <td>4</td>\n",
              "      <td>0</td>\n",
              "      <td>1</td>\n",
              "      <td>1</td>\n",
              "      <td>1</td>\n",
              "      <td>6</td>\n",
              "      <td>4</td>\n",
              "    </tr>\n",
              "    <tr>\n",
              "      <th>1</th>\n",
              "      <td>89683748</td>\n",
              "      <td>2019-09-01</td>\n",
              "      <td>1</td>\n",
              "      <td>3</td>\n",
              "      <td>1</td>\n",
              "      <td>0</td>\n",
              "      <td>1</td>\n",
              "      <td>1</td>\n",
              "      <td>1</td>\n",
              "      <td>6</td>\n",
              "      <td>3</td>\n",
              "    </tr>\n",
              "    <tr>\n",
              "      <th>2</th>\n",
              "      <td>89685203</td>\n",
              "      <td>2019-09-01</td>\n",
              "      <td>2</td>\n",
              "      <td>2</td>\n",
              "      <td>6</td>\n",
              "      <td>0</td>\n",
              "      <td>1</td>\n",
              "      <td>1</td>\n",
              "      <td>1</td>\n",
              "      <td>6</td>\n",
              "      <td>3</td>\n",
              "    </tr>\n",
              "    <tr>\n",
              "      <th>3</th>\n",
              "      <td>89689659</td>\n",
              "      <td>2019-09-01</td>\n",
              "      <td>3</td>\n",
              "      <td>5</td>\n",
              "      <td>5</td>\n",
              "      <td>0</td>\n",
              "      <td>1</td>\n",
              "      <td>1</td>\n",
              "      <td>1</td>\n",
              "      <td>6</td>\n",
              "      <td>3</td>\n",
              "    </tr>\n",
              "    <tr>\n",
              "      <th>4</th>\n",
              "      <td>89694936</td>\n",
              "      <td>2019-09-01</td>\n",
              "      <td>4</td>\n",
              "      <td>1</td>\n",
              "      <td>2</td>\n",
              "      <td>0</td>\n",
              "      <td>1</td>\n",
              "      <td>1</td>\n",
              "      <td>1</td>\n",
              "      <td>6</td>\n",
              "      <td>3</td>\n",
              "    </tr>\n",
              "  </tbody>\n",
              "</table>\n",
              "</div>"
            ],
            "text/plain": [
              "         id        Date  ...  dayofyear  Store Grade\n",
              "0  89679192  2019-09-01  ...          6            4\n",
              "1  89683748  2019-09-01  ...          6            3\n",
              "2  89685203  2019-09-01  ...          6            3\n",
              "3  89689659  2019-09-01  ...          6            3\n",
              "4  89694936  2019-09-01  ...          6            3\n",
              "\n",
              "[5 rows x 11 columns]"
            ]
          },
          "metadata": {},
          "execution_count": 489
        }
      ]
    },
    {
      "cell_type": "code",
      "metadata": {
        "id": "BE_05dobPyZS"
      },
      "source": [
        "cols = ['Store Number',\n",
        " 'City',\n",
        " 'State',\n",
        " 'Promotion',\n",
        " 'Holiday',\n",
        " 'Holiday Extent',\n",
        " 'Holiday Transferred',\n",
        " 'dayofyear']"
      ],
      "execution_count": null,
      "outputs": []
    },
    {
      "cell_type": "code",
      "metadata": {
        "colab": {
          "base_uri": "https://localhost:8080/"
        },
        "id": "P0cALrJnQBbT",
        "outputId": "e1d319d1-98cc-47f0-9519-959f934c85a7"
      },
      "source": [
        "db.head()"
      ],
      "execution_count": null,
      "outputs": [
        {
          "output_type": "execute_result",
          "data": {
            "text/html": [
              "<div>\n",
              "<style scoped>\n",
              "    .dataframe tbody tr th:only-of-type {\n",
              "        vertical-align: middle;\n",
              "    }\n",
              "\n",
              "    .dataframe tbody tr th {\n",
              "        vertical-align: top;\n",
              "    }\n",
              "\n",
              "    .dataframe thead th {\n",
              "        text-align: right;\n",
              "    }\n",
              "</style>\n",
              "<table border=\"1\" class=\"dataframe\">\n",
              "  <thead>\n",
              "    <tr style=\"text-align: right;\">\n",
              "      <th></th>\n",
              "      <th>id</th>\n",
              "      <th>Date</th>\n",
              "      <th>Store Number</th>\n",
              "      <th>City</th>\n",
              "      <th>State</th>\n",
              "      <th>Promotion</th>\n",
              "      <th>Holiday</th>\n",
              "      <th>Holiday Extent</th>\n",
              "      <th>Holiday Transferred</th>\n",
              "      <th>dayofyear</th>\n",
              "      <th>Store Grade</th>\n",
              "    </tr>\n",
              "  </thead>\n",
              "  <tbody>\n",
              "    <tr>\n",
              "      <th>0</th>\n",
              "      <td>89679192</td>\n",
              "      <td>2019-09-01</td>\n",
              "      <td>0</td>\n",
              "      <td>4</td>\n",
              "      <td>4</td>\n",
              "      <td>0</td>\n",
              "      <td>1</td>\n",
              "      <td>1</td>\n",
              "      <td>1</td>\n",
              "      <td>6</td>\n",
              "      <td>4</td>\n",
              "    </tr>\n",
              "    <tr>\n",
              "      <th>1</th>\n",
              "      <td>89683748</td>\n",
              "      <td>2019-09-01</td>\n",
              "      <td>1</td>\n",
              "      <td>3</td>\n",
              "      <td>1</td>\n",
              "      <td>0</td>\n",
              "      <td>1</td>\n",
              "      <td>1</td>\n",
              "      <td>1</td>\n",
              "      <td>6</td>\n",
              "      <td>3</td>\n",
              "    </tr>\n",
              "    <tr>\n",
              "      <th>2</th>\n",
              "      <td>89685203</td>\n",
              "      <td>2019-09-01</td>\n",
              "      <td>2</td>\n",
              "      <td>2</td>\n",
              "      <td>6</td>\n",
              "      <td>0</td>\n",
              "      <td>1</td>\n",
              "      <td>1</td>\n",
              "      <td>1</td>\n",
              "      <td>6</td>\n",
              "      <td>3</td>\n",
              "    </tr>\n",
              "    <tr>\n",
              "      <th>3</th>\n",
              "      <td>89689659</td>\n",
              "      <td>2019-09-01</td>\n",
              "      <td>3</td>\n",
              "      <td>5</td>\n",
              "      <td>5</td>\n",
              "      <td>0</td>\n",
              "      <td>1</td>\n",
              "      <td>1</td>\n",
              "      <td>1</td>\n",
              "      <td>6</td>\n",
              "      <td>3</td>\n",
              "    </tr>\n",
              "    <tr>\n",
              "      <th>4</th>\n",
              "      <td>89694936</td>\n",
              "      <td>2019-09-01</td>\n",
              "      <td>4</td>\n",
              "      <td>1</td>\n",
              "      <td>2</td>\n",
              "      <td>0</td>\n",
              "      <td>1</td>\n",
              "      <td>1</td>\n",
              "      <td>1</td>\n",
              "      <td>6</td>\n",
              "      <td>3</td>\n",
              "    </tr>\n",
              "  </tbody>\n",
              "</table>\n",
              "</div>"
            ],
            "text/plain": [
              "         id        Date  ...  dayofyear  Store Grade\n",
              "0  89679192  2019-09-01  ...          6            4\n",
              "1  89683748  2019-09-01  ...          6            3\n",
              "2  89685203  2019-09-01  ...          6            3\n",
              "3  89689659  2019-09-01  ...          6            3\n",
              "4  89694936  2019-09-01  ...          6            3\n",
              "\n",
              "[5 rows x 11 columns]"
            ]
          },
          "metadata": {},
          "execution_count": 491
        }
      ]
    },
    {
      "cell_type": "code",
      "metadata": {
        "id": "a1eWsJRTPR4w"
      },
      "source": [
        "# one hot encoding the test columns\n",
        "db = pd.get_dummies(db, columns=cols)"
      ],
      "execution_count": null,
      "outputs": []
    },
    {
      "cell_type": "code",
      "metadata": {
        "id": "rO0QlAf6OpWI"
      },
      "source": [
        "# droping the features that are not in top 20 in test dataset\n",
        "db_t = db.drop(features_to_drop,axis = 1)"
      ],
      "execution_count": null,
      "outputs": []
    },
    {
      "cell_type": "code",
      "metadata": {
        "id": "Ax1OJbTK7-5Q"
      },
      "source": [
        "# droping id because it is not relevant with sales and is just a unique way to represent the rows/sales\n",
        "db_id = db_t['id']\n",
        "db_t = db_t.drop(['id','Date'],axis = 1)"
      ],
      "execution_count": null,
      "outputs": []
    },
    {
      "cell_type": "code",
      "metadata": {
        "colab": {
          "base_uri": "https://localhost:8080/"
        },
        "id": "JXEb-3K38-DG",
        "outputId": "637007a9-c8ec-44b3-81dc-c8d2c7724362"
      },
      "source": [
        "df3.columns"
      ],
      "execution_count": null,
      "outputs": [
        {
          "output_type": "execute_result",
          "data": {
            "text/plain": [
              "Index(['Store Grade', 'Store Number_1', 'Store Number_6', 'Store Number_7',\n",
              "       'City_3', 'City_7', 'City_8', 'Promotion_0', 'Promotion_1',\n",
              "       'Holiday Extent_0', 'Holiday Extent_2', 'Holiday Extent_3',\n",
              "       'Holiday Transferred_0', 'dayofyear_0', 'dayofyear_1', 'dayofyear_2',\n",
              "       'dayofyear_3', 'dayofyear_4', 'dayofyear_5', 'dayofyear_6'],\n",
              "      dtype='object')"
            ]
          },
          "metadata": {},
          "execution_count": 495
        }
      ]
    },
    {
      "cell_type": "code",
      "metadata": {
        "colab": {
          "base_uri": "https://localhost:8080/"
        },
        "id": "muVthCpX8JPX",
        "outputId": "098201fa-1fd5-43c9-d368-4e1633077afa"
      },
      "source": [
        "db_t.columns"
      ],
      "execution_count": null,
      "outputs": [
        {
          "output_type": "execute_result",
          "data": {
            "text/plain": [
              "Index(['Store Grade', 'Store Number_1', 'Store Number_6', 'Store Number_7',\n",
              "       'City_3', 'City_7', 'City_8', 'Promotion_0', 'Promotion_1',\n",
              "       'Holiday Extent_0', 'Holiday Extent_2', 'Holiday Extent_3',\n",
              "       'Holiday Transferred_0', 'dayofyear_0', 'dayofyear_1', 'dayofyear_2',\n",
              "       'dayofyear_3', 'dayofyear_4', 'dayofyear_5', 'dayofyear_6'],\n",
              "      dtype='object')"
            ]
          },
          "metadata": {},
          "execution_count": 496
        }
      ]
    },
    {
      "cell_type": "markdown",
      "metadata": {
        "id": "iaEMLaSI7p9Y"
      },
      "source": [
        "# training the model on the model having the best accuracy in training set"
      ]
    },
    {
      "cell_type": "code",
      "metadata": {
        "id": "gI8i-y41PQLt"
      },
      "source": [
        "# using the best error model which was logistic regression model\n",
        "clf = linear_model.LogisticRegression(n_jobs=-1, penalty='elasticnet',l1_ratio=0.6, solver='saga',max_iter=800)\n",
        "clf.fit(df3, df_label)\n",
        "y_prediction = clf.predict(db_t)"
      ],
      "execution_count": null,
      "outputs": []
    },
    {
      "cell_type": "code",
      "metadata": {
        "colab": {
          "base_uri": "https://localhost:8080/"
        },
        "id": "J0nNWVa1FpqJ",
        "outputId": "8b3a4e47-48e0-4f3f-9295-284a343d42f4"
      },
      "source": [
        "# testing for training dataset error\n",
        "y_pred = clf.predict(df3)\n",
        "mean_absolute_percentage_error(df_label,y_pred)"
      ],
      "execution_count": null,
      "outputs": [
        {
          "output_type": "execute_result",
          "data": {
            "text/plain": [
              "0.23484204555188365"
            ]
          },
          "metadata": {},
          "execution_count": 498
        }
      ]
    },
    {
      "cell_type": "code",
      "metadata": {
        "id": "tbCLswBu8GLt"
      },
      "source": [
        "# Converting all datatypes to dataframe\n",
        "y_prediction = pd.DataFrame(y_prediction)\n",
        "db_id = pd.DataFrame(db_id)"
      ],
      "execution_count": null,
      "outputs": []
    },
    {
      "cell_type": "code",
      "metadata": {
        "id": "YumJC5r8EfD2"
      },
      "source": [
        "# adding the prediction to the id\n",
        "db_id['Sales'] = y_prediction"
      ],
      "execution_count": null,
      "outputs": []
    },
    {
      "cell_type": "code",
      "metadata": {
        "colab": {
          "base_uri": "https://localhost:8080/",
          "height": 204
        },
        "id": "R1uRja4oH31K",
        "outputId": "cd721ba7-4714-4759-d58c-087a2a4ccd8e"
      },
      "source": [
        "submission_df.head()"
      ],
      "execution_count": null,
      "outputs": [
        {
          "output_type": "execute_result",
          "data": {
            "text/html": [
              "<div>\n",
              "<style scoped>\n",
              "    .dataframe tbody tr th:only-of-type {\n",
              "        vertical-align: middle;\n",
              "    }\n",
              "\n",
              "    .dataframe tbody tr th {\n",
              "        vertical-align: top;\n",
              "    }\n",
              "\n",
              "    .dataframe thead th {\n",
              "        text-align: right;\n",
              "    }\n",
              "</style>\n",
              "<table border=\"1\" class=\"dataframe\">\n",
              "  <thead>\n",
              "    <tr style=\"text-align: right;\">\n",
              "      <th></th>\n",
              "      <th>id</th>\n",
              "      <th>Sales</th>\n",
              "    </tr>\n",
              "  </thead>\n",
              "  <tbody>\n",
              "    <tr>\n",
              "      <th>0</th>\n",
              "      <td>89679192</td>\n",
              "      <td>6.0</td>\n",
              "    </tr>\n",
              "    <tr>\n",
              "      <th>1</th>\n",
              "      <td>89683748</td>\n",
              "      <td>5.0</td>\n",
              "    </tr>\n",
              "    <tr>\n",
              "      <th>2</th>\n",
              "      <td>89685203</td>\n",
              "      <td>6.0</td>\n",
              "    </tr>\n",
              "    <tr>\n",
              "      <th>3</th>\n",
              "      <td>89689659</td>\n",
              "      <td>6.0</td>\n",
              "    </tr>\n",
              "    <tr>\n",
              "      <th>4</th>\n",
              "      <td>89694936</td>\n",
              "      <td>6.0</td>\n",
              "    </tr>\n",
              "  </tbody>\n",
              "</table>\n",
              "</div>"
            ],
            "text/plain": [
              "         id  Sales\n",
              "0  89679192    6.0\n",
              "1  89683748    5.0\n",
              "2  89685203    6.0\n",
              "3  89689659    6.0\n",
              "4  89694936    6.0"
            ]
          },
          "metadata": {},
          "execution_count": 501
        }
      ]
    },
    {
      "cell_type": "code",
      "metadata": {
        "id": "Ir11ClzPGzxN"
      },
      "source": [
        "# making submission_df\n",
        "submission_df = db_id"
      ],
      "execution_count": null,
      "outputs": []
    },
    {
      "cell_type": "code",
      "metadata": {
        "id": "tJG7S0L6EuPj"
      },
      "source": [
        "#Submission\n",
        "submission_df.to_csv('submissions.csv',index=False)"
      ],
      "execution_count": null,
      "outputs": []
    }
  ]
}