{
  "nbformat": 4,
  "nbformat_minor": 0,
  "metadata": {
    "colab": {
      "name": "restaurant_inspection_analysis.ipynb",
      "provenance": [],
      "collapsed_sections": [
        "Tq2l6cF_JC7-",
        "52f4EsMDA-k7",
        "F-dv8qhxI-3V"
      ]
    },
    "kernelspec": {
      "name": "python3",
      "display_name": "Python 3"
    },
    "language_info": {
      "name": "python"
    }
  },
  "cells": [
    {
      "cell_type": "markdown",
      "source": [
        "# importing the libraries"
      ],
      "metadata": {
        "id": "Tq2l6cF_JC7-"
      }
    },
    {
      "cell_type": "code",
      "execution_count": null,
      "metadata": {
        "id": "TNX2DdnScKr4"
      },
      "outputs": [],
      "source": [
        "import matplotlib.pyplot as plt\n",
        "import pandas as pd\n",
        "import seaborn as sns\n",
        "from sklearn.model_selection import train_test_split\n",
        "from sklearn.preprocessing import LabelEncoder,OneHotEncoder,OrdinalEncoder\n",
        "from sklearn import preprocessing\n",
        "from sklearn.model_selection import train_test_split\n",
        "import numpy as np\n",
        "\n",
        "# machine learning library\n",
        "from sklearn.neighbors import KNeighborsClassifier\n",
        "from sklearn.metrics import accuracy_score\n",
        "from sklearn.metrics import classification_report\n",
        "from sklearn.metrics import confusion_matrix\n",
        "from sklearn.svm import SVC\n",
        "from sklearn import svm\n",
        "from sklearn.ensemble import RandomForestClassifier\n",
        "from sklearn.tree import DecisionTreeClassifier\n",
        "from sklearn.neural_network import MLPClassifier\n",
        "from sklearn.ensemble import AdaBoostClassifier\n",
        "from sklearn.discriminant_analysis import QuadraticDiscriminantAnalysis\n",
        "from sklearn.naive_bayes import GaussianNB\n",
        "from sklearn.linear_model import LogisticRegression"
      ]
    },
    {
      "cell_type": "code",
      "source": [
        "%cd '/content/drive/MyDrive'"
      ],
      "metadata": {
        "colab": {
          "base_uri": "https://localhost:8080/"
        },
        "id": "GmI8zoRBcrzd",
        "outputId": "515ad886-c2b5-49c0-9bf0-3079cf915425"
      },
      "execution_count": null,
      "outputs": [
        {
          "output_type": "stream",
          "name": "stdout",
          "text": [
            "/content/drive/MyDrive\n"
          ]
        }
      ]
    },
    {
      "cell_type": "markdown",
      "source": [
        "# reading the data "
      ],
      "metadata": {
        "id": "gMDumN5iJHU9"
      }
    },
    {
      "cell_type": "markdown",
      "source": [
        "<b> Defining the columns that we are going to use and seperating them based on their types </b> "
      ],
      "metadata": {
        "id": "G6r3PzLp1VU-"
      }
    },
    {
      "cell_type": "code",
      "source": [
        "primary_key = ['RESTAURANT_SERIAL_NUMBER']\n",
        "nominal_features = ['RESTAURANT_CATEGORY','CITY','STATE','INSPECTION_TYPE', 'FIRST_VIOLATION_TYPE',\n",
        "       'SECOND_VIOLATION_TYPE', 'THIRD_VIOLATION_TYPE',]\n",
        "ordinal_features = ['CURRENT_GRADE']\n",
        "numerical_features = ['CURRENT_DEMERITS', 'EMPLOYEE_COUNT', 'INSPECTION_DEMERITS','NUMBER_OF_VIOLATIONS','FIRST_VIOLATION','SECOND_VIOLATION', 'THIRD_VIOLATION']\n",
        "continuous_features = ['MEDIAN_EMPLOYEE_AGE', 'MEDIAN_EMPLOYEE_TENURE',]\n",
        "target_feature = ['NEXT_INSPECTION_GRADE_C_OR_BELOW']\n",
        "categorical_features = nominal_features + ordinal_features\n",
        "all_columns = primary_key + categorical_features + numerical_features + continuous_features + target_feature"
      ],
      "metadata": {
        "id": "16m_bRztb-xW"
      },
      "execution_count": null,
      "outputs": []
    },
    {
      "cell_type": "markdown",
      "source": [
        "Loading the training and testing data.<br>\n",
        "Also adding additional column of the target variable as test set doesn't have that. <br>\n",
        "We are also specifying if a tuple is training or testing for seperating them after preprocessing\n"
      ],
      "metadata": {
        "id": "2iaUqbQ_1mk9"
      }
    },
    {
      "cell_type": "code",
      "source": [
        "\n",
        "d = preprocessing.normalize(housing)\n",
        "scaled_df = pd.DataFrame(d, columns=names)\n",
        "scaled_df.head()"
      ],
      "metadata": {
        "id": "SoTy4MjsAcpJ"
      },
      "execution_count": null,
      "outputs": []
    },
    {
      "cell_type": "code",
      "source": [
        "data_train = pd.read_csv(\"TRAIN_SET_2021.csv\", usecols= all_columns )\n",
        "data_train['type'] = 'train'\n",
        "data_test =  pd.read_csv('TEST_SET_2021.csv')\n",
        "data_test['NEXT_INSPECTION_GRADE_C_OR_BELOW'] = '0'\n",
        "data_test = data_test[all_columns]\n",
        "data_test['type'] = 'test'"
      ],
      "metadata": {
        "id": "XbIKpgT6c0dF"
      },
      "execution_count": null,
      "outputs": []
    },
    {
      "cell_type": "code",
      "source": [
        "# display of all the columns in the testing data\n",
        "data_test.columns"
      ],
      "metadata": {
        "colab": {
          "base_uri": "https://localhost:8080/"
        },
        "id": "6LceiGqSdDQO",
        "outputId": "953a95ae-4d0e-45e5-cb94-a2c35c9d92d2"
      },
      "execution_count": null,
      "outputs": [
        {
          "output_type": "execute_result",
          "data": {
            "text/plain": [
              "Index(['RESTAURANT_SERIAL_NUMBER', 'RESTAURANT_CATEGORY', 'CITY', 'STATE',\n",
              "       'INSPECTION_TYPE', 'FIRST_VIOLATION_TYPE', 'SECOND_VIOLATION_TYPE',\n",
              "       'THIRD_VIOLATION_TYPE', 'CURRENT_GRADE', 'CURRENT_DEMERITS',\n",
              "       'EMPLOYEE_COUNT', 'INSPECTION_DEMERITS', 'NUMBER_OF_VIOLATIONS',\n",
              "       'FIRST_VIOLATION', 'SECOND_VIOLATION', 'THIRD_VIOLATION',\n",
              "       'MEDIAN_EMPLOYEE_AGE', 'MEDIAN_EMPLOYEE_TENURE',\n",
              "       'NEXT_INSPECTION_GRADE_C_OR_BELOW', 'type'],\n",
              "      dtype='object')"
            ]
          },
          "metadata": {},
          "execution_count": 38
        }
      ]
    },
    {
      "cell_type": "code",
      "source": [
        "# Inspecting the database \n",
        "data_train.head()"
      ],
      "metadata": {
        "colab": {
          "base_uri": "https://localhost:8080/"
        },
        "id": "XLBDxDIWeFnL",
        "outputId": "5755933d-1190-4498-c7b0-b82e6a3536c9"
      },
      "execution_count": null,
      "outputs": [
        {
          "output_type": "execute_result",
          "data": {
            "text/html": [
              "\n",
              "  <div id=\"df-32b90bdd-7e91-44ac-89de-4d286e6b273a\">\n",
              "    <div class=\"colab-df-container\">\n",
              "      <div>\n",
              "<style scoped>\n",
              "    .dataframe tbody tr th:only-of-type {\n",
              "        vertical-align: middle;\n",
              "    }\n",
              "\n",
              "    .dataframe tbody tr th {\n",
              "        vertical-align: top;\n",
              "    }\n",
              "\n",
              "    .dataframe thead th {\n",
              "        text-align: right;\n",
              "    }\n",
              "</style>\n",
              "<table border=\"1\" class=\"dataframe\">\n",
              "  <thead>\n",
              "    <tr style=\"text-align: right;\">\n",
              "      <th></th>\n",
              "      <th>RESTAURANT_SERIAL_NUMBER</th>\n",
              "      <th>RESTAURANT_CATEGORY</th>\n",
              "      <th>CITY</th>\n",
              "      <th>STATE</th>\n",
              "      <th>CURRENT_DEMERITS</th>\n",
              "      <th>CURRENT_GRADE</th>\n",
              "      <th>EMPLOYEE_COUNT</th>\n",
              "      <th>MEDIAN_EMPLOYEE_AGE</th>\n",
              "      <th>MEDIAN_EMPLOYEE_TENURE</th>\n",
              "      <th>INSPECTION_TYPE</th>\n",
              "      <th>INSPECTION_DEMERITS</th>\n",
              "      <th>FIRST_VIOLATION</th>\n",
              "      <th>SECOND_VIOLATION</th>\n",
              "      <th>THIRD_VIOLATION</th>\n",
              "      <th>FIRST_VIOLATION_TYPE</th>\n",
              "      <th>SECOND_VIOLATION_TYPE</th>\n",
              "      <th>THIRD_VIOLATION_TYPE</th>\n",
              "      <th>NUMBER_OF_VIOLATIONS</th>\n",
              "      <th>NEXT_INSPECTION_GRADE_C_OR_BELOW</th>\n",
              "      <th>type</th>\n",
              "    </tr>\n",
              "  </thead>\n",
              "  <tbody>\n",
              "    <tr>\n",
              "      <th>0</th>\n",
              "      <td>DA1117270</td>\n",
              "      <td>Snack Bar</td>\n",
              "      <td>Las Vegas</td>\n",
              "      <td>Nevada</td>\n",
              "      <td>0.0</td>\n",
              "      <td>A</td>\n",
              "      <td>25.0</td>\n",
              "      <td>27.959983</td>\n",
              "      <td>13.004886</td>\n",
              "      <td>Routine Inspection</td>\n",
              "      <td>11</td>\n",
              "      <td>204.0</td>\n",
              "      <td>215.0</td>\n",
              "      <td>302.0</td>\n",
              "      <td>Critical</td>\n",
              "      <td>Major</td>\n",
              "      <td>Imminent Health Hazard</td>\n",
              "      <td>4</td>\n",
              "      <td>0</td>\n",
              "      <td>train</td>\n",
              "    </tr>\n",
              "    <tr>\n",
              "      <th>1</th>\n",
              "      <td>DA1014948</td>\n",
              "      <td>Restaurant</td>\n",
              "      <td>Las Vegas</td>\n",
              "      <td>Nevada</td>\n",
              "      <td>3.0</td>\n",
              "      <td>A</td>\n",
              "      <td>7.0</td>\n",
              "      <td>27.719365</td>\n",
              "      <td>3.922086</td>\n",
              "      <td>Routine Inspection</td>\n",
              "      <td>9</td>\n",
              "      <td>214.0</td>\n",
              "      <td>216.0</td>\n",
              "      <td>229.0</td>\n",
              "      <td>Major</td>\n",
              "      <td>Major</td>\n",
              "      <td>Non-Major</td>\n",
              "      <td>5</td>\n",
              "      <td>0</td>\n",
              "      <td>train</td>\n",
              "    </tr>\n",
              "    <tr>\n",
              "      <th>2</th>\n",
              "      <td>DA0861994</td>\n",
              "      <td>Restaurant</td>\n",
              "      <td>Las Vegas</td>\n",
              "      <td>Nevada</td>\n",
              "      <td>8.0</td>\n",
              "      <td>A</td>\n",
              "      <td>23.0</td>\n",
              "      <td>26.442637</td>\n",
              "      <td>10.312777</td>\n",
              "      <td>Routine Inspection</td>\n",
              "      <td>9</td>\n",
              "      <td>202.0</td>\n",
              "      <td>215.0</td>\n",
              "      <td>233.0</td>\n",
              "      <td>Critical</td>\n",
              "      <td>Major</td>\n",
              "      <td>Non-Major</td>\n",
              "      <td>3</td>\n",
              "      <td>1</td>\n",
              "      <td>train</td>\n",
              "    </tr>\n",
              "    <tr>\n",
              "      <th>3</th>\n",
              "      <td>DA0896719</td>\n",
              "      <td>Elementary School Kitchen</td>\n",
              "      <td>Las Vegas</td>\n",
              "      <td>Nevada</td>\n",
              "      <td>0.0</td>\n",
              "      <td>A</td>\n",
              "      <td>14.0</td>\n",
              "      <td>33.988293</td>\n",
              "      <td>4.163975</td>\n",
              "      <td>Routine Inspection</td>\n",
              "      <td>5</td>\n",
              "      <td>214.0</td>\n",
              "      <td>230.0</td>\n",
              "      <td>233.0</td>\n",
              "      <td>Major</td>\n",
              "      <td>Non-Major</td>\n",
              "      <td>Non-Major</td>\n",
              "      <td>3</td>\n",
              "      <td>0</td>\n",
              "      <td>train</td>\n",
              "    </tr>\n",
              "    <tr>\n",
              "      <th>4</th>\n",
              "      <td>DA1031041</td>\n",
              "      <td>Bar / Tavern</td>\n",
              "      <td>Las Vegas</td>\n",
              "      <td>Nevada</td>\n",
              "      <td>0.0</td>\n",
              "      <td>A</td>\n",
              "      <td>10.0</td>\n",
              "      <td>21.980282</td>\n",
              "      <td>13.462786</td>\n",
              "      <td>Routine Inspection</td>\n",
              "      <td>5</td>\n",
              "      <td>214.0</td>\n",
              "      <td>230.0</td>\n",
              "      <td>233.0</td>\n",
              "      <td>Major</td>\n",
              "      <td>Non-Major</td>\n",
              "      <td>Non-Major</td>\n",
              "      <td>NaN</td>\n",
              "      <td>0</td>\n",
              "      <td>train</td>\n",
              "    </tr>\n",
              "  </tbody>\n",
              "</table>\n",
              "</div>\n",
              "      <button class=\"colab-df-convert\" onclick=\"convertToInteractive('df-32b90bdd-7e91-44ac-89de-4d286e6b273a')\"\n",
              "              title=\"Convert this dataframe to an interactive table.\"\n",
              "              style=\"display:none;\">\n",
              "        \n",
              "  <svg xmlns=\"http://www.w3.org/2000/svg\" height=\"24px\"viewBox=\"0 0 24 24\"\n",
              "       width=\"24px\">\n",
              "    <path d=\"M0 0h24v24H0V0z\" fill=\"none\"/>\n",
              "    <path d=\"M18.56 5.44l.94 2.06.94-2.06 2.06-.94-2.06-.94-.94-2.06-.94 2.06-2.06.94zm-11 1L8.5 8.5l.94-2.06 2.06-.94-2.06-.94L8.5 2.5l-.94 2.06-2.06.94zm10 10l.94 2.06.94-2.06 2.06-.94-2.06-.94-.94-2.06-.94 2.06-2.06.94z\"/><path d=\"M17.41 7.96l-1.37-1.37c-.4-.4-.92-.59-1.43-.59-.52 0-1.04.2-1.43.59L10.3 9.45l-7.72 7.72c-.78.78-.78 2.05 0 2.83L4 21.41c.39.39.9.59 1.41.59.51 0 1.02-.2 1.41-.59l7.78-7.78 2.81-2.81c.8-.78.8-2.07 0-2.86zM5.41 20L4 18.59l7.72-7.72 1.47 1.35L5.41 20z\"/>\n",
              "  </svg>\n",
              "      </button>\n",
              "      \n",
              "  <style>\n",
              "    .colab-df-container {\n",
              "      display:flex;\n",
              "      flex-wrap:wrap;\n",
              "      gap: 12px;\n",
              "    }\n",
              "\n",
              "    .colab-df-convert {\n",
              "      background-color: #E8F0FE;\n",
              "      border: none;\n",
              "      border-radius: 50%;\n",
              "      cursor: pointer;\n",
              "      display: none;\n",
              "      fill: #1967D2;\n",
              "      height: 32px;\n",
              "      padding: 0 0 0 0;\n",
              "      width: 32px;\n",
              "    }\n",
              "\n",
              "    .colab-df-convert:hover {\n",
              "      background-color: #E2EBFA;\n",
              "      box-shadow: 0px 1px 2px rgba(60, 64, 67, 0.3), 0px 1px 3px 1px rgba(60, 64, 67, 0.15);\n",
              "      fill: #174EA6;\n",
              "    }\n",
              "\n",
              "    [theme=dark] .colab-df-convert {\n",
              "      background-color: #3B4455;\n",
              "      fill: #D2E3FC;\n",
              "    }\n",
              "\n",
              "    [theme=dark] .colab-df-convert:hover {\n",
              "      background-color: #434B5C;\n",
              "      box-shadow: 0px 1px 3px 1px rgba(0, 0, 0, 0.15);\n",
              "      filter: drop-shadow(0px 1px 2px rgba(0, 0, 0, 0.3));\n",
              "      fill: #FFFFFF;\n",
              "    }\n",
              "  </style>\n",
              "\n",
              "      <script>\n",
              "        const buttonEl =\n",
              "          document.querySelector('#df-32b90bdd-7e91-44ac-89de-4d286e6b273a button.colab-df-convert');\n",
              "        buttonEl.style.display =\n",
              "          google.colab.kernel.accessAllowed ? 'block' : 'none';\n",
              "\n",
              "        async function convertToInteractive(key) {\n",
              "          const element = document.querySelector('#df-32b90bdd-7e91-44ac-89de-4d286e6b273a');\n",
              "          const dataTable =\n",
              "            await google.colab.kernel.invokeFunction('convertToInteractive',\n",
              "                                                     [key], {});\n",
              "          if (!dataTable) return;\n",
              "\n",
              "          const docLinkHtml = 'Like what you see? Visit the ' +\n",
              "            '<a target=\"_blank\" href=https://colab.research.google.com/notebooks/data_table.ipynb>data table notebook</a>'\n",
              "            + ' to learn more about interactive tables.';\n",
              "          element.innerHTML = '';\n",
              "          dataTable['output_type'] = 'display_data';\n",
              "          await google.colab.output.renderOutput(dataTable, element);\n",
              "          const docLink = document.createElement('div');\n",
              "          docLink.innerHTML = docLinkHtml;\n",
              "          element.appendChild(docLink);\n",
              "        }\n",
              "      </script>\n",
              "    </div>\n",
              "  </div>\n",
              "  "
            ],
            "text/plain": [
              "  RESTAURANT_SERIAL_NUMBER  ...   type\n",
              "0                DA1117270  ...  train\n",
              "1                DA1014948  ...  train\n",
              "2                DA0861994  ...  train\n",
              "3                DA0896719  ...  train\n",
              "4                DA1031041  ...  train\n",
              "\n",
              "[5 rows x 20 columns]"
            ]
          },
          "metadata": {},
          "execution_count": 39
        }
      ]
    },
    {
      "cell_type": "markdown",
      "source": [
        "# analyzing columns of the training set"
      ],
      "metadata": {
        "id": "52f4EsMDA-k7"
      }
    },
    {
      "cell_type": "markdown",
      "source": [
        "Now we will be analyzing various categories of the training set to get an understanding of the dataset<br>\n",
        "We would be looking for all the values that a particular category couldn't have. eg. Some categories can't have special variables, negative variables or even string variables. "
      ],
      "metadata": {
        "id": "ezyDB4Aw2Kvh"
      }
    },
    {
      "cell_type": "code",
      "source": [
        "data_train['RESTAURANT_CATEGORY'].value_counts()"
      ],
      "metadata": {
        "colab": {
          "base_uri": "https://localhost:8080/"
        },
        "id": "pq9J1pOWA8Ph",
        "outputId": "06c53ffb-08f0-447b-e782-0d0188d8e323"
      },
      "execution_count": null,
      "outputs": [
        {
          "output_type": "execute_result",
          "data": {
            "text/plain": [
              "Restaurant                     9316\n",
              "Bar / Tavern                   2369\n",
              "Snack Bar                      1285\n",
              "Special Kitchen                1158\n",
              "Buffet                          228\n",
              "Portable Unit                   199\n",
              "Pantry                          165\n",
              "Meat/Poultry/Seafood            140\n",
              "Food Trucks / Mobile Vendor      99\n",
              "Caterer                          71\n",
              "Banquet Kitchen                  65\n",
              "Kitchen Bakery                   60\n",
              "Garde Manger                     47\n",
              "Bakery Sales                     47\n",
              "Vegetable Prep                   44\n",
              "Produce Market                   33\n",
              "Institutional Food Service       32\n",
              "Concessions                      29\n",
              "Confection                       26\n",
              "Elementary School Kitchen        20\n",
              "Grocery Store Sampling           19\n",
              "Banquet Support                  16\n",
              "Portable Bar                     15\n",
              "Childcare Kitchens               15\n",
              "Barbeque                         14\n",
              "Gastropub                         9\n",
              "Main Kitchen                      8\n",
              "Gas Station                       8\n",
              "Beer Bar                          3\n",
              "Farmers Market                    2\n",
              "Self-Service Food Truck           1\n",
              "Name: RESTAURANT_CATEGORY, dtype: int64"
            ]
          },
          "metadata": {},
          "execution_count": 40
        }
      ]
    },
    {
      "cell_type": "code",
      "source": [
        "data_train['STATE'].value_counts()"
      ],
      "metadata": {
        "colab": {
          "base_uri": "https://localhost:8080/"
        },
        "id": "NrLxCCUEBP08",
        "outputId": "790e3fd6-dd3c-45b1-deb6-8d430c1660f2"
      },
      "execution_count": null,
      "outputs": [
        {
          "output_type": "execute_result",
          "data": {
            "text/plain": [
              "Nevada        15437\n",
              "New York          9\n",
              "SK                8\n",
              "NeVaDa            1\n",
              "Washington        1\n",
              "Nevada!           1\n",
              "Star Trek         1\n",
              "Montana           1\n",
              "TT                1\n",
              "New Mexico        1\n",
              "Florida           1\n",
              "NEVADA            1\n",
              "Nevada?           1\n",
              "Name: STATE, dtype: int64"
            ]
          },
          "metadata": {},
          "execution_count": 41
        }
      ]
    },
    {
      "cell_type": "markdown",
      "source": [
        "As the data is taken from metropolitan las vegas we should only consider the state having the value nevada.<br> We should also consider state that have case difference in nevada and states having nevada with some special case character. "
      ],
      "metadata": {
        "id": "10ZWvz7WBZ5k"
      }
    },
    {
      "cell_type": "code",
      "source": [
        "data_train['CITY'].value_counts()"
      ],
      "metadata": {
        "colab": {
          "base_uri": "https://localhost:8080/"
        },
        "id": "FzZXv-bGHaIq",
        "outputId": "ec37a3d5-b675-4760-eebe-481cfcc46036"
      },
      "execution_count": null,
      "outputs": [
        {
          "output_type": "execute_result",
          "data": {
            "text/plain": [
              "Las Vegas                12352\n",
              "Henderson                 1511\n",
              "North Las Vegas            895\n",
              "Laughlin                   196\n",
              "Mesquite                   159\n",
              "Boulder City               132\n",
              "Primm                      103\n",
              "Searchlight                 13\n",
              "Indian Springs              11\n",
              "Logandale                   11\n",
              "Overton                     10\n",
              "New York                     9\n",
              "Saskatoon                    8\n",
              "Blue Diamond                 5\n",
              "Moapa                        4\n",
              "Jean                         3\n",
              "Goodsprings                  2\n",
              "Sandy Valley                 2\n",
              "Cal-Nev-Ari                  2\n",
              "HendeSON                     2\n",
              "HENDERSON                    1\n",
              "Port of Spain                1\n",
              "Miami                        1\n",
              "Deep Space Nine              1\n",
              "Jellystone Park              1\n",
              "Truth or Consequences        1\n",
              "Walla Walla                  1\n",
              "Name: CITY, dtype: int64"
            ]
          },
          "metadata": {},
          "execution_count": 42
        }
      ]
    },
    {
      "cell_type": "markdown",
      "source": [
        "Though most of the data looks good there is some garbage value like Truth or Consequences"
      ],
      "metadata": {
        "id": "nrpiGxjp2oMB"
      }
    },
    {
      "cell_type": "code",
      "source": [
        "data_train['CURRENT_GRADE'].value_counts()"
      ],
      "metadata": {
        "colab": {
          "base_uri": "https://localhost:8080/"
        },
        "id": "btXkLjU-BW4L",
        "outputId": "d95181be-1e76-4623-866f-18b8a39d996e"
      },
      "execution_count": null,
      "outputs": [
        {
          "output_type": "execute_result",
          "data": {
            "text/plain": [
              "A             14915\n",
              "B               215\n",
              "C               104\n",
              "X                75\n",
              "O                32\n",
              "N                13\n",
              "7                 2\n",
              "NASA              1\n",
              "I                 1\n",
              "A+                1\n",
              "UPN               1\n",
              "K                 1\n",
              ".\\<><1@#&|        1\n",
              "U                 1\n",
              "VPN               1\n",
              "EIEIO             1\n",
              "Name: CURRENT_GRADE, dtype: int64"
            ]
          },
          "metadata": {},
          "execution_count": 43
        }
      ]
    },
    {
      "cell_type": "markdown",
      "source": [
        "The valid grades are A,B,C,X,O,N. we can remove the rest as they are outliers."
      ],
      "metadata": {
        "id": "LjpCjNJSHF5B"
      }
    },
    {
      "cell_type": "code",
      "source": [
        "data_train['INSPECTION_TYPE'].value_counts()"
      ],
      "metadata": {
        "colab": {
          "base_uri": "https://localhost:8080/"
        },
        "id": "uhM4bu4-G_cq",
        "outputId": "21067f7d-869c-400e-eb9b-e8d673a5030f"
      },
      "execution_count": null,
      "outputs": [
        {
          "output_type": "execute_result",
          "data": {
            "text/plain": [
              "Routine Inspection                     14581\n",
              "Re-inspection                            867\n",
              "Routine Non-Inspection                     2\n",
              "This Value Intentionally Left Blank        1\n",
              "9/20/2011 14:25                            1\n",
              "Name: INSPECTION_TYPE, dtype: int64"
            ]
          },
          "metadata": {},
          "execution_count": 44
        }
      ]
    },
    {
      "cell_type": "markdown",
      "source": [
        "there are a lot of garbage data like the date or This value is Intentionally left blank"
      ],
      "metadata": {
        "id": "yatwh5zpHoq0"
      }
    },
    {
      "cell_type": "code",
      "source": [
        "data_train['FIRST_VIOLATION'].value_counts()"
      ],
      "metadata": {
        "colab": {
          "base_uri": "https://localhost:8080/"
        },
        "id": "INK0pzu7Hmyg",
        "outputId": "a7f86831-5008-469f-a8a5-0d93adc73ee9"
      },
      "execution_count": null,
      "outputs": [
        {
          "output_type": "execute_result",
          "data": {
            "text/plain": [
              "202.0        2869\n",
              "209.0        1467\n",
              "211.0        1436\n",
              "214.0        1211\n",
              "206.0         971\n",
              "             ... \n",
              "29.0            3\n",
              "17.0            2\n",
              "15.0            2\n",
              "3.0             1\n",
              "8675309.0       1\n",
              "Name: FIRST_VIOLATION, Length: 68, dtype: int64"
            ]
          },
          "metadata": {},
          "execution_count": 45
        }
      ]
    },
    {
      "cell_type": "code",
      "source": [
        "data_train['FIRST_VIOLATION_TYPE'].value_counts()"
      ],
      "metadata": {
        "colab": {
          "base_uri": "https://localhost:8080/"
        },
        "id": "5qE4j28oH6Ln",
        "outputId": "468d55fc-ef67-4591-e455-bc5b9e14818d"
      },
      "execution_count": null,
      "outputs": [
        {
          "output_type": "execute_result",
          "data": {
            "text/plain": [
              "Critical                  7194\n",
              "Major                     6735\n",
              "Non-Major                 1588\n",
              "Imminent Health Hazard       3\n",
              "Radical                      1\n",
              "Major-ish                    1\n",
              "Excellent                    1\n",
              "To Infinity and Beyond       1\n",
              "Bullwinkle                   1\n",
              "Extra Crispy                 1\n",
              "Not Sure                     1\n",
              "Name: FIRST_VIOLATION_TYPE, dtype: int64"
            ]
          },
          "metadata": {},
          "execution_count": 46
        }
      ]
    },
    {
      "cell_type": "markdown",
      "source": [
        "There are many garbage value here. The main categories are Critical, Major, Non-Major"
      ],
      "metadata": {
        "id": "A7Wj2N4aZ8vK"
      }
    },
    {
      "cell_type": "code",
      "source": [
        "data_train['EMPLOYEE_COUNT'].value_counts()"
      ],
      "metadata": {
        "colab": {
          "base_uri": "https://localhost:8080/"
        },
        "id": "BIj-865-Z0eS",
        "outputId": "0b9985fd-3693-4b65-fbf6-39e8c9fe9825"
      },
      "execution_count": null,
      "outputs": [
        {
          "output_type": "execute_result",
          "data": {
            "text/plain": [
              " 3.0         2148\n",
              " 14.0         643\n",
              " 13.0         632\n",
              " 11.0         622\n",
              " 15.0         619\n",
              " 18.0         605\n",
              " 17.0         596\n",
              " 16.0         593\n",
              " 12.0         585\n",
              " 10.0         574\n",
              " 19.0         548\n",
              " 9.0          525\n",
              " 8.0          511\n",
              " 22.0         490\n",
              " 21.0         472\n",
              " 20.0         468\n",
              " 7.0          451\n",
              " 6.0          435\n",
              " 5.0          416\n",
              " 23.0         414\n",
              " 24.0         401\n",
              " 25.0         362\n",
              " 4.0          359\n",
              " 26.0         345\n",
              " 27.0         274\n",
              " 28.0         226\n",
              " 29.0         226\n",
              " 30.0         176\n",
              " 31.0         168\n",
              " 32.0         132\n",
              " 33.0         117\n",
              " 34.0         104\n",
              " 35.0          78\n",
              " 37.0          44\n",
              " 38.0          42\n",
              " 39.0          38\n",
              " 36.0          35\n",
              " 40.0          20\n",
              " 41.0          20\n",
              " 42.0          18\n",
              " 43.0          16\n",
              " 44.0           8\n",
              " 47.0           6\n",
              " 45.0           5\n",
              " 52.0           3\n",
              " 48.0           2\n",
              " 46.0           2\n",
              " 687.0          1\n",
              "-7.0            1\n",
              " 53.0           1\n",
              " 111447.0       1\n",
              " 49.0           1\n",
              " 902.0          1\n",
              "Name: EMPLOYEE_COUNT, dtype: int64"
            ]
          },
          "metadata": {},
          "execution_count": 47
        }
      ]
    },
    {
      "cell_type": "markdown",
      "source": [
        "Large values like 111447 and -7.0 are outliers for employee count. So we can limit the employee count to a particular range for better predictions"
      ],
      "metadata": {
        "id": "8H1atVpqIsFh"
      }
    },
    {
      "cell_type": "code",
      "source": [
        "data_train['CURRENT_DEMERITS'].value_counts()"
      ],
      "metadata": {
        "colab": {
          "base_uri": "https://localhost:8080/"
        },
        "id": "_tXbXt--aEGD",
        "outputId": "635b7235-a0af-4e48-f40b-a47cf05c15fd"
      },
      "execution_count": null,
      "outputs": [
        {
          "output_type": "execute_result",
          "data": {
            "text/plain": [
              " 0.000       3935\n",
              " 3.000       3121\n",
              " 8.000       2439\n",
              " 6.000       2208\n",
              " 9.000       1871\n",
              " 5.000        765\n",
              " 10.000       451\n",
              " 7.000        111\n",
              " 19.000        73\n",
              " 4.000         60\n",
              " 20.000        50\n",
              " 1.000         48\n",
              " 2.000         35\n",
              " 14.000        35\n",
              " 17.000        23\n",
              " 11.000        16\n",
              " 27.000        16\n",
              " 12.000        15\n",
              " 22.000        13\n",
              " 32.000        13\n",
              " 25.000        13\n",
              " 16.000        12\n",
              " 18.000        11\n",
              " 31.000        10\n",
              " 30.000         9\n",
              " 46.000         9\n",
              " 100.000        8\n",
              " 23.000         8\n",
              " 42.000         7\n",
              " 13.000         7\n",
              " 51.000         7\n",
              " 39.000         6\n",
              " 35.000         6\n",
              " 24.000         6\n",
              " 26.000         6\n",
              " 28.000         5\n",
              " 15.000         5\n",
              " 38.000         5\n",
              " 43.000         3\n",
              " 21.000         2\n",
              " 37.000         1\n",
              " 987.000        1\n",
              " 3.140          1\n",
              " 1.414          1\n",
              " 89.000         1\n",
              " 88.000         1\n",
              "-8.000          1\n",
              " 48.000         1\n",
              " 2.200          1\n",
              " 33.000         1\n",
              " 98.000         1\n",
              " 363.000        1\n",
              " 87.000         1\n",
              " 1214.000       1\n",
              "Name: CURRENT_DEMERITS, dtype: int64"
            ]
          },
          "metadata": {},
          "execution_count": 48
        }
      ]
    },
    {
      "cell_type": "markdown",
      "source": [
        "Similiar to employee count we can also limit the demerits to a range for better predictions."
      ],
      "metadata": {
        "id": "TiXJE0M73KkT"
      }
    },
    {
      "cell_type": "code",
      "source": [
        "data_train['INSPECTION_DEMERITS'].value_counts()"
      ],
      "metadata": {
        "colab": {
          "base_uri": "https://localhost:8080/"
        },
        "id": "im2CoR_laWfU",
        "outputId": "78ab3027-e329-409d-d63f-01309daa9aad"
      },
      "execution_count": null,
      "outputs": [
        {
          "output_type": "execute_result",
          "data": {
            "text/plain": [
              "10                    1911\n",
              "9                     1792\n",
              "7                     1155\n",
              "19                    1148\n",
              "20                    1141\n",
              "                      ... \n",
              "86                       1\n",
              "60                       1\n",
              "62                       1\n",
              "Routine Inspection       1\n",
              "56                       1\n",
              "Name: INSPECTION_DEMERITS, Length: 64, dtype: int64"
            ]
          },
          "metadata": {},
          "execution_count": 49
        }
      ]
    },
    {
      "cell_type": "code",
      "source": [
        "data_train['NUMBER_OF_VIOLATIONS'].value_counts()"
      ],
      "metadata": {
        "colab": {
          "base_uri": "https://localhost:8080/"
        },
        "id": "WizFMc07amIm",
        "outputId": "486f3828-d51b-43de-dc86-5a2293238204"
      },
      "execution_count": null,
      "outputs": [
        {
          "output_type": "execute_result",
          "data": {
            "text/plain": [
              "3         3718\n",
              "4         3489\n",
              "5         2006\n",
              "6         1726\n",
              "7         1231\n",
              "8          991\n",
              "9          631\n",
              "10         487\n",
              "11         332\n",
              "12         273\n",
              "13         192\n",
              "14         132\n",
              "15         105\n",
              "16          69\n",
              "17          40\n",
              "18          27\n",
              "19          17\n",
              "20           9\n",
              "23           6\n",
              "22           6\n",
              "21           5\n",
              "24           4\n",
              "25           4\n",
              "28           1\n",
              "30           1\n",
              "42           1\n",
              "Nevada       1\n",
              "Name: NUMBER_OF_VIOLATIONS, dtype: int64"
            ]
          },
          "metadata": {},
          "execution_count": 50
        }
      ]
    },
    {
      "cell_type": "markdown",
      "source": [
        "Garbage value like Nevada needs to be removed and it can also be filtered for only a particular range."
      ],
      "metadata": {
        "id": "7GZc6HT6argC"
      }
    },
    {
      "cell_type": "code",
      "source": [
        "data_train['MEDIAN_EMPLOYEE_AGE'].value_counts()"
      ],
      "metadata": {
        "colab": {
          "base_uri": "https://localhost:8080/"
        },
        "id": "1DF35KMca1RT",
        "outputId": "574f2c8d-ae05-41e8-9b1c-1238996e4930"
      },
      "execution_count": null,
      "outputs": [
        {
          "output_type": "execute_result",
          "data": {
            "text/plain": [
              "18.000000    347\n",
              "36.113601      1\n",
              "26.925228      1\n",
              "32.435087      1\n",
              "28.140841      1\n",
              "            ... \n",
              "27.894062      1\n",
              "22.181251      1\n",
              "32.127664      1\n",
              "28.024775      1\n",
              "23.186349      1\n",
              "Name: MEDIAN_EMPLOYEE_AGE, Length: 15293, dtype: int64"
            ]
          },
          "metadata": {},
          "execution_count": 51
        }
      ]
    },
    {
      "cell_type": "code",
      "source": [
        "data_train['MEDIAN_EMPLOYEE_TENURE'].value_counts()"
      ],
      "metadata": {
        "colab": {
          "base_uri": "https://localhost:8080/"
        },
        "id": "6hpuYeAJa6vL",
        "outputId": "8e830aa8-3ea6-47fd-9ea5-aef3f2df4f87"
      },
      "execution_count": null,
      "outputs": [
        {
          "output_type": "execute_result",
          "data": {
            "text/plain": [
              "10.219859    1\n",
              "1.977146     1\n",
              "2.415526     1\n",
              "4.013901     1\n",
              "4.622417     1\n",
              "            ..\n",
              "7.060338     1\n",
              "2.085001     1\n",
              "4.498487     1\n",
              "3.887003     1\n",
              "1.526359     1\n",
              "Name: MEDIAN_EMPLOYEE_TENURE, Length: 15376, dtype: int64"
            ]
          },
          "metadata": {},
          "execution_count": 52
        }
      ]
    },
    {
      "cell_type": "markdown",
      "source": [
        "The continuous variables like Median Employee age and Median Employee tenure could be Discretized and then normalized for better predictions.<br>\n",
        "There is no particular outlier in the continuous variables"
      ],
      "metadata": {
        "id": "gDtdQNL_3dAQ"
      }
    },
    {
      "cell_type": "code",
      "source": [
        "data_train['NEXT_INSPECTION_GRADE_C_OR_BELOW'].value_counts()"
      ],
      "metadata": {
        "colab": {
          "base_uri": "https://localhost:8080/"
        },
        "id": "5up1Du1obETK",
        "outputId": "692a58c0-8047-4129-a5fd-4c358d970197"
      },
      "execution_count": null,
      "outputs": [
        {
          "output_type": "execute_result",
          "data": {
            "text/plain": [
              "0       13143\n",
              "1        2484\n",
              "7           1\n",
              "-3          1\n",
              "Goat        1\n",
              "3           1\n",
              "4           1\n",
              "9           1\n",
              "Name: NEXT_INSPECTION_GRADE_C_OR_BELOW, dtype: int64"
            ]
          },
          "metadata": {},
          "execution_count": 53
        }
      ]
    },
    {
      "cell_type": "markdown",
      "source": [
        "As the inspection grade could only be 0 or 1. There are a lot of outliers in NEXT_INSPECTION_GRADE"
      ],
      "metadata": {
        "id": "l2MOPJTTbIkc"
      }
    },
    {
      "cell_type": "markdown",
      "source": [
        "# preprocessing the whole data"
      ],
      "metadata": {
        "id": "F-dv8qhxI-3V"
      }
    },
    {
      "cell_type": "markdown",
      "source": [
        "In this step we are going to preprocess the data by using the insights that we gained while analyzing the columns.<br> We are going to filter the categorical variables and target variables<br> Filter the numerical variables in a particular range. <br> Discretize the continuous variables and normalize both the categorical and continuous variables.\n"
      ],
      "metadata": {
        "id": "Uy7zu3J33_5Q"
      }
    },
    {
      "cell_type": "code",
      "source": [
        "# joining the testing data and the training data for the preprocessing step\n",
        "df = data_train.append(data_test)"
      ],
      "metadata": {
        "id": "1i5obKBqIGvf"
      },
      "execution_count": null,
      "outputs": []
    },
    {
      "cell_type": "code",
      "source": [
        "for i in all_columns:\n",
        "  df.dropna(subset = [i], inplace =  True)\n",
        "df.head(20)"
      ],
      "metadata": {
        "colab": {
          "base_uri": "https://localhost:8080/"
        },
        "id": "sBmRnbYmDUqc",
        "outputId": "d7b66084-8af6-4cfd-ab85-d203fba613c9"
      },
      "execution_count": null,
      "outputs": [
        {
          "output_type": "execute_result",
          "data": {
            "text/html": [
              "\n",
              "  <div id=\"df-6ff5f570-d900-4eab-bd78-68a1b91c6a20\">\n",
              "    <div class=\"colab-df-container\">\n",
              "      <div>\n",
              "<style scoped>\n",
              "    .dataframe tbody tr th:only-of-type {\n",
              "        vertical-align: middle;\n",
              "    }\n",
              "\n",
              "    .dataframe tbody tr th {\n",
              "        vertical-align: top;\n",
              "    }\n",
              "\n",
              "    .dataframe thead th {\n",
              "        text-align: right;\n",
              "    }\n",
              "</style>\n",
              "<table border=\"1\" class=\"dataframe\">\n",
              "  <thead>\n",
              "    <tr style=\"text-align: right;\">\n",
              "      <th></th>\n",
              "      <th>RESTAURANT_SERIAL_NUMBER</th>\n",
              "      <th>RESTAURANT_CATEGORY</th>\n",
              "      <th>CITY</th>\n",
              "      <th>STATE</th>\n",
              "      <th>CURRENT_DEMERITS</th>\n",
              "      <th>CURRENT_GRADE</th>\n",
              "      <th>EMPLOYEE_COUNT</th>\n",
              "      <th>MEDIAN_EMPLOYEE_AGE</th>\n",
              "      <th>MEDIAN_EMPLOYEE_TENURE</th>\n",
              "      <th>INSPECTION_TYPE</th>\n",
              "      <th>INSPECTION_DEMERITS</th>\n",
              "      <th>FIRST_VIOLATION</th>\n",
              "      <th>SECOND_VIOLATION</th>\n",
              "      <th>THIRD_VIOLATION</th>\n",
              "      <th>FIRST_VIOLATION_TYPE</th>\n",
              "      <th>SECOND_VIOLATION_TYPE</th>\n",
              "      <th>THIRD_VIOLATION_TYPE</th>\n",
              "      <th>NUMBER_OF_VIOLATIONS</th>\n",
              "      <th>NEXT_INSPECTION_GRADE_C_OR_BELOW</th>\n",
              "      <th>type</th>\n",
              "    </tr>\n",
              "  </thead>\n",
              "  <tbody>\n",
              "    <tr>\n",
              "      <th>0</th>\n",
              "      <td>DA1117270</td>\n",
              "      <td>Snack Bar</td>\n",
              "      <td>Las Vegas</td>\n",
              "      <td>Nevada</td>\n",
              "      <td>0.0</td>\n",
              "      <td>A</td>\n",
              "      <td>25.0</td>\n",
              "      <td>27.959983</td>\n",
              "      <td>13.004886</td>\n",
              "      <td>Routine Inspection</td>\n",
              "      <td>11</td>\n",
              "      <td>204.0</td>\n",
              "      <td>215.0</td>\n",
              "      <td>302.0</td>\n",
              "      <td>Critical</td>\n",
              "      <td>Major</td>\n",
              "      <td>Imminent Health Hazard</td>\n",
              "      <td>4</td>\n",
              "      <td>0</td>\n",
              "      <td>train</td>\n",
              "    </tr>\n",
              "    <tr>\n",
              "      <th>1</th>\n",
              "      <td>DA1014948</td>\n",
              "      <td>Restaurant</td>\n",
              "      <td>Las Vegas</td>\n",
              "      <td>Nevada</td>\n",
              "      <td>3.0</td>\n",
              "      <td>A</td>\n",
              "      <td>7.0</td>\n",
              "      <td>27.719365</td>\n",
              "      <td>3.922086</td>\n",
              "      <td>Routine Inspection</td>\n",
              "      <td>9</td>\n",
              "      <td>214.0</td>\n",
              "      <td>216.0</td>\n",
              "      <td>229.0</td>\n",
              "      <td>Major</td>\n",
              "      <td>Major</td>\n",
              "      <td>Non-Major</td>\n",
              "      <td>5</td>\n",
              "      <td>0</td>\n",
              "      <td>train</td>\n",
              "    </tr>\n",
              "    <tr>\n",
              "      <th>2</th>\n",
              "      <td>DA0861994</td>\n",
              "      <td>Restaurant</td>\n",
              "      <td>Las Vegas</td>\n",
              "      <td>Nevada</td>\n",
              "      <td>8.0</td>\n",
              "      <td>A</td>\n",
              "      <td>23.0</td>\n",
              "      <td>26.442637</td>\n",
              "      <td>10.312777</td>\n",
              "      <td>Routine Inspection</td>\n",
              "      <td>9</td>\n",
              "      <td>202.0</td>\n",
              "      <td>215.0</td>\n",
              "      <td>233.0</td>\n",
              "      <td>Critical</td>\n",
              "      <td>Major</td>\n",
              "      <td>Non-Major</td>\n",
              "      <td>3</td>\n",
              "      <td>1</td>\n",
              "      <td>train</td>\n",
              "    </tr>\n",
              "    <tr>\n",
              "      <th>3</th>\n",
              "      <td>DA0896719</td>\n",
              "      <td>Elementary School Kitchen</td>\n",
              "      <td>Las Vegas</td>\n",
              "      <td>Nevada</td>\n",
              "      <td>0.0</td>\n",
              "      <td>A</td>\n",
              "      <td>14.0</td>\n",
              "      <td>33.988293</td>\n",
              "      <td>4.163975</td>\n",
              "      <td>Routine Inspection</td>\n",
              "      <td>5</td>\n",
              "      <td>214.0</td>\n",
              "      <td>230.0</td>\n",
              "      <td>233.0</td>\n",
              "      <td>Major</td>\n",
              "      <td>Non-Major</td>\n",
              "      <td>Non-Major</td>\n",
              "      <td>3</td>\n",
              "      <td>0</td>\n",
              "      <td>train</td>\n",
              "    </tr>\n",
              "    <tr>\n",
              "      <th>5</th>\n",
              "      <td>DA1567561</td>\n",
              "      <td>Bar / Tavern</td>\n",
              "      <td>Las Vegas</td>\n",
              "      <td>Nevada</td>\n",
              "      <td>3.0</td>\n",
              "      <td>A</td>\n",
              "      <td>43.0</td>\n",
              "      <td>25.947206</td>\n",
              "      <td>3.839934</td>\n",
              "      <td>Routine Inspection</td>\n",
              "      <td>17</td>\n",
              "      <td>206.0</td>\n",
              "      <td>211.0</td>\n",
              "      <td>215.0</td>\n",
              "      <td>Critical</td>\n",
              "      <td>Major</td>\n",
              "      <td>Major</td>\n",
              "      <td>7</td>\n",
              "      <td>0</td>\n",
              "      <td>train</td>\n",
              "    </tr>\n",
              "    <tr>\n",
              "      <th>6</th>\n",
              "      <td>DA0613867</td>\n",
              "      <td>Restaurant</td>\n",
              "      <td>Las Vegas</td>\n",
              "      <td>Nevada</td>\n",
              "      <td>6.0</td>\n",
              "      <td>A</td>\n",
              "      <td>10.0</td>\n",
              "      <td>32.910780</td>\n",
              "      <td>2.673364</td>\n",
              "      <td>Routine Inspection</td>\n",
              "      <td>10</td>\n",
              "      <td>14.0</td>\n",
              "      <td>28.0</td>\n",
              "      <td>31.0</td>\n",
              "      <td>Major</td>\n",
              "      <td>Non-Major</td>\n",
              "      <td>Non-Major</td>\n",
              "      <td>4</td>\n",
              "      <td>0</td>\n",
              "      <td>train</td>\n",
              "    </tr>\n",
              "    <tr>\n",
              "      <th>7</th>\n",
              "      <td>DA1153429</td>\n",
              "      <td>Restaurant</td>\n",
              "      <td>Las Vegas</td>\n",
              "      <td>Nevada</td>\n",
              "      <td>0.0</td>\n",
              "      <td>A</td>\n",
              "      <td>14.0</td>\n",
              "      <td>34.199497</td>\n",
              "      <td>4.766880</td>\n",
              "      <td>Routine Inspection</td>\n",
              "      <td>20</td>\n",
              "      <td>209.0</td>\n",
              "      <td>212.0</td>\n",
              "      <td>217.0</td>\n",
              "      <td>Critical</td>\n",
              "      <td>Major</td>\n",
              "      <td>Major</td>\n",
              "      <td>12</td>\n",
              "      <td>0</td>\n",
              "      <td>train</td>\n",
              "    </tr>\n",
              "    <tr>\n",
              "      <th>8</th>\n",
              "      <td>DA0954366</td>\n",
              "      <td>Restaurant</td>\n",
              "      <td>Boulder City</td>\n",
              "      <td>Nevada</td>\n",
              "      <td>3.0</td>\n",
              "      <td>A</td>\n",
              "      <td>34.0</td>\n",
              "      <td>33.321615</td>\n",
              "      <td>6.256492</td>\n",
              "      <td>Routine Inspection</td>\n",
              "      <td>7</td>\n",
              "      <td>215.0</td>\n",
              "      <td>223.0</td>\n",
              "      <td>226.0</td>\n",
              "      <td>Major</td>\n",
              "      <td>Major</td>\n",
              "      <td>Non-Major</td>\n",
              "      <td>3</td>\n",
              "      <td>0</td>\n",
              "      <td>train</td>\n",
              "    </tr>\n",
              "    <tr>\n",
              "      <th>9</th>\n",
              "      <td>DA1011809</td>\n",
              "      <td>Pantry</td>\n",
              "      <td>Las Vegas</td>\n",
              "      <td>Nevada</td>\n",
              "      <td>9.0</td>\n",
              "      <td>A</td>\n",
              "      <td>24.0</td>\n",
              "      <td>23.007905</td>\n",
              "      <td>2.450029</td>\n",
              "      <td>Routine Inspection</td>\n",
              "      <td>9</td>\n",
              "      <td>211.0</td>\n",
              "      <td>215.0</td>\n",
              "      <td>230.0</td>\n",
              "      <td>Major</td>\n",
              "      <td>Major</td>\n",
              "      <td>Non-Major</td>\n",
              "      <td>5</td>\n",
              "      <td>0</td>\n",
              "      <td>train</td>\n",
              "    </tr>\n",
              "    <tr>\n",
              "      <th>10</th>\n",
              "      <td>DA0971089</td>\n",
              "      <td>Special Kitchen</td>\n",
              "      <td>Las Vegas</td>\n",
              "      <td>Nevada</td>\n",
              "      <td>0.0</td>\n",
              "      <td>A</td>\n",
              "      <td>21.0</td>\n",
              "      <td>33.824102</td>\n",
              "      <td>1.217602</td>\n",
              "      <td>Re-inspection</td>\n",
              "      <td>6</td>\n",
              "      <td>211.0</td>\n",
              "      <td>225.0</td>\n",
              "      <td>230.0</td>\n",
              "      <td>Major</td>\n",
              "      <td>Non-Major</td>\n",
              "      <td>Non-Major</td>\n",
              "      <td>4</td>\n",
              "      <td>1</td>\n",
              "      <td>train</td>\n",
              "    </tr>\n",
              "    <tr>\n",
              "      <th>12</th>\n",
              "      <td>DA0574333</td>\n",
              "      <td>Restaurant</td>\n",
              "      <td>Las Vegas</td>\n",
              "      <td>Nevada</td>\n",
              "      <td>6.0</td>\n",
              "      <td>A</td>\n",
              "      <td>19.0</td>\n",
              "      <td>21.527814</td>\n",
              "      <td>3.359858</td>\n",
              "      <td>Routine Inspection</td>\n",
              "      <td>6</td>\n",
              "      <td>13.0</td>\n",
              "      <td>20.0</td>\n",
              "      <td>30.0</td>\n",
              "      <td>Major</td>\n",
              "      <td>Non-Major</td>\n",
              "      <td>Non-Major</td>\n",
              "      <td>4</td>\n",
              "      <td>0</td>\n",
              "      <td>train</td>\n",
              "    </tr>\n",
              "    <tr>\n",
              "      <th>13</th>\n",
              "      <td>DA0825673</td>\n",
              "      <td>Restaurant</td>\n",
              "      <td>Las Vegas</td>\n",
              "      <td>Nevada</td>\n",
              "      <td>0.0</td>\n",
              "      <td>A</td>\n",
              "      <td>20.0</td>\n",
              "      <td>29.568018</td>\n",
              "      <td>1.825076</td>\n",
              "      <td>Routine Inspection</td>\n",
              "      <td>32</td>\n",
              "      <td>206.0</td>\n",
              "      <td>209.0</td>\n",
              "      <td>211.0</td>\n",
              "      <td>Critical</td>\n",
              "      <td>Critical</td>\n",
              "      <td>Major</td>\n",
              "      <td>12</td>\n",
              "      <td>1</td>\n",
              "      <td>train</td>\n",
              "    </tr>\n",
              "    <tr>\n",
              "      <th>14</th>\n",
              "      <td>DA0590112</td>\n",
              "      <td>Special Kitchen</td>\n",
              "      <td>Las Vegas</td>\n",
              "      <td>Nevada</td>\n",
              "      <td>10.0</td>\n",
              "      <td>A</td>\n",
              "      <td>16.0</td>\n",
              "      <td>28.526162</td>\n",
              "      <td>3.313142</td>\n",
              "      <td>Routine Inspection</td>\n",
              "      <td>15</td>\n",
              "      <td>12.0</td>\n",
              "      <td>14.0</td>\n",
              "      <td>23.0</td>\n",
              "      <td>Critical</td>\n",
              "      <td>Major</td>\n",
              "      <td>Non-Major</td>\n",
              "      <td>4</td>\n",
              "      <td>0</td>\n",
              "      <td>train</td>\n",
              "    </tr>\n",
              "    <tr>\n",
              "      <th>16</th>\n",
              "      <td>DA1218216</td>\n",
              "      <td>Restaurant</td>\n",
              "      <td>Las Vegas</td>\n",
              "      <td>Nevada</td>\n",
              "      <td>3.0</td>\n",
              "      <td>A</td>\n",
              "      <td>14.0</td>\n",
              "      <td>32.144594</td>\n",
              "      <td>1.415157</td>\n",
              "      <td>Routine Inspection</td>\n",
              "      <td>17</td>\n",
              "      <td>209.0</td>\n",
              "      <td>212.0</td>\n",
              "      <td>216.0</td>\n",
              "      <td>Critical</td>\n",
              "      <td>Major</td>\n",
              "      <td>Major</td>\n",
              "      <td>6</td>\n",
              "      <td>1</td>\n",
              "      <td>train</td>\n",
              "    </tr>\n",
              "    <tr>\n",
              "      <th>17</th>\n",
              "      <td>DA0898062</td>\n",
              "      <td>Restaurant</td>\n",
              "      <td>Henderson</td>\n",
              "      <td>Nevada</td>\n",
              "      <td>3.0</td>\n",
              "      <td>A</td>\n",
              "      <td>3.0</td>\n",
              "      <td>29.253688</td>\n",
              "      <td>3.878866</td>\n",
              "      <td>Re-inspection</td>\n",
              "      <td>3</td>\n",
              "      <td>228.0</td>\n",
              "      <td>232.0</td>\n",
              "      <td>233.0</td>\n",
              "      <td>Non-Major</td>\n",
              "      <td>Non-Major</td>\n",
              "      <td>Non-Major</td>\n",
              "      <td>3</td>\n",
              "      <td>0</td>\n",
              "      <td>train</td>\n",
              "    </tr>\n",
              "    <tr>\n",
              "      <th>18</th>\n",
              "      <td>DA0956929</td>\n",
              "      <td>Restaurant</td>\n",
              "      <td>Las Vegas</td>\n",
              "      <td>Nevada</td>\n",
              "      <td>0.0</td>\n",
              "      <td>A</td>\n",
              "      <td>18.0</td>\n",
              "      <td>27.202116</td>\n",
              "      <td>3.048739</td>\n",
              "      <td>Routine Inspection</td>\n",
              "      <td>37</td>\n",
              "      <td>201.0</td>\n",
              "      <td>203.0</td>\n",
              "      <td>206.0</td>\n",
              "      <td>Critical</td>\n",
              "      <td>Critical</td>\n",
              "      <td>Critical</td>\n",
              "      <td>13</td>\n",
              "      <td>1</td>\n",
              "      <td>train</td>\n",
              "    </tr>\n",
              "    <tr>\n",
              "      <th>19</th>\n",
              "      <td>DAW0OXKNJ</td>\n",
              "      <td>Restaurant</td>\n",
              "      <td>Las Vegas</td>\n",
              "      <td>Nevada</td>\n",
              "      <td>8.0</td>\n",
              "      <td>A</td>\n",
              "      <td>45.0</td>\n",
              "      <td>33.104785</td>\n",
              "      <td>4.626584</td>\n",
              "      <td>Routine Inspection</td>\n",
              "      <td>14</td>\n",
              "      <td>208.0</td>\n",
              "      <td>211.0</td>\n",
              "      <td>215.0</td>\n",
              "      <td>Critical</td>\n",
              "      <td>Major</td>\n",
              "      <td>Major</td>\n",
              "      <td>6</td>\n",
              "      <td>0</td>\n",
              "      <td>train</td>\n",
              "    </tr>\n",
              "    <tr>\n",
              "      <th>21</th>\n",
              "      <td>DA0966642</td>\n",
              "      <td>Restaurant</td>\n",
              "      <td>Las Vegas</td>\n",
              "      <td>Nevada</td>\n",
              "      <td>5.0</td>\n",
              "      <td>A</td>\n",
              "      <td>30.0</td>\n",
              "      <td>32.482996</td>\n",
              "      <td>3.506725</td>\n",
              "      <td>Routine Inspection</td>\n",
              "      <td>40</td>\n",
              "      <td>201.0</td>\n",
              "      <td>202.0</td>\n",
              "      <td>211.0</td>\n",
              "      <td>Critical</td>\n",
              "      <td>Critical</td>\n",
              "      <td>Major</td>\n",
              "      <td>14</td>\n",
              "      <td>0</td>\n",
              "      <td>train</td>\n",
              "    </tr>\n",
              "    <tr>\n",
              "      <th>22</th>\n",
              "      <td>DA0990652</td>\n",
              "      <td>Restaurant</td>\n",
              "      <td>Henderson</td>\n",
              "      <td>Nevada</td>\n",
              "      <td>8.0</td>\n",
              "      <td>A</td>\n",
              "      <td>3.0</td>\n",
              "      <td>26.107506</td>\n",
              "      <td>5.028926</td>\n",
              "      <td>Routine Inspection</td>\n",
              "      <td>20</td>\n",
              "      <td>209.0</td>\n",
              "      <td>214.0</td>\n",
              "      <td>215.0</td>\n",
              "      <td>Critical</td>\n",
              "      <td>Major</td>\n",
              "      <td>Major</td>\n",
              "      <td>8</td>\n",
              "      <td>0</td>\n",
              "      <td>train</td>\n",
              "    </tr>\n",
              "    <tr>\n",
              "      <th>23</th>\n",
              "      <td>DA0856914</td>\n",
              "      <td>Restaurant</td>\n",
              "      <td>Las Vegas</td>\n",
              "      <td>Nevada</td>\n",
              "      <td>3.0</td>\n",
              "      <td>A</td>\n",
              "      <td>24.0</td>\n",
              "      <td>19.140021</td>\n",
              "      <td>1.733646</td>\n",
              "      <td>Routine Inspection</td>\n",
              "      <td>9</td>\n",
              "      <td>211.0</td>\n",
              "      <td>214.0</td>\n",
              "      <td>225.0</td>\n",
              "      <td>Major</td>\n",
              "      <td>Major</td>\n",
              "      <td>Non-Major</td>\n",
              "      <td>5</td>\n",
              "      <td>0</td>\n",
              "      <td>train</td>\n",
              "    </tr>\n",
              "  </tbody>\n",
              "</table>\n",
              "</div>\n",
              "      <button class=\"colab-df-convert\" onclick=\"convertToInteractive('df-6ff5f570-d900-4eab-bd78-68a1b91c6a20')\"\n",
              "              title=\"Convert this dataframe to an interactive table.\"\n",
              "              style=\"display:none;\">\n",
              "        \n",
              "  <svg xmlns=\"http://www.w3.org/2000/svg\" height=\"24px\"viewBox=\"0 0 24 24\"\n",
              "       width=\"24px\">\n",
              "    <path d=\"M0 0h24v24H0V0z\" fill=\"none\"/>\n",
              "    <path d=\"M18.56 5.44l.94 2.06.94-2.06 2.06-.94-2.06-.94-.94-2.06-.94 2.06-2.06.94zm-11 1L8.5 8.5l.94-2.06 2.06-.94-2.06-.94L8.5 2.5l-.94 2.06-2.06.94zm10 10l.94 2.06.94-2.06 2.06-.94-2.06-.94-.94-2.06-.94 2.06-2.06.94z\"/><path d=\"M17.41 7.96l-1.37-1.37c-.4-.4-.92-.59-1.43-.59-.52 0-1.04.2-1.43.59L10.3 9.45l-7.72 7.72c-.78.78-.78 2.05 0 2.83L4 21.41c.39.39.9.59 1.41.59.51 0 1.02-.2 1.41-.59l7.78-7.78 2.81-2.81c.8-.78.8-2.07 0-2.86zM5.41 20L4 18.59l7.72-7.72 1.47 1.35L5.41 20z\"/>\n",
              "  </svg>\n",
              "      </button>\n",
              "      \n",
              "  <style>\n",
              "    .colab-df-container {\n",
              "      display:flex;\n",
              "      flex-wrap:wrap;\n",
              "      gap: 12px;\n",
              "    }\n",
              "\n",
              "    .colab-df-convert {\n",
              "      background-color: #E8F0FE;\n",
              "      border: none;\n",
              "      border-radius: 50%;\n",
              "      cursor: pointer;\n",
              "      display: none;\n",
              "      fill: #1967D2;\n",
              "      height: 32px;\n",
              "      padding: 0 0 0 0;\n",
              "      width: 32px;\n",
              "    }\n",
              "\n",
              "    .colab-df-convert:hover {\n",
              "      background-color: #E2EBFA;\n",
              "      box-shadow: 0px 1px 2px rgba(60, 64, 67, 0.3), 0px 1px 3px 1px rgba(60, 64, 67, 0.15);\n",
              "      fill: #174EA6;\n",
              "    }\n",
              "\n",
              "    [theme=dark] .colab-df-convert {\n",
              "      background-color: #3B4455;\n",
              "      fill: #D2E3FC;\n",
              "    }\n",
              "\n",
              "    [theme=dark] .colab-df-convert:hover {\n",
              "      background-color: #434B5C;\n",
              "      box-shadow: 0px 1px 3px 1px rgba(0, 0, 0, 0.15);\n",
              "      filter: drop-shadow(0px 1px 2px rgba(0, 0, 0, 0.3));\n",
              "      fill: #FFFFFF;\n",
              "    }\n",
              "  </style>\n",
              "\n",
              "      <script>\n",
              "        const buttonEl =\n",
              "          document.querySelector('#df-6ff5f570-d900-4eab-bd78-68a1b91c6a20 button.colab-df-convert');\n",
              "        buttonEl.style.display =\n",
              "          google.colab.kernel.accessAllowed ? 'block' : 'none';\n",
              "\n",
              "        async function convertToInteractive(key) {\n",
              "          const element = document.querySelector('#df-6ff5f570-d900-4eab-bd78-68a1b91c6a20');\n",
              "          const dataTable =\n",
              "            await google.colab.kernel.invokeFunction('convertToInteractive',\n",
              "                                                     [key], {});\n",
              "          if (!dataTable) return;\n",
              "\n",
              "          const docLinkHtml = 'Like what you see? Visit the ' +\n",
              "            '<a target=\"_blank\" href=https://colab.research.google.com/notebooks/data_table.ipynb>data table notebook</a>'\n",
              "            + ' to learn more about interactive tables.';\n",
              "          element.innerHTML = '';\n",
              "          dataTable['output_type'] = 'display_data';\n",
              "          await google.colab.output.renderOutput(dataTable, element);\n",
              "          const docLink = document.createElement('div');\n",
              "          docLink.innerHTML = docLinkHtml;\n",
              "          element.appendChild(docLink);\n",
              "        }\n",
              "      </script>\n",
              "    </div>\n",
              "  </div>\n",
              "  "
            ],
            "text/plain": [
              "   RESTAURANT_SERIAL_NUMBER  ...   type\n",
              "0                 DA1117270  ...  train\n",
              "1                 DA1014948  ...  train\n",
              "2                 DA0861994  ...  train\n",
              "3                 DA0896719  ...  train\n",
              "5                 DA1567561  ...  train\n",
              "6                 DA0613867  ...  train\n",
              "7                 DA1153429  ...  train\n",
              "8                 DA0954366  ...  train\n",
              "9                 DA1011809  ...  train\n",
              "10                DA0971089  ...  train\n",
              "12                DA0574333  ...  train\n",
              "13                DA0825673  ...  train\n",
              "14                DA0590112  ...  train\n",
              "16                DA1218216  ...  train\n",
              "17                DA0898062  ...  train\n",
              "18                DA0956929  ...  train\n",
              "19                DAW0OXKNJ  ...  train\n",
              "21                DA0966642  ...  train\n",
              "22                DA0990652  ...  train\n",
              "23                DA0856914  ...  train\n",
              "\n",
              "[20 rows x 20 columns]"
            ]
          },
          "metadata": {},
          "execution_count": 55
        }
      ]
    },
    {
      "cell_type": "code",
      "source": [
        "df.head()"
      ],
      "metadata": {
        "colab": {
          "base_uri": "https://localhost:8080/"
        },
        "id": "bOrnx7bLbdX9",
        "outputId": "740db3a5-738b-4cc5-ab20-aab842addd19"
      },
      "execution_count": null,
      "outputs": [
        {
          "output_type": "execute_result",
          "data": {
            "text/html": [
              "\n",
              "  <div id=\"df-58de4c05-7e1e-4f99-88be-e39717660d98\">\n",
              "    <div class=\"colab-df-container\">\n",
              "      <div>\n",
              "<style scoped>\n",
              "    .dataframe tbody tr th:only-of-type {\n",
              "        vertical-align: middle;\n",
              "    }\n",
              "\n",
              "    .dataframe tbody tr th {\n",
              "        vertical-align: top;\n",
              "    }\n",
              "\n",
              "    .dataframe thead th {\n",
              "        text-align: right;\n",
              "    }\n",
              "</style>\n",
              "<table border=\"1\" class=\"dataframe\">\n",
              "  <thead>\n",
              "    <tr style=\"text-align: right;\">\n",
              "      <th></th>\n",
              "      <th>RESTAURANT_SERIAL_NUMBER</th>\n",
              "      <th>RESTAURANT_CATEGORY</th>\n",
              "      <th>CITY</th>\n",
              "      <th>STATE</th>\n",
              "      <th>CURRENT_DEMERITS</th>\n",
              "      <th>CURRENT_GRADE</th>\n",
              "      <th>EMPLOYEE_COUNT</th>\n",
              "      <th>MEDIAN_EMPLOYEE_AGE</th>\n",
              "      <th>MEDIAN_EMPLOYEE_TENURE</th>\n",
              "      <th>INSPECTION_TYPE</th>\n",
              "      <th>INSPECTION_DEMERITS</th>\n",
              "      <th>FIRST_VIOLATION</th>\n",
              "      <th>SECOND_VIOLATION</th>\n",
              "      <th>THIRD_VIOLATION</th>\n",
              "      <th>FIRST_VIOLATION_TYPE</th>\n",
              "      <th>SECOND_VIOLATION_TYPE</th>\n",
              "      <th>THIRD_VIOLATION_TYPE</th>\n",
              "      <th>NUMBER_OF_VIOLATIONS</th>\n",
              "      <th>NEXT_INSPECTION_GRADE_C_OR_BELOW</th>\n",
              "      <th>type</th>\n",
              "    </tr>\n",
              "  </thead>\n",
              "  <tbody>\n",
              "    <tr>\n",
              "      <th>0</th>\n",
              "      <td>DA1117270</td>\n",
              "      <td>Snack Bar</td>\n",
              "      <td>Las Vegas</td>\n",
              "      <td>Nevada</td>\n",
              "      <td>0.0</td>\n",
              "      <td>A</td>\n",
              "      <td>25.0</td>\n",
              "      <td>27.959983</td>\n",
              "      <td>13.004886</td>\n",
              "      <td>Routine Inspection</td>\n",
              "      <td>11</td>\n",
              "      <td>204.0</td>\n",
              "      <td>215.0</td>\n",
              "      <td>302.0</td>\n",
              "      <td>Critical</td>\n",
              "      <td>Major</td>\n",
              "      <td>Imminent Health Hazard</td>\n",
              "      <td>4</td>\n",
              "      <td>0</td>\n",
              "      <td>train</td>\n",
              "    </tr>\n",
              "    <tr>\n",
              "      <th>1</th>\n",
              "      <td>DA1014948</td>\n",
              "      <td>Restaurant</td>\n",
              "      <td>Las Vegas</td>\n",
              "      <td>Nevada</td>\n",
              "      <td>3.0</td>\n",
              "      <td>A</td>\n",
              "      <td>7.0</td>\n",
              "      <td>27.719365</td>\n",
              "      <td>3.922086</td>\n",
              "      <td>Routine Inspection</td>\n",
              "      <td>9</td>\n",
              "      <td>214.0</td>\n",
              "      <td>216.0</td>\n",
              "      <td>229.0</td>\n",
              "      <td>Major</td>\n",
              "      <td>Major</td>\n",
              "      <td>Non-Major</td>\n",
              "      <td>5</td>\n",
              "      <td>0</td>\n",
              "      <td>train</td>\n",
              "    </tr>\n",
              "    <tr>\n",
              "      <th>2</th>\n",
              "      <td>DA0861994</td>\n",
              "      <td>Restaurant</td>\n",
              "      <td>Las Vegas</td>\n",
              "      <td>Nevada</td>\n",
              "      <td>8.0</td>\n",
              "      <td>A</td>\n",
              "      <td>23.0</td>\n",
              "      <td>26.442637</td>\n",
              "      <td>10.312777</td>\n",
              "      <td>Routine Inspection</td>\n",
              "      <td>9</td>\n",
              "      <td>202.0</td>\n",
              "      <td>215.0</td>\n",
              "      <td>233.0</td>\n",
              "      <td>Critical</td>\n",
              "      <td>Major</td>\n",
              "      <td>Non-Major</td>\n",
              "      <td>3</td>\n",
              "      <td>1</td>\n",
              "      <td>train</td>\n",
              "    </tr>\n",
              "    <tr>\n",
              "      <th>3</th>\n",
              "      <td>DA0896719</td>\n",
              "      <td>Elementary School Kitchen</td>\n",
              "      <td>Las Vegas</td>\n",
              "      <td>Nevada</td>\n",
              "      <td>0.0</td>\n",
              "      <td>A</td>\n",
              "      <td>14.0</td>\n",
              "      <td>33.988293</td>\n",
              "      <td>4.163975</td>\n",
              "      <td>Routine Inspection</td>\n",
              "      <td>5</td>\n",
              "      <td>214.0</td>\n",
              "      <td>230.0</td>\n",
              "      <td>233.0</td>\n",
              "      <td>Major</td>\n",
              "      <td>Non-Major</td>\n",
              "      <td>Non-Major</td>\n",
              "      <td>3</td>\n",
              "      <td>0</td>\n",
              "      <td>train</td>\n",
              "    </tr>\n",
              "    <tr>\n",
              "      <th>5</th>\n",
              "      <td>DA1567561</td>\n",
              "      <td>Bar / Tavern</td>\n",
              "      <td>Las Vegas</td>\n",
              "      <td>Nevada</td>\n",
              "      <td>3.0</td>\n",
              "      <td>A</td>\n",
              "      <td>43.0</td>\n",
              "      <td>25.947206</td>\n",
              "      <td>3.839934</td>\n",
              "      <td>Routine Inspection</td>\n",
              "      <td>17</td>\n",
              "      <td>206.0</td>\n",
              "      <td>211.0</td>\n",
              "      <td>215.0</td>\n",
              "      <td>Critical</td>\n",
              "      <td>Major</td>\n",
              "      <td>Major</td>\n",
              "      <td>7</td>\n",
              "      <td>0</td>\n",
              "      <td>train</td>\n",
              "    </tr>\n",
              "  </tbody>\n",
              "</table>\n",
              "</div>\n",
              "      <button class=\"colab-df-convert\" onclick=\"convertToInteractive('df-58de4c05-7e1e-4f99-88be-e39717660d98')\"\n",
              "              title=\"Convert this dataframe to an interactive table.\"\n",
              "              style=\"display:none;\">\n",
              "        \n",
              "  <svg xmlns=\"http://www.w3.org/2000/svg\" height=\"24px\"viewBox=\"0 0 24 24\"\n",
              "       width=\"24px\">\n",
              "    <path d=\"M0 0h24v24H0V0z\" fill=\"none\"/>\n",
              "    <path d=\"M18.56 5.44l.94 2.06.94-2.06 2.06-.94-2.06-.94-.94-2.06-.94 2.06-2.06.94zm-11 1L8.5 8.5l.94-2.06 2.06-.94-2.06-.94L8.5 2.5l-.94 2.06-2.06.94zm10 10l.94 2.06.94-2.06 2.06-.94-2.06-.94-.94-2.06-.94 2.06-2.06.94z\"/><path d=\"M17.41 7.96l-1.37-1.37c-.4-.4-.92-.59-1.43-.59-.52 0-1.04.2-1.43.59L10.3 9.45l-7.72 7.72c-.78.78-.78 2.05 0 2.83L4 21.41c.39.39.9.59 1.41.59.51 0 1.02-.2 1.41-.59l7.78-7.78 2.81-2.81c.8-.78.8-2.07 0-2.86zM5.41 20L4 18.59l7.72-7.72 1.47 1.35L5.41 20z\"/>\n",
              "  </svg>\n",
              "      </button>\n",
              "      \n",
              "  <style>\n",
              "    .colab-df-container {\n",
              "      display:flex;\n",
              "      flex-wrap:wrap;\n",
              "      gap: 12px;\n",
              "    }\n",
              "\n",
              "    .colab-df-convert {\n",
              "      background-color: #E8F0FE;\n",
              "      border: none;\n",
              "      border-radius: 50%;\n",
              "      cursor: pointer;\n",
              "      display: none;\n",
              "      fill: #1967D2;\n",
              "      height: 32px;\n",
              "      padding: 0 0 0 0;\n",
              "      width: 32px;\n",
              "    }\n",
              "\n",
              "    .colab-df-convert:hover {\n",
              "      background-color: #E2EBFA;\n",
              "      box-shadow: 0px 1px 2px rgba(60, 64, 67, 0.3), 0px 1px 3px 1px rgba(60, 64, 67, 0.15);\n",
              "      fill: #174EA6;\n",
              "    }\n",
              "\n",
              "    [theme=dark] .colab-df-convert {\n",
              "      background-color: #3B4455;\n",
              "      fill: #D2E3FC;\n",
              "    }\n",
              "\n",
              "    [theme=dark] .colab-df-convert:hover {\n",
              "      background-color: #434B5C;\n",
              "      box-shadow: 0px 1px 3px 1px rgba(0, 0, 0, 0.15);\n",
              "      filter: drop-shadow(0px 1px 2px rgba(0, 0, 0, 0.3));\n",
              "      fill: #FFFFFF;\n",
              "    }\n",
              "  </style>\n",
              "\n",
              "      <script>\n",
              "        const buttonEl =\n",
              "          document.querySelector('#df-58de4c05-7e1e-4f99-88be-e39717660d98 button.colab-df-convert');\n",
              "        buttonEl.style.display =\n",
              "          google.colab.kernel.accessAllowed ? 'block' : 'none';\n",
              "\n",
              "        async function convertToInteractive(key) {\n",
              "          const element = document.querySelector('#df-58de4c05-7e1e-4f99-88be-e39717660d98');\n",
              "          const dataTable =\n",
              "            await google.colab.kernel.invokeFunction('convertToInteractive',\n",
              "                                                     [key], {});\n",
              "          if (!dataTable) return;\n",
              "\n",
              "          const docLinkHtml = 'Like what you see? Visit the ' +\n",
              "            '<a target=\"_blank\" href=https://colab.research.google.com/notebooks/data_table.ipynb>data table notebook</a>'\n",
              "            + ' to learn more about interactive tables.';\n",
              "          element.innerHTML = '';\n",
              "          dataTable['output_type'] = 'display_data';\n",
              "          await google.colab.output.renderOutput(dataTable, element);\n",
              "          const docLink = document.createElement('div');\n",
              "          docLink.innerHTML = docLinkHtml;\n",
              "          element.appendChild(docLink);\n",
              "        }\n",
              "      </script>\n",
              "    </div>\n",
              "  </div>\n",
              "  "
            ],
            "text/plain": [
              "  RESTAURANT_SERIAL_NUMBER  ...   type\n",
              "0                DA1117270  ...  train\n",
              "1                DA1014948  ...  train\n",
              "2                DA0861994  ...  train\n",
              "3                DA0896719  ...  train\n",
              "5                DA1567561  ...  train\n",
              "\n",
              "[5 rows x 20 columns]"
            ]
          },
          "metadata": {},
          "execution_count": 56
        }
      ]
    },
    {
      "cell_type": "code",
      "source": [
        "# handling the outlier data and garbage columns for the target variable\n",
        "df = df[df['NEXT_INSPECTION_GRADE_C_OR_BELOW'].isin(['0','1'])]\n",
        "\n",
        "# handling the outlier data for the categorical data\n",
        "# for including only the cities that are in nevada\n",
        "df = df[df['STATE'].str.lower() == 'nevada']\n",
        "df = df[df['CURRENT_GRADE'].isin(['A','B','C','X','O','N'])]\n",
        "df = df[df['INSPECTION_TYPE'].isin(['Routine Inspection','Re-inspection'])]\n",
        "df = df[df['FIRST_VIOLATION_TYPE'].isin(['Critical','Major','Non-Major'])]\n",
        "df = df[df['SECOND_VIOLATION_TYPE'].isin(['Critical','Major','Non-Major'])]\n",
        "df = df[df['THIRD_VIOLATION_TYPE'].isin(['Critical','Major','Non-Major'])]\n",
        "# handling outlier data for numerical data\n",
        "df = df[(0 <= df['CURRENT_DEMERITS']) & (df['CURRENT_DEMERITS'] <= 100)]\n",
        "df = df[(0 <= df['EMPLOYEE_COUNT']) & (df['EMPLOYEE_COUNT'] <= 50)]\n",
        "df = df[df.NUMBER_OF_VIOLATIONS != 'Nevada']\n",
        "df = df.astype({'NUMBER_OF_VIOLATIONS': float})\n",
        "df = df[(0 <=df['NUMBER_OF_VIOLATIONS'])  & (df['NUMBER_OF_VIOLATIONS'] <= 25)]\n",
        "df = df[(0 <= df['FIRST_VIOLATION']) & (df['FIRST_VIOLATION'] <= 320)]\n",
        "df = df[(0 <= df['SECOND_VIOLATION']) & (df['SECOND_VIOLATION'] <= 320)]\n",
        "df = df[(0 <= df['THIRD_VIOLATION'])  & (df['THIRD_VIOLATION'] <= 320)]"
      ],
      "metadata": {
        "id": "6soI93KxffjE"
      },
      "execution_count": null,
      "outputs": []
    },
    {
      "cell_type": "code",
      "source": [
        "df1 = df"
      ],
      "metadata": {
        "id": "c6psqnbBzZdT"
      },
      "execution_count": null,
      "outputs": []
    },
    {
      "cell_type": "code",
      "source": [
        "df_disc = pd.DataFrame()\n",
        "# Discretization the continuous features\n",
        "for i in continuous_features:\n",
        "    num = pd.cut(df[i], bins=10, labels=np.arange(10), right=False)\n",
        "    df_disc = pd.concat([df_disc, num], axis=1)\n",
        "    \n",
        "# Concatenate numeric features and discretized features\n",
        "for i in numerical_features:\n",
        "    df_disc = pd.concat([df_disc, df[i]], axis=1)    \n",
        "# Normalizing the concatenated features\n",
        "min_max_scaler = preprocessing.MinMaxScaler()\n",
        "normData = pd.DataFrame(min_max_scaler.fit_transform(df_disc), index=df_disc.index, columns=df_disc.columns)"
      ],
      "metadata": {
        "id": "H_Ts-0_7ffXa"
      },
      "execution_count": null,
      "outputs": []
    },
    {
      "cell_type": "code",
      "source": [
        "normData"
      ],
      "metadata": {
        "colab": {
          "base_uri": "https://localhost:8080/"
        },
        "id": "lXzHCcLGyEvC",
        "outputId": "2f657705-a07f-4604-b40a-dd2fbdf79faf"
      },
      "execution_count": null,
      "outputs": [
        {
          "output_type": "execute_result",
          "data": {
            "text/html": [
              "\n",
              "  <div id=\"df-95d9d48a-e308-4300-8306-16e64b1d701e\">\n",
              "    <div class=\"colab-df-container\">\n",
              "      <div>\n",
              "<style scoped>\n",
              "    .dataframe tbody tr th:only-of-type {\n",
              "        vertical-align: middle;\n",
              "    }\n",
              "\n",
              "    .dataframe tbody tr th {\n",
              "        vertical-align: top;\n",
              "    }\n",
              "\n",
              "    .dataframe thead th {\n",
              "        text-align: right;\n",
              "    }\n",
              "</style>\n",
              "<table border=\"1\" class=\"dataframe\">\n",
              "  <thead>\n",
              "    <tr style=\"text-align: right;\">\n",
              "      <th></th>\n",
              "      <th>MEDIAN_EMPLOYEE_AGE</th>\n",
              "      <th>MEDIAN_EMPLOYEE_TENURE</th>\n",
              "      <th>CURRENT_DEMERITS</th>\n",
              "      <th>EMPLOYEE_COUNT</th>\n",
              "      <th>INSPECTION_DEMERITS</th>\n",
              "      <th>NUMBER_OF_VIOLATIONS</th>\n",
              "      <th>FIRST_VIOLATION</th>\n",
              "      <th>SECOND_VIOLATION</th>\n",
              "      <th>THIRD_VIOLATION</th>\n",
              "    </tr>\n",
              "  </thead>\n",
              "  <tbody>\n",
              "    <tr>\n",
              "      <th>1</th>\n",
              "      <td>0.333333</td>\n",
              "      <td>0.111111</td>\n",
              "      <td>0.03</td>\n",
              "      <td>0.086686</td>\n",
              "      <td>0.116883</td>\n",
              "      <td>0.090909</td>\n",
              "      <td>0.926087</td>\n",
              "      <td>0.926407</td>\n",
              "      <td>0.978261</td>\n",
              "    </tr>\n",
              "    <tr>\n",
              "      <th>2</th>\n",
              "      <td>0.222222</td>\n",
              "      <td>0.555556</td>\n",
              "      <td>0.08</td>\n",
              "      <td>0.433428</td>\n",
              "      <td>0.116883</td>\n",
              "      <td>0.000000</td>\n",
              "      <td>0.873913</td>\n",
              "      <td>0.922078</td>\n",
              "      <td>0.995652</td>\n",
              "    </tr>\n",
              "    <tr>\n",
              "      <th>3</th>\n",
              "      <td>0.555556</td>\n",
              "      <td>0.111111</td>\n",
              "      <td>0.00</td>\n",
              "      <td>0.238385</td>\n",
              "      <td>0.064935</td>\n",
              "      <td>0.000000</td>\n",
              "      <td>0.926087</td>\n",
              "      <td>0.987013</td>\n",
              "      <td>0.995652</td>\n",
              "    </tr>\n",
              "    <tr>\n",
              "      <th>5</th>\n",
              "      <td>0.222222</td>\n",
              "      <td>0.111111</td>\n",
              "      <td>0.03</td>\n",
              "      <td>0.866856</td>\n",
              "      <td>0.220779</td>\n",
              "      <td>0.181818</td>\n",
              "      <td>0.891304</td>\n",
              "      <td>0.904762</td>\n",
              "      <td>0.917391</td>\n",
              "    </tr>\n",
              "    <tr>\n",
              "      <th>6</th>\n",
              "      <td>0.444444</td>\n",
              "      <td>0.111111</td>\n",
              "      <td>0.06</td>\n",
              "      <td>0.151700</td>\n",
              "      <td>0.129870</td>\n",
              "      <td>0.045455</td>\n",
              "      <td>0.056522</td>\n",
              "      <td>0.112554</td>\n",
              "      <td>0.117391</td>\n",
              "    </tr>\n",
              "    <tr>\n",
              "      <th>...</th>\n",
              "      <td>...</td>\n",
              "      <td>...</td>\n",
              "      <td>...</td>\n",
              "      <td>...</td>\n",
              "      <td>...</td>\n",
              "      <td>...</td>\n",
              "      <td>...</td>\n",
              "      <td>...</td>\n",
              "      <td>...</td>\n",
              "    </tr>\n",
              "    <tr>\n",
              "      <th>7500</th>\n",
              "      <td>0.444444</td>\n",
              "      <td>0.111111</td>\n",
              "      <td>0.00</td>\n",
              "      <td>0.265052</td>\n",
              "      <td>0.259740</td>\n",
              "      <td>0.136364</td>\n",
              "      <td>0.873913</td>\n",
              "      <td>0.917749</td>\n",
              "      <td>0.917391</td>\n",
              "    </tr>\n",
              "    <tr>\n",
              "      <th>7501</th>\n",
              "      <td>0.444444</td>\n",
              "      <td>0.111111</td>\n",
              "      <td>0.06</td>\n",
              "      <td>0.485638</td>\n",
              "      <td>0.064935</td>\n",
              "      <td>0.000000</td>\n",
              "      <td>0.926087</td>\n",
              "      <td>0.982684</td>\n",
              "      <td>0.995652</td>\n",
              "    </tr>\n",
              "    <tr>\n",
              "      <th>7502</th>\n",
              "      <td>0.222222</td>\n",
              "      <td>0.111111</td>\n",
              "      <td>0.08</td>\n",
              "      <td>0.296787</td>\n",
              "      <td>0.168831</td>\n",
              "      <td>0.000000</td>\n",
              "      <td>0.052174</td>\n",
              "      <td>0.112554</td>\n",
              "      <td>0.473913</td>\n",
              "    </tr>\n",
              "    <tr>\n",
              "      <th>7503</th>\n",
              "      <td>0.000000</td>\n",
              "      <td>0.333333</td>\n",
              "      <td>0.03</td>\n",
              "      <td>0.484738</td>\n",
              "      <td>0.103896</td>\n",
              "      <td>0.045455</td>\n",
              "      <td>0.917391</td>\n",
              "      <td>0.917749</td>\n",
              "      <td>0.986957</td>\n",
              "    </tr>\n",
              "    <tr>\n",
              "      <th>7504</th>\n",
              "      <td>0.222222</td>\n",
              "      <td>0.222222</td>\n",
              "      <td>0.09</td>\n",
              "      <td>0.183480</td>\n",
              "      <td>0.194805</td>\n",
              "      <td>0.090909</td>\n",
              "      <td>0.913043</td>\n",
              "      <td>0.917749</td>\n",
              "      <td>0.973913</td>\n",
              "    </tr>\n",
              "  </tbody>\n",
              "</table>\n",
              "<p>19018 rows × 9 columns</p>\n",
              "</div>\n",
              "      <button class=\"colab-df-convert\" onclick=\"convertToInteractive('df-95d9d48a-e308-4300-8306-16e64b1d701e')\"\n",
              "              title=\"Convert this dataframe to an interactive table.\"\n",
              "              style=\"display:none;\">\n",
              "        \n",
              "  <svg xmlns=\"http://www.w3.org/2000/svg\" height=\"24px\"viewBox=\"0 0 24 24\"\n",
              "       width=\"24px\">\n",
              "    <path d=\"M0 0h24v24H0V0z\" fill=\"none\"/>\n",
              "    <path d=\"M18.56 5.44l.94 2.06.94-2.06 2.06-.94-2.06-.94-.94-2.06-.94 2.06-2.06.94zm-11 1L8.5 8.5l.94-2.06 2.06-.94-2.06-.94L8.5 2.5l-.94 2.06-2.06.94zm10 10l.94 2.06.94-2.06 2.06-.94-2.06-.94-.94-2.06-.94 2.06-2.06.94z\"/><path d=\"M17.41 7.96l-1.37-1.37c-.4-.4-.92-.59-1.43-.59-.52 0-1.04.2-1.43.59L10.3 9.45l-7.72 7.72c-.78.78-.78 2.05 0 2.83L4 21.41c.39.39.9.59 1.41.59.51 0 1.02-.2 1.41-.59l7.78-7.78 2.81-2.81c.8-.78.8-2.07 0-2.86zM5.41 20L4 18.59l7.72-7.72 1.47 1.35L5.41 20z\"/>\n",
              "  </svg>\n",
              "      </button>\n",
              "      \n",
              "  <style>\n",
              "    .colab-df-container {\n",
              "      display:flex;\n",
              "      flex-wrap:wrap;\n",
              "      gap: 12px;\n",
              "    }\n",
              "\n",
              "    .colab-df-convert {\n",
              "      background-color: #E8F0FE;\n",
              "      border: none;\n",
              "      border-radius: 50%;\n",
              "      cursor: pointer;\n",
              "      display: none;\n",
              "      fill: #1967D2;\n",
              "      height: 32px;\n",
              "      padding: 0 0 0 0;\n",
              "      width: 32px;\n",
              "    }\n",
              "\n",
              "    .colab-df-convert:hover {\n",
              "      background-color: #E2EBFA;\n",
              "      box-shadow: 0px 1px 2px rgba(60, 64, 67, 0.3), 0px 1px 3px 1px rgba(60, 64, 67, 0.15);\n",
              "      fill: #174EA6;\n",
              "    }\n",
              "\n",
              "    [theme=dark] .colab-df-convert {\n",
              "      background-color: #3B4455;\n",
              "      fill: #D2E3FC;\n",
              "    }\n",
              "\n",
              "    [theme=dark] .colab-df-convert:hover {\n",
              "      background-color: #434B5C;\n",
              "      box-shadow: 0px 1px 3px 1px rgba(0, 0, 0, 0.15);\n",
              "      filter: drop-shadow(0px 1px 2px rgba(0, 0, 0, 0.3));\n",
              "      fill: #FFFFFF;\n",
              "    }\n",
              "  </style>\n",
              "\n",
              "      <script>\n",
              "        const buttonEl =\n",
              "          document.querySelector('#df-95d9d48a-e308-4300-8306-16e64b1d701e button.colab-df-convert');\n",
              "        buttonEl.style.display =\n",
              "          google.colab.kernel.accessAllowed ? 'block' : 'none';\n",
              "\n",
              "        async function convertToInteractive(key) {\n",
              "          const element = document.querySelector('#df-95d9d48a-e308-4300-8306-16e64b1d701e');\n",
              "          const dataTable =\n",
              "            await google.colab.kernel.invokeFunction('convertToInteractive',\n",
              "                                                     [key], {});\n",
              "          if (!dataTable) return;\n",
              "\n",
              "          const docLinkHtml = 'Like what you see? Visit the ' +\n",
              "            '<a target=\"_blank\" href=https://colab.research.google.com/notebooks/data_table.ipynb>data table notebook</a>'\n",
              "            + ' to learn more about interactive tables.';\n",
              "          element.innerHTML = '';\n",
              "          dataTable['output_type'] = 'display_data';\n",
              "          await google.colab.output.renderOutput(dataTable, element);\n",
              "          const docLink = document.createElement('div');\n",
              "          docLink.innerHTML = docLinkHtml;\n",
              "          element.appendChild(docLink);\n",
              "        }\n",
              "      </script>\n",
              "    </div>\n",
              "  </div>\n",
              "  "
            ],
            "text/plain": [
              "      MEDIAN_EMPLOYEE_AGE  ...  THIRD_VIOLATION\n",
              "1                0.333333  ...         0.978261\n",
              "2                0.222222  ...         0.995652\n",
              "3                0.555556  ...         0.995652\n",
              "5                0.222222  ...         0.917391\n",
              "6                0.444444  ...         0.117391\n",
              "...                   ...  ...              ...\n",
              "7500             0.444444  ...         0.917391\n",
              "7501             0.444444  ...         0.995652\n",
              "7502             0.222222  ...         0.473913\n",
              "7503             0.000000  ...         0.986957\n",
              "7504             0.222222  ...         0.973913\n",
              "\n",
              "[19018 rows x 9 columns]"
            ]
          },
          "metadata": {},
          "execution_count": 60
        }
      ]
    },
    {
      "cell_type": "markdown",
      "source": [
        "# visualizing the data"
      ],
      "metadata": {
        "id": "4RgcICkm3JJj"
      }
    },
    {
      "cell_type": "markdown",
      "source": [
        "Here we are going to visualzie the cleaned data for better insights. we are going to plot some bar plots on the counts of various categories to get an understanding of the distribution of our data. "
      ],
      "metadata": {
        "id": "aJjj7Z8L5JoQ"
      }
    },
    {
      "cell_type": "code",
      "source": [
        "# visualizing the data based on current grade\n",
        "df['CURRENT_GRADE'].value_counts().plot.bar() "
      ],
      "metadata": {
        "colab": {
          "base_uri": "https://localhost:8080/"
        },
        "id": "z4-8AJDc3N0S",
        "outputId": "2ddd40b6-afea-4160-d1ce-3ec727d76293"
      },
      "execution_count": null,
      "outputs": [
        {
          "output_type": "execute_result",
          "data": {
            "text/plain": [
              "<matplotlib.axes._subplots.AxesSubplot at 0x7f245cc06650>"
            ]
          },
          "metadata": {},
          "execution_count": 61
        },
        {
          "output_type": "display_data",
          "data": {
            "image/png": "[encoded data removed]",
            "text/plain": [
              "<Figure size 432x288 with 1 Axes>"
            ]
          },
          "metadata": {
            "needs_background": "light"
          }
        }
      ]
    },
    {
      "cell_type": "markdown",
      "source": [
        "The bar plot shows that majority of the data has an A grade which implies that majority of the data is above C grade. It also give us the input of the better conditions the restaurants have in LA. "
      ],
      "metadata": {
        "id": "NQSWfrZO5oYS"
      }
    },
    {
      "cell_type": "code",
      "source": [
        "# visualizing the data based on city \n",
        "df['CITY'].value_counts().plot(kind = 'barh')"
      ],
      "metadata": {
        "colab": {
          "base_uri": "https://localhost:8080/"
        },
        "id": "_KSe8G7L3Nxl",
        "outputId": "8ae335af-0e0c-4f78-d02a-47c5d5504b57"
      },
      "execution_count": null,
      "outputs": [
        {
          "output_type": "execute_result",
          "data": {
            "text/plain": [
              "<matplotlib.axes._subplots.AxesSubplot at 0x7f245c91a150>"
            ]
          },
          "metadata": {},
          "execution_count": 62
        },
        {
          "output_type": "display_data",
          "data": {
            "image/png": "[encoded data removed]",
            "text/plain": [
              "<Figure size 432x288 with 1 Axes>"
            ]
          },
          "metadata": {
            "needs_background": "light"
          }
        }
      ]
    },
    {
      "cell_type": "markdown",
      "source": [
        "The Majority of cleaned data comes from Las Vegas with small amount form other cities. It is great as we are taking the survey of Metrapolitan Las Vegas. "
      ],
      "metadata": {
        "id": "Hb00XA1v53ZN"
      }
    },
    {
      "cell_type": "code",
      "source": [
        "# visualizing the data based on inspection type\n",
        "df['INSPECTION_TYPE'].value_counts().plot(kind = 'bar')"
      ],
      "metadata": {
        "colab": {
          "base_uri": "https://localhost:8080/"
        },
        "id": "2B8vPPxK3Nsa",
        "outputId": "e7b4841c-7b20-4a94-c1f0-a189fa175ae6"
      },
      "execution_count": null,
      "outputs": [
        {
          "output_type": "execute_result",
          "data": {
            "text/plain": [
              "<matplotlib.axes._subplots.AxesSubplot at 0x7f245cab4690>"
            ]
          },
          "metadata": {},
          "execution_count": 63
        },
        {
          "output_type": "display_data",
          "data": {
            "image/png": "[encoded data removed]",
            "text/plain": [
              "<Figure size 432x288 with 1 Axes>"
            ]
          },
          "metadata": {
            "needs_background": "light"
          }
        }
      ]
    },
    {
      "cell_type": "markdown",
      "source": [
        "Majority of inspection are Routing inspection. Only small quantities of restaurants require Re-inspection. So most of the data is from the first inspection done wiht no need for the second survey. "
      ],
      "metadata": {
        "id": "Bbzsdp8g6GUm"
      }
    },
    {
      "cell_type": "code",
      "source": [
        "# visualizing the target variable\n",
        "df[df['type']=='train']['NEXT_INSPECTION_GRADE_C_OR_BELOW'].value_counts().plot(kind = 'bar')"
      ],
      "metadata": {
        "colab": {
          "base_uri": "https://localhost:8080/"
        },
        "id": "VraOnFxK3Npd",
        "outputId": "eac55150-2ff2-4e3e-c255-1635da1a303b"
      },
      "execution_count": null,
      "outputs": [
        {
          "output_type": "execute_result",
          "data": {
            "text/plain": [
              "<matplotlib.axes._subplots.AxesSubplot at 0x7f245cb63150>"
            ]
          },
          "metadata": {},
          "execution_count": 64
        },
        {
          "output_type": "display_data",
          "data": {
            "image/png": "[encoded data removed]",
            "text/plain": [
              "<Figure size 432x288 with 1 Axes>"
            ]
          },
          "metadata": {
            "needs_background": "light"
          }
        }
      ]
    },
    {
      "cell_type": "markdown",
      "source": [
        "We can see that most have target variable 0.<br>\n",
        "Though this is good in the sense that most restaurants are expected to have better than C grade. we have imbalanced data!!!"
      ],
      "metadata": {
        "id": "0zB4j7qH6WM0"
      }
    },
    {
      "cell_type": "code",
      "source": [
        "df.plot(y = 'EMPLOYEE_COUNT', kind = 'box')"
      ],
      "metadata": {
        "colab": {
          "base_uri": "https://localhost:8080/"
        },
        "id": "orqtswRp3NkA",
        "outputId": "5fd7ddb8-da10-4df7-87e1-aa053634145c"
      },
      "execution_count": null,
      "outputs": [
        {
          "output_type": "execute_result",
          "data": {
            "text/plain": [
              "<matplotlib.axes._subplots.AxesSubplot at 0x7f245cb61d90>"
            ]
          },
          "metadata": {},
          "execution_count": 65
        },
        {
          "output_type": "display_data",
          "data": {
            "image/png": "[encoded data removed]",
            "text/plain": [
              "<Figure size 432x288 with 1 Axes>"
            ]
          },
          "metadata": {
            "needs_background": "light"
          }
        }
      ]
    },
    {
      "cell_type": "markdown",
      "source": [
        "The box plot shows that the median count of employee data. Even if we have reduced the range of the employee count range to 50 there are still a lot of employee count tuples that look like outliers."
      ],
      "metadata": {
        "id": "Q96B88OzZYNn"
      }
    },
    {
      "cell_type": "code",
      "source": [
        "corr = df.corr()\n",
        "corr.shape\n",
        "\n",
        "plt.figure(figsize=(15,30))\n",
        "sns.heatmap(corr, cbar=True, square=True, fmt='.1f', annot=True, annot_kws={'size':15}, cmap='Greens')"
      ],
      "metadata": {
        "colab": {
          "base_uri": "https://localhost:8080/"
        },
        "id": "_Zfk3fV-5qh6",
        "outputId": "b3b22bcf-3a29-4f0a-c2c3-abb6407f0d57"
      },
      "execution_count": null,
      "outputs": [
        {
          "output_type": "execute_result",
          "data": {
            "text/plain": [
              "<matplotlib.axes._subplots.AxesSubplot at 0x7f245c8f9710>"
            ]
          },
          "metadata": {},
          "execution_count": 66
        },
        {
          "output_type": "display_data",
          "data": {
            "image/png": "[encoded data removed]",
            "text/plain": [
              "<Figure size 1080x2160 with 2 Axes>"
            ]
          },
          "metadata": {
            "needs_background": "light"
          }
        }
      ]
    },
    {
      "cell_type": "markdown",
      "source": [
        "Here we have made a correlation matrix to find if any features are correlated to each other. The matrix shows that first violation, second violation and third violation are fully positively correlated with each other and there is a little bit of positive correlation between first violation and the number of violations."
      ],
      "metadata": {
        "id": "7TD6bWRcZogK"
      }
    },
    {
      "cell_type": "markdown",
      "source": [
        "# preprocessing the variables for the model training"
      ],
      "metadata": {
        "id": "AWkP2VQK4PRZ"
      }
    },
    {
      "cell_type": "markdown",
      "source": [
        "Now we are doing other preprocessing steps-\n",
        "\n",
        "1.   one-hot encoding\n",
        "2.   label encoding\n",
        "3.   Removing columns in test and train data that we don't need for training\n",
        "4. Removing the dummy columns that we added during the initial preprocessing steps to the testing data\n",
        "5. After this we form 3 sets of data. \n",
        "* Orignal unsampled unbalanced data \n",
        "*   Oversampled Data\n",
        "*   Undersampled Data\n",
        "\n",
        "\n",
        "\n",
        "\n",
        "\n"
      ],
      "metadata": {
        "id": "OO3JSY5aao0R"
      }
    },
    {
      "cell_type": "code",
      "source": [
        "# dealing with ordinal features\n",
        "grade_dict = {'N':1,'O':2,'X':3,'C':4,'B':5,'A':6}\n",
        "df1['CURRENT_GRADE'] = df1.CURRENT_GRADE.map(grade_dict)"
      ],
      "metadata": {
        "id": "4SiZ4xvwffVN"
      },
      "execution_count": null,
      "outputs": []
    },
    {
      "cell_type": "code",
      "source": [
        "# dealing with nominal features using one hot encoding\n",
        "for i in nominal_features:\n",
        "  encoded = pd.get_dummies(df1[i], prefix = i, drop_first= False)\n",
        "  df1 = pd.concat([df1,encoded],axis = 1)\n",
        "# removing the string counterpart of one hot encoded variables\n",
        "for i in nominal_features:\n",
        "  df1.drop(i,axis = 1, inplace= True)"
      ],
      "metadata": {
        "id": "xy817-O8ffSj"
      },
      "execution_count": null,
      "outputs": []
    },
    {
      "cell_type": "code",
      "source": [
        "# adding the new numerical features to the new table\n",
        "for i in numerical_features:\n",
        "  df1.drop(i, axis=1, inplace=True)\n",
        "for i in continuous_features:\n",
        "  df1.drop(i, axis=1, inplace=True)\n",
        "df1 = pd.concat([df1,normData],axis = 1)"
      ],
      "metadata": {
        "id": "FuZBhm0fffOD"
      },
      "execution_count": null,
      "outputs": []
    },
    {
      "cell_type": "code",
      "source": [
        "# seperating the testing and training data\n",
        "df_train = df1[df1['type'] == 'train']\n",
        "df_test = df1[df1['type']== 'test']\n",
        "# deleting the dummy columns\n",
        "df_train.drop('type',axis = 1, inplace =  True)\n",
        "df_test.drop('type',axis = 1, inplace = True)\n",
        "df_train.drop('RESTAURANT_SERIAL_NUMBER',axis = 1, inplace =  True)\n",
        "predictions_df = df_test['RESTAURANT_SERIAL_NUMBER']\n",
        "df_test.drop('RESTAURANT_SERIAL_NUMBER',axis = 1, inplace = True)\n",
        "df_test.drop('NEXT_INSPECTION_GRADE_C_OR_BELOW',axis = 1, inplace=True)\n",
        "df_train_features = df_train.loc[:, df_train.columns != 'NEXT_INSPECTION_GRADE_C_OR_BELOW']\n",
        "df_train_labels = df_train['NEXT_INSPECTION_GRADE_C_OR_BELOW']"
      ],
      "metadata": {
        "id": "60ZWhUOL6zAA",
        "colab": {
          "base_uri": "https://localhost:8080/"
        },
        "outputId": "9ac83e53-5be9-48eb-f133-14840346f55c"
      },
      "execution_count": null,
      "outputs": [
        {
          "output_type": "stream",
          "name": "stderr",
          "text": [
            "/usr/local/lib/python3.7/dist-packages/pandas/core/frame.py:4174: SettingWithCopyWarning: \n",
            "A value is trying to be set on a copy of a slice from a DataFrame\n",
            "\n",
            "See the caveats in the documentation: https://pandas.pydata.org/pandas-docs/stable/user_guide/indexing.html#returning-a-view-versus-a-copy\n",
            "  errors=errors,\n"
          ]
        }
      ]
    },
    {
      "cell_type": "code",
      "source": [
        "# using undersampling strategy to balance the data\n",
        "from imblearn.under_sampling import RandomUnderSampler\n",
        "rus = RandomUnderSampler(random_state=42)\n",
        "df2_train_features, df2_train_labels = rus.fit_resample(df_train_features, df_train_labels)\n",
        "sns.countplot(df2_train_labels).set_title('under-Sampling')\n",
        "plt.show()"
      ],
      "metadata": {
        "colab": {
          "base_uri": "https://localhost:8080/"
        },
        "id": "8gs6HZmC2T9F",
        "outputId": "1e2524d3-da10-47d1-b5a0-5751e4a1ffae"
      },
      "execution_count": null,
      "outputs": [
        {
          "output_type": "stream",
          "name": "stderr",
          "text": [
            "/usr/local/lib/python3.7/dist-packages/seaborn/_decorators.py:43: FutureWarning: Pass the following variable as a keyword arg: x. From version 0.12, the only valid positional argument will be `data`, and passing other arguments without an explicit keyword will result in an error or misinterpretation.\n",
            "  FutureWarning\n"
          ]
        },
        {
          "output_type": "display_data",
          "data": {
            "image/png": "[encoded data removed]",
            "text/plain": [
              "<Figure size 432x288 with 1 Axes>"
            ]
          },
          "metadata": {
            "needs_background": "light"
          }
        }
      ]
    },
    {
      "cell_type": "code",
      "source": [
        "# using oversampling strategy to amplify the data\n",
        "from imblearn.over_sampling import RandomOverSampler\n",
        "oversample = RandomOverSampler(sampling_strategy='minority')\n",
        "df1_train_features, df1_train_labels = oversample.fit_resample(df_train_features, df_train_labels)\n",
        "sns.countplot(df1_train_labels).set_title('Over-Sampling')\n",
        "plt.show()"
      ],
      "metadata": {
        "colab": {
          "base_uri": "https://localhost:8080/"
        },
        "id": "Kt5kV1o8_LiL",
        "outputId": "bcdb11ba-ff5d-433e-af12-ac189da0ae0c"
      },
      "execution_count": null,
      "outputs": [
        {
          "output_type": "stream",
          "name": "stderr",
          "text": [
            "/usr/local/lib/python3.7/dist-packages/seaborn/_decorators.py:43: FutureWarning: Pass the following variable as a keyword arg: x. From version 0.12, the only valid positional argument will be `data`, and passing other arguments without an explicit keyword will result in an error or misinterpretation.\n",
            "  FutureWarning\n"
          ]
        },
        {
          "output_type": "display_data",
          "data": {
            "image/png": "[encoded data removed]",
            "text/plain": [
              "<Figure size 432x288 with 1 Axes>"
            ]
          },
          "metadata": {
            "needs_background": "light"
          }
        }
      ]
    },
    {
      "cell_type": "code",
      "source": [
        "df1.columns"
      ],
      "metadata": {
        "colab": {
          "base_uri": "https://localhost:8080/"
        },
        "id": "ypDyDDRJBqyL",
        "outputId": "fa846655-e8cf-4aff-8a83-bd0ac5bec9ea"
      },
      "execution_count": null,
      "outputs": [
        {
          "output_type": "execute_result",
          "data": {
            "text/plain": [
              "Index(['RESTAURANT_SERIAL_NUMBER', 'CURRENT_GRADE',\n",
              "       'NEXT_INSPECTION_GRADE_C_OR_BELOW', 'type',\n",
              "       'RESTAURANT_CATEGORY_Bakery Sales',\n",
              "       'RESTAURANT_CATEGORY_Banquet Kitchen',\n",
              "       'RESTAURANT_CATEGORY_Banquet Support',\n",
              "       'RESTAURANT_CATEGORY_Bar / Tavern', 'RESTAURANT_CATEGORY_Barbeque',\n",
              "       'RESTAURANT_CATEGORY_Beer Bar', 'RESTAURANT_CATEGORY_Buffet',\n",
              "       'RESTAURANT_CATEGORY_Caterer', 'RESTAURANT_CATEGORY_Childcare Kitchens',\n",
              "       'RESTAURANT_CATEGORY_Concessions', 'RESTAURANT_CATEGORY_Confection',\n",
              "       'RESTAURANT_CATEGORY_Elementary School Kitchen',\n",
              "       'RESTAURANT_CATEGORY_Farmers Market',\n",
              "       'RESTAURANT_CATEGORY_Food Trucks / Mobile Vendor',\n",
              "       'RESTAURANT_CATEGORY_Garde Manger',\n",
              "       'RESTAURANT_CATEGORY_Grocery Store Sampling',\n",
              "       'RESTAURANT_CATEGORY_Institutional Food Service',\n",
              "       'RESTAURANT_CATEGORY_Kitchen Bakery',\n",
              "       'RESTAURANT_CATEGORY_Main Kitchen',\n",
              "       'RESTAURANT_CATEGORY_Meat/Poultry/Seafood',\n",
              "       'RESTAURANT_CATEGORY_Pantry', 'RESTAURANT_CATEGORY_Portable Bar',\n",
              "       'RESTAURANT_CATEGORY_Portable Unit',\n",
              "       'RESTAURANT_CATEGORY_Produce Market', 'RESTAURANT_CATEGORY_Restaurant',\n",
              "       'RESTAURANT_CATEGORY_Self-Service Food Truck',\n",
              "       'RESTAURANT_CATEGORY_Snack Bar', 'RESTAURANT_CATEGORY_Special Kitchen',\n",
              "       'RESTAURANT_CATEGORY_Vegetable Prep', 'CITY_Blue Diamond',\n",
              "       'CITY_Boulder City', 'CITY_Cal-Nev-Ari', 'CITY_Goodsprings',\n",
              "       'CITY_HendeSON', 'CITY_Henderson', 'CITY_Indian Springs', 'CITY_Jean',\n",
              "       'CITY_Las Vegas', 'CITY_Laughlin', 'CITY_Logandale', 'CITY_Mesquite',\n",
              "       'CITY_Moapa', 'CITY_North Las Vegas', 'CITY_Overton', 'CITY_Primm',\n",
              "       'CITY_Sandy Valley', 'CITY_Searchlight', 'STATE_NeVaDa', 'STATE_Nevada',\n",
              "       'INSPECTION_TYPE_Re-inspection', 'INSPECTION_TYPE_Routine Inspection',\n",
              "       'FIRST_VIOLATION_TYPE_Critical', 'FIRST_VIOLATION_TYPE_Major',\n",
              "       'FIRST_VIOLATION_TYPE_Non-Major', 'SECOND_VIOLATION_TYPE_Critical',\n",
              "       'SECOND_VIOLATION_TYPE_Major', 'SECOND_VIOLATION_TYPE_Non-Major',\n",
              "       'THIRD_VIOLATION_TYPE_Critical', 'THIRD_VIOLATION_TYPE_Major',\n",
              "       'THIRD_VIOLATION_TYPE_Non-Major', 'MEDIAN_EMPLOYEE_AGE',\n",
              "       'MEDIAN_EMPLOYEE_TENURE', 'CURRENT_DEMERITS', 'EMPLOYEE_COUNT',\n",
              "       'INSPECTION_DEMERITS', 'NUMBER_OF_VIOLATIONS', 'FIRST_VIOLATION',\n",
              "       'SECOND_VIOLATION', 'THIRD_VIOLATION'],\n",
              "      dtype='object')"
            ]
          },
          "metadata": {},
          "execution_count": 73
        }
      ]
    },
    {
      "cell_type": "code",
      "source": [
        " # train testing split for the unbalanced data\n",
        " from sklearn.model_selection import train_test_split\n",
        " X_train, y_train,X_test,y_test = train_test_split(df_train_features,df_train_labels,test_size=0.25)"
      ],
      "metadata": {
        "id": "8AqbnXpi7DI7"
      },
      "execution_count": null,
      "outputs": []
    },
    {
      "cell_type": "markdown",
      "source": [
        "# implementing the machine learning models"
      ],
      "metadata": {
        "id": "kdsl1CzI6syj"
      }
    },
    {
      "cell_type": "markdown",
      "source": [
        "## using unbalanced data"
      ],
      "metadata": {
        "id": "iqAMCsaS0fMO"
      }
    },
    {
      "cell_type": "code",
      "source": [
        "# function to plot k neighbor accuracy graph\n",
        "def plot_neighbors_accuracy(X_train,X_test,y_train,y_test):\n",
        "  accuracy_list = []\n",
        "  for i in range(2,20):\n",
        "    neigh = KNeighborsClassifier(n_neighbors = i)\n",
        "    neigh.fit(X_train,X_test)\n",
        "    pred = neigh.predict(y_train)\n",
        "    acc = accuracy_score(y_test,pred)\n",
        "    accuracy_list.append(acc)\n",
        "  a = np.arange(2,20)\n",
        "  plt.plot(a,accuracy_list)\n",
        "  plt.title('accuracy')\n",
        "  plt.xlabel('number of neighbors')\n",
        "  plt.ylabel('accuracy')\n",
        "  plt.show()"
      ],
      "metadata": {
        "id": "QtgVp0rDAbiR"
      },
      "execution_count": null,
      "outputs": []
    },
    {
      "cell_type": "code",
      "source": [
        "plot_neighbors_accuracy(X_train,X_test,y_train,y_test)"
      ],
      "metadata": {
        "colab": {
          "base_uri": "https://localhost:8080/"
        },
        "id": "RPK_wi_ACwcF",
        "outputId": "0d6befb7-fd0d-45d0-cd6d-3cca1a7ad4ef"
      },
      "execution_count": null,
      "outputs": [
        {
          "output_type": "display_data",
          "data": {
            "image/png": "[encoded data removed]",
            "text/plain": [
              "<Figure size 432x288 with 1 Axes>"
            ]
          },
          "metadata": {
            "needs_background": "light"
          }
        }
      ]
    },
    {
      "cell_type": "markdown",
      "source": [
        "Link the k nearest neighbor classifier gets one of its highest value at k = 13."
      ],
      "metadata": {
        "id": "zYTZVjcGFTST"
      }
    },
    {
      "cell_type": "code",
      "source": [
        "# function to train different machine learning models \n",
        "def machine_learning_classifiers(X_train, X_test, y_train, y_test,k):\n",
        "  classifiers = [KNeighborsClassifier(n_neighbors = k),\n",
        "                 SVC(kernel = 'linear',C = 0.025),\n",
        "                 svm.SVC(gamma = 2, C = 1),\n",
        "                 RandomForestClassifier(random_state = 32),\n",
        "                 DecisionTreeClassifier(random_state = 32,max_depth=12),\n",
        "                 MLPClassifier(alpha = 1, max_iter = 10),\n",
        "                 AdaBoostClassifier(random_state = 32),\n",
        "                 QuadraticDiscriminantAnalysis(),\n",
        "                 GaussianNB(),\n",
        "                 LogisticRegression(random_state=32)]\n",
        "\n",
        "  clf_name = ['K nearest Neighbors',\n",
        "              'Linear SVM',\n",
        "              'RBF SVM',\n",
        "              'Random Forest Classifier',\n",
        "              'Decision tree Classifier',\n",
        "              'Neural network',\n",
        "              'AdaBoost',\n",
        "              'Quadratic Discriminative Analysis',\n",
        "              'Naive Bayes',\n",
        "              'Logistic Regression']\n",
        "  accuracy_dict = {}\n",
        "  for clf,name in zip(classifiers,clf_name):\n",
        "    clf.fit(X_train,X_test)\n",
        "    pred = clf.predict(y_train)\n",
        "    rep = classification_report(y_test,pred)\n",
        "    mat = confusion_matrix(y_test,pred)\n",
        "    accuracy_dict[name] = accuracy_score(y_test,pred)\n",
        "    print(name)\n",
        "    print(rep)\n",
        "    print(mat)\n",
        "  from sklearn.ensemble import StackingClassifier\n",
        "  level0 = list()\n",
        "  level0.append(('rf',RandomForestClassifier()))\n",
        "  level0.append(('lr', LogisticRegression()))\n",
        "  level0.append(('knn', KNeighborsClassifier()))\n",
        "  level0.append(('svm', SVC()))\n",
        "  level0.append(('bayes', GaussianNB()))\n",
        "  # define meta learner model\n",
        "  level1 = RandomForestClassifier()\n",
        "  # define the stacking ensemble\n",
        "  clf = StackingClassifier(estimators=level0, final_estimator=level1, cv=5)\n",
        "  # fit the model on all available data\n",
        "  clf.fit(X_train, X_test)\n",
        "  print('stacked model')\n",
        "  pred = clf.predict(y_train)\n",
        "  rep = classification_report(y_test,pred)\n",
        "  mat = confusion_matrix(y_test,pred)\n",
        "  accuracy_dict['stacked model'] = accuracy_score(y_test,pred)\n",
        "  print(rep)\n",
        "  print(mat)\n",
        "  return accuracy_dict"
      ],
      "metadata": {
        "id": "fG9_cqHD4BjT"
      },
      "execution_count": null,
      "outputs": []
    },
    {
      "cell_type": "code",
      "source": [
        "# Function call for the unbalanced data\n",
        "accuracy_scores_unbalanced = machine_learning_classifiers(X_train,X_test,y_train,y_test,13)"
      ],
      "metadata": {
        "colab": {
          "base_uri": "https://localhost:8080/"
        },
        "id": "L1OfHCDh8d8_",
        "outputId": "f48a14ba-9d53-44c7-e8b8-a3ce4a95a365"
      },
      "execution_count": null,
      "outputs": [
        {
          "output_type": "stream",
          "name": "stdout",
          "text": [
            "K nearest Neighbors\n",
            "              precision    recall  f1-score   support\n",
            "\n",
            "           0       0.83      1.00      0.91      2650\n",
            "           1       0.30      0.01      0.01       526\n",
            "\n",
            "    accuracy                           0.83      3176\n",
            "   macro avg       0.57      0.50      0.46      3176\n",
            "weighted avg       0.75      0.83      0.76      3176\n",
            "\n",
            "[[2643    7]\n",
            " [ 523    3]]\n"
          ]
        },
        {
          "output_type": "stream",
          "name": "stderr",
          "text": [
            "/usr/local/lib/python3.7/dist-packages/sklearn/metrics/_classification.py:1318: UndefinedMetricWarning: Precision and F-score are ill-defined and being set to 0.0 in labels with no predicted samples. Use `zero_division` parameter to control this behavior.\n",
            "  _warn_prf(average, modifier, msg_start, len(result))\n",
            "/usr/local/lib/python3.7/dist-packages/sklearn/metrics/_classification.py:1318: UndefinedMetricWarning: Precision and F-score are ill-defined and being set to 0.0 in labels with no predicted samples. Use `zero_division` parameter to control this behavior.\n",
            "  _warn_prf(average, modifier, msg_start, len(result))\n",
            "/usr/local/lib/python3.7/dist-packages/sklearn/metrics/_classification.py:1318: UndefinedMetricWarning: Precision and F-score are ill-defined and being set to 0.0 in labels with no predicted samples. Use `zero_division` parameter to control this behavior.\n",
            "  _warn_prf(average, modifier, msg_start, len(result))\n"
          ]
        },
        {
          "output_type": "stream",
          "name": "stdout",
          "text": [
            "Linear SVM\n",
            "              precision    recall  f1-score   support\n",
            "\n",
            "           0       0.83      1.00      0.91      2650\n",
            "           1       0.00      0.00      0.00       526\n",
            "\n",
            "    accuracy                           0.83      3176\n",
            "   macro avg       0.42      0.50      0.45      3176\n",
            "weighted avg       0.70      0.83      0.76      3176\n",
            "\n",
            "[[2650    0]\n",
            " [ 526    0]]\n",
            "RBF SVM\n",
            "              precision    recall  f1-score   support\n",
            "\n",
            "           0       0.83      1.00      0.91      2650\n",
            "           1       0.00      0.00      0.00       526\n",
            "\n",
            "    accuracy                           0.83      3176\n",
            "   macro avg       0.42      0.50      0.45      3176\n",
            "weighted avg       0.70      0.83      0.76      3176\n",
            "\n",
            "[[2646    4]\n",
            " [ 526    0]]\n",
            "Random Forest Classifier\n",
            "              precision    recall  f1-score   support\n",
            "\n",
            "           0       0.83      1.00      0.91      2650\n",
            "           1       0.08      0.00      0.00       526\n",
            "\n",
            "    accuracy                           0.83      3176\n",
            "   macro avg       0.46      0.50      0.46      3176\n",
            "weighted avg       0.71      0.83      0.76      3176\n",
            "\n",
            "[[2638   12]\n",
            " [ 525    1]]\n",
            "Decision tree Classifier\n",
            "              precision    recall  f1-score   support\n",
            "\n",
            "           0       0.84      0.96      0.90      2650\n",
            "           1       0.21      0.05      0.08       526\n",
            "\n",
            "    accuracy                           0.81      3176\n",
            "   macro avg       0.52      0.51      0.49      3176\n",
            "weighted avg       0.73      0.81      0.76      3176\n",
            "\n",
            "[[2553   97]\n",
            " [ 500   26]]\n"
          ]
        },
        {
          "output_type": "stream",
          "name": "stderr",
          "text": [
            "/usr/local/lib/python3.7/dist-packages/sklearn/neural_network/_multilayer_perceptron.py:696: ConvergenceWarning: Stochastic Optimizer: Maximum iterations (10) reached and the optimization hasn't converged yet.\n",
            "  ConvergenceWarning,\n",
            "/usr/local/lib/python3.7/dist-packages/sklearn/metrics/_classification.py:1318: UndefinedMetricWarning: Precision and F-score are ill-defined and being set to 0.0 in labels with no predicted samples. Use `zero_division` parameter to control this behavior.\n",
            "  _warn_prf(average, modifier, msg_start, len(result))\n",
            "/usr/local/lib/python3.7/dist-packages/sklearn/metrics/_classification.py:1318: UndefinedMetricWarning: Precision and F-score are ill-defined and being set to 0.0 in labels with no predicted samples. Use `zero_division` parameter to control this behavior.\n",
            "  _warn_prf(average, modifier, msg_start, len(result))\n",
            "/usr/local/lib/python3.7/dist-packages/sklearn/metrics/_classification.py:1318: UndefinedMetricWarning: Precision and F-score are ill-defined and being set to 0.0 in labels with no predicted samples. Use `zero_division` parameter to control this behavior.\n",
            "  _warn_prf(average, modifier, msg_start, len(result))\n"
          ]
        },
        {
          "output_type": "stream",
          "name": "stdout",
          "text": [
            "Neural network\n",
            "              precision    recall  f1-score   support\n",
            "\n",
            "           0       0.83      1.00      0.91      2650\n",
            "           1       0.00      0.00      0.00       526\n",
            "\n",
            "    accuracy                           0.83      3176\n",
            "   macro avg       0.42      0.50      0.45      3176\n",
            "weighted avg       0.70      0.83      0.76      3176\n",
            "\n",
            "[[2650    0]\n",
            " [ 526    0]]\n",
            "AdaBoost\n",
            "              precision    recall  f1-score   support\n",
            "\n",
            "           0       0.84      1.00      0.91      2650\n",
            "           1       0.50      0.02      0.03       526\n",
            "\n",
            "    accuracy                           0.83      3176\n",
            "   macro avg       0.67      0.51      0.47      3176\n",
            "weighted avg       0.78      0.83      0.76      3176\n",
            "\n",
            "[[2642    8]\n",
            " [ 518    8]]\n"
          ]
        },
        {
          "output_type": "stream",
          "name": "stderr",
          "text": [
            "/usr/local/lib/python3.7/dist-packages/sklearn/discriminant_analysis.py:878: UserWarning: Variables are collinear\n",
            "  warnings.warn(\"Variables are collinear\")\n"
          ]
        },
        {
          "output_type": "stream",
          "name": "stdout",
          "text": [
            "Quadratic Discriminative Analysis\n",
            "              precision    recall  f1-score   support\n",
            "\n",
            "           0       0.82      0.01      0.02      2650\n",
            "           1       0.17      0.99      0.28       526\n",
            "\n",
            "    accuracy                           0.17      3176\n",
            "   macro avg       0.49      0.50      0.15      3176\n",
            "weighted avg       0.71      0.17      0.07      3176\n",
            "\n",
            "[[  32 2618]\n",
            " [   7  519]]\n",
            "Naive Bayes\n",
            "              precision    recall  f1-score   support\n",
            "\n",
            "           0       0.82      0.02      0.03      2650\n",
            "           1       0.17      0.98      0.28       526\n",
            "\n",
            "    accuracy                           0.18      3176\n",
            "   macro avg       0.49      0.50      0.16      3176\n",
            "weighted avg       0.71      0.18      0.07      3176\n",
            "\n",
            "[[  42 2608]\n",
            " [   9  517]]\n"
          ]
        },
        {
          "output_type": "stream",
          "name": "stderr",
          "text": [
            "/usr/local/lib/python3.7/dist-packages/sklearn/linear_model/_logistic.py:818: ConvergenceWarning: lbfgs failed to converge (status=1):\n",
            "STOP: TOTAL NO. of ITERATIONS REACHED LIMIT.\n",
            "\n",
            "Increase the number of iterations (max_iter) or scale the data as shown in:\n",
            "    https://scikit-learn.org/stable/modules/preprocessing.html\n",
            "Please also refer to the documentation for alternative solver options:\n",
            "    https://scikit-learn.org/stable/modules/linear_model.html#logistic-regression\n",
            "  extra_warning_msg=_LOGISTIC_SOLVER_CONVERGENCE_MSG,\n",
            "/usr/local/lib/python3.7/dist-packages/sklearn/metrics/_classification.py:1318: UndefinedMetricWarning: Precision and F-score are ill-defined and being set to 0.0 in labels with no predicted samples. Use `zero_division` parameter to control this behavior.\n",
            "  _warn_prf(average, modifier, msg_start, len(result))\n",
            "/usr/local/lib/python3.7/dist-packages/sklearn/metrics/_classification.py:1318: UndefinedMetricWarning: Precision and F-score are ill-defined and being set to 0.0 in labels with no predicted samples. Use `zero_division` parameter to control this behavior.\n",
            "  _warn_prf(average, modifier, msg_start, len(result))\n",
            "/usr/local/lib/python3.7/dist-packages/sklearn/metrics/_classification.py:1318: UndefinedMetricWarning: Precision and F-score are ill-defined and being set to 0.0 in labels with no predicted samples. Use `zero_division` parameter to control this behavior.\n",
            "  _warn_prf(average, modifier, msg_start, len(result))\n"
          ]
        },
        {
          "output_type": "stream",
          "name": "stdout",
          "text": [
            "Logistic Regression\n",
            "              precision    recall  f1-score   support\n",
            "\n",
            "           0       0.83      1.00      0.91      2650\n",
            "           1       0.00      0.00      0.00       526\n",
            "\n",
            "    accuracy                           0.83      3176\n",
            "   macro avg       0.42      0.50      0.45      3176\n",
            "weighted avg       0.70      0.83      0.76      3176\n",
            "\n",
            "[[2650    0]\n",
            " [ 526    0]]\n"
          ]
        },
        {
          "output_type": "stream",
          "name": "stderr",
          "text": [
            "/usr/local/lib/python3.7/dist-packages/sklearn/linear_model/_logistic.py:818: ConvergenceWarning: lbfgs failed to converge (status=1):\n",
            "STOP: TOTAL NO. of ITERATIONS REACHED LIMIT.\n",
            "\n",
            "Increase the number of iterations (max_iter) or scale the data as shown in:\n",
            "    https://scikit-learn.org/stable/modules/preprocessing.html\n",
            "Please also refer to the documentation for alternative solver options:\n",
            "    https://scikit-learn.org/stable/modules/linear_model.html#logistic-regression\n",
            "  extra_warning_msg=_LOGISTIC_SOLVER_CONVERGENCE_MSG,\n",
            "/usr/local/lib/python3.7/dist-packages/sklearn/linear_model/_logistic.py:818: ConvergenceWarning: lbfgs failed to converge (status=1):\n",
            "STOP: TOTAL NO. of ITERATIONS REACHED LIMIT.\n",
            "\n",
            "Increase the number of iterations (max_iter) or scale the data as shown in:\n",
            "    https://scikit-learn.org/stable/modules/preprocessing.html\n",
            "Please also refer to the documentation for alternative solver options:\n",
            "    https://scikit-learn.org/stable/modules/linear_model.html#logistic-regression\n",
            "  extra_warning_msg=_LOGISTIC_SOLVER_CONVERGENCE_MSG,\n",
            "/usr/local/lib/python3.7/dist-packages/sklearn/linear_model/_logistic.py:818: ConvergenceWarning: lbfgs failed to converge (status=1):\n",
            "STOP: TOTAL NO. of ITERATIONS REACHED LIMIT.\n",
            "\n",
            "Increase the number of iterations (max_iter) or scale the data as shown in:\n",
            "    https://scikit-learn.org/stable/modules/preprocessing.html\n",
            "Please also refer to the documentation for alternative solver options:\n",
            "    https://scikit-learn.org/stable/modules/linear_model.html#logistic-regression\n",
            "  extra_warning_msg=_LOGISTIC_SOLVER_CONVERGENCE_MSG,\n",
            "/usr/local/lib/python3.7/dist-packages/sklearn/linear_model/_logistic.py:818: ConvergenceWarning: lbfgs failed to converge (status=1):\n",
            "STOP: TOTAL NO. of ITERATIONS REACHED LIMIT.\n",
            "\n",
            "Increase the number of iterations (max_iter) or scale the data as shown in:\n",
            "    https://scikit-learn.org/stable/modules/preprocessing.html\n",
            "Please also refer to the documentation for alternative solver options:\n",
            "    https://scikit-learn.org/stable/modules/linear_model.html#logistic-regression\n",
            "  extra_warning_msg=_LOGISTIC_SOLVER_CONVERGENCE_MSG,\n",
            "/usr/local/lib/python3.7/dist-packages/sklearn/linear_model/_logistic.py:818: ConvergenceWarning: lbfgs failed to converge (status=1):\n",
            "STOP: TOTAL NO. of ITERATIONS REACHED LIMIT.\n",
            "\n",
            "Increase the number of iterations (max_iter) or scale the data as shown in:\n",
            "    https://scikit-learn.org/stable/modules/preprocessing.html\n",
            "Please also refer to the documentation for alternative solver options:\n",
            "    https://scikit-learn.org/stable/modules/linear_model.html#logistic-regression\n",
            "  extra_warning_msg=_LOGISTIC_SOLVER_CONVERGENCE_MSG,\n",
            "/usr/local/lib/python3.7/dist-packages/sklearn/linear_model/_logistic.py:818: ConvergenceWarning: lbfgs failed to converge (status=1):\n",
            "STOP: TOTAL NO. of ITERATIONS REACHED LIMIT.\n",
            "\n",
            "Increase the number of iterations (max_iter) or scale the data as shown in:\n",
            "    https://scikit-learn.org/stable/modules/preprocessing.html\n",
            "Please also refer to the documentation for alternative solver options:\n",
            "    https://scikit-learn.org/stable/modules/linear_model.html#logistic-regression\n",
            "  extra_warning_msg=_LOGISTIC_SOLVER_CONVERGENCE_MSG,\n"
          ]
        },
        {
          "output_type": "stream",
          "name": "stdout",
          "text": [
            "stacked model\n",
            "              precision    recall  f1-score   support\n",
            "\n",
            "           0       0.83      0.99      0.90      2650\n",
            "           1       0.19      0.02      0.03       526\n",
            "\n",
            "    accuracy                           0.83      3176\n",
            "   macro avg       0.51      0.50      0.47      3176\n",
            "weighted avg       0.73      0.83      0.76      3176\n",
            "\n",
            "[[2615   35]\n",
            " [ 518    8]]\n"
          ]
        }
      ]
    },
    {
      "cell_type": "code",
      "source": [
        "# Function Call for oversampled data\n",
        "X_train, y_train,X_test,y_test = train_test_split(df1_train_features,df1_train_labels,test_size=0.25)\n",
        "plot_neighbors_accuracy(X_train,X_test,y_train,y_test)\n",
        "accuracy_scores_oversampled = machine_learning_classifiers(X_train,X_test,y_train,y_test,3)"
      ],
      "metadata": {
        "colab": {
          "base_uri": "https://localhost:8080/"
        },
        "id": "mm3k81yY_2xN",
        "outputId": "45fd9f7a-49f9-4128-ad21-947d3886b804"
      },
      "execution_count": null,
      "outputs": [
        {
          "output_type": "display_data",
          "data": {
            "image/png": "[encoded data removed]",
            "text/plain": [
              "<Figure size 432x288 with 1 Axes>"
            ]
          },
          "metadata": {
            "needs_background": "light"
          }
        },
        {
          "output_type": "stream",
          "name": "stdout",
          "text": [
            "K nearest Neighbors\n",
            "              precision    recall  f1-score   support\n",
            "\n",
            "           0       0.93      0.68      0.78      2679\n",
            "           1       0.74      0.94      0.83      2659\n",
            "\n",
            "    accuracy                           0.81      5338\n",
            "   macro avg       0.83      0.81      0.81      5338\n",
            "weighted avg       0.84      0.81      0.81      5338\n",
            "\n",
            "[[1817  862]\n",
            " [ 147 2512]]\n",
            "Linear SVM\n",
            "              precision    recall  f1-score   support\n",
            "\n",
            "           0       0.57      0.41      0.48      2679\n",
            "           1       0.53      0.68      0.60      2659\n",
            "\n",
            "    accuracy                           0.55      5338\n",
            "   macro avg       0.55      0.55      0.54      5338\n",
            "weighted avg       0.55      0.55      0.54      5338\n",
            "\n",
            "[[1100 1579]\n",
            " [ 846 1813]]\n",
            "RBF SVM\n",
            "              precision    recall  f1-score   support\n",
            "\n",
            "           0       0.68      0.59      0.63      2679\n",
            "           1       0.64      0.72      0.68      2659\n",
            "\n",
            "    accuracy                           0.66      5338\n",
            "   macro avg       0.66      0.66      0.65      5338\n",
            "weighted avg       0.66      0.66      0.65      5338\n",
            "\n",
            "[[1576 1103]\n",
            " [ 735 1924]]\n",
            "Random Forest Classifier\n",
            "              precision    recall  f1-score   support\n",
            "\n",
            "           0       0.99      0.96      0.97      2679\n",
            "           1       0.96      0.99      0.97      2659\n",
            "\n",
            "    accuracy                           0.97      5338\n",
            "   macro avg       0.97      0.97      0.97      5338\n",
            "weighted avg       0.97      0.97      0.97      5338\n",
            "\n",
            "[[2569  110]\n",
            " [  36 2623]]\n",
            "Decision tree Classifier\n",
            "              precision    recall  f1-score   support\n",
            "\n",
            "           0       0.72      0.60      0.66      2679\n",
            "           1       0.66      0.76      0.71      2659\n",
            "\n",
            "    accuracy                           0.68      5338\n",
            "   macro avg       0.69      0.68      0.68      5338\n",
            "weighted avg       0.69      0.68      0.68      5338\n",
            "\n",
            "[[1610 1069]\n",
            " [ 627 2032]]\n"
          ]
        },
        {
          "output_type": "stream",
          "name": "stderr",
          "text": [
            "/usr/local/lib/python3.7/dist-packages/sklearn/neural_network/_multilayer_perceptron.py:696: ConvergenceWarning: Stochastic Optimizer: Maximum iterations (10) reached and the optimization hasn't converged yet.\n",
            "  ConvergenceWarning,\n"
          ]
        },
        {
          "output_type": "stream",
          "name": "stdout",
          "text": [
            "Neural network\n",
            "              precision    recall  f1-score   support\n",
            "\n",
            "           0       0.56      0.53      0.55      2679\n",
            "           1       0.55      0.57      0.56      2659\n",
            "\n",
            "    accuracy                           0.55      5338\n",
            "   macro avg       0.55      0.55      0.55      5338\n",
            "weighted avg       0.55      0.55      0.55      5338\n",
            "\n",
            "[[1429 1250]\n",
            " [1131 1528]]\n",
            "AdaBoost\n",
            "              precision    recall  f1-score   support\n",
            "\n",
            "           0       0.56      0.57      0.57      2679\n",
            "           1       0.56      0.55      0.55      2659\n",
            "\n",
            "    accuracy                           0.56      5338\n",
            "   macro avg       0.56      0.56      0.56      5338\n",
            "weighted avg       0.56      0.56      0.56      5338\n",
            "\n",
            "[[1537 1142]\n",
            " [1201 1458]]\n"
          ]
        },
        {
          "output_type": "stream",
          "name": "stderr",
          "text": [
            "/usr/local/lib/python3.7/dist-packages/sklearn/discriminant_analysis.py:878: UserWarning: Variables are collinear\n",
            "  warnings.warn(\"Variables are collinear\")\n"
          ]
        },
        {
          "output_type": "stream",
          "name": "stdout",
          "text": [
            "Quadratic Discriminative Analysis\n",
            "              precision    recall  f1-score   support\n",
            "\n",
            "           0       0.75      0.01      0.02      2679\n",
            "           1       0.50      1.00      0.67      2659\n",
            "\n",
            "    accuracy                           0.50      5338\n",
            "   macro avg       0.62      0.50      0.34      5338\n",
            "weighted avg       0.63      0.50      0.34      5338\n",
            "\n",
            "[[  21 2658]\n",
            " [   7 2652]]\n",
            "Naive Bayes\n",
            "              precision    recall  f1-score   support\n",
            "\n",
            "           0       0.74      0.02      0.05      2679\n",
            "           1       0.50      0.99      0.67      2659\n",
            "\n",
            "    accuracy                           0.51      5338\n",
            "   macro avg       0.62      0.51      0.36      5338\n",
            "weighted avg       0.62      0.51      0.35      5338\n",
            "\n",
            "[[  63 2616]\n",
            " [  22 2637]]\n"
          ]
        },
        {
          "output_type": "stream",
          "name": "stderr",
          "text": [
            "/usr/local/lib/python3.7/dist-packages/sklearn/linear_model/_logistic.py:818: ConvergenceWarning: lbfgs failed to converge (status=1):\n",
            "STOP: TOTAL NO. of ITERATIONS REACHED LIMIT.\n",
            "\n",
            "Increase the number of iterations (max_iter) or scale the data as shown in:\n",
            "    https://scikit-learn.org/stable/modules/preprocessing.html\n",
            "Please also refer to the documentation for alternative solver options:\n",
            "    https://scikit-learn.org/stable/modules/linear_model.html#logistic-regression\n",
            "  extra_warning_msg=_LOGISTIC_SOLVER_CONVERGENCE_MSG,\n"
          ]
        },
        {
          "output_type": "stream",
          "name": "stdout",
          "text": [
            "Logistic Regression\n",
            "              precision    recall  f1-score   support\n",
            "\n",
            "           0       0.56      0.54      0.55      2679\n",
            "           1       0.56      0.58      0.57      2659\n",
            "\n",
            "    accuracy                           0.56      5338\n",
            "   macro avg       0.56      0.56      0.56      5338\n",
            "weighted avg       0.56      0.56      0.56      5338\n",
            "\n",
            "[[1445 1234]\n",
            " [1116 1543]]\n"
          ]
        },
        {
          "output_type": "stream",
          "name": "stderr",
          "text": [
            "/usr/local/lib/python3.7/dist-packages/sklearn/linear_model/_logistic.py:818: ConvergenceWarning: lbfgs failed to converge (status=1):\n",
            "STOP: TOTAL NO. of ITERATIONS REACHED LIMIT.\n",
            "\n",
            "Increase the number of iterations (max_iter) or scale the data as shown in:\n",
            "    https://scikit-learn.org/stable/modules/preprocessing.html\n",
            "Please also refer to the documentation for alternative solver options:\n",
            "    https://scikit-learn.org/stable/modules/linear_model.html#logistic-regression\n",
            "  extra_warning_msg=_LOGISTIC_SOLVER_CONVERGENCE_MSG,\n",
            "/usr/local/lib/python3.7/dist-packages/sklearn/linear_model/_logistic.py:818: ConvergenceWarning: lbfgs failed to converge (status=1):\n",
            "STOP: TOTAL NO. of ITERATIONS REACHED LIMIT.\n",
            "\n",
            "Increase the number of iterations (max_iter) or scale the data as shown in:\n",
            "    https://scikit-learn.org/stable/modules/preprocessing.html\n",
            "Please also refer to the documentation for alternative solver options:\n",
            "    https://scikit-learn.org/stable/modules/linear_model.html#logistic-regression\n",
            "  extra_warning_msg=_LOGISTIC_SOLVER_CONVERGENCE_MSG,\n",
            "/usr/local/lib/python3.7/dist-packages/sklearn/linear_model/_logistic.py:818: ConvergenceWarning: lbfgs failed to converge (status=1):\n",
            "STOP: TOTAL NO. of ITERATIONS REACHED LIMIT.\n",
            "\n",
            "Increase the number of iterations (max_iter) or scale the data as shown in:\n",
            "    https://scikit-learn.org/stable/modules/preprocessing.html\n",
            "Please also refer to the documentation for alternative solver options:\n",
            "    https://scikit-learn.org/stable/modules/linear_model.html#logistic-regression\n",
            "  extra_warning_msg=_LOGISTIC_SOLVER_CONVERGENCE_MSG,\n",
            "/usr/local/lib/python3.7/dist-packages/sklearn/linear_model/_logistic.py:818: ConvergenceWarning: lbfgs failed to converge (status=1):\n",
            "STOP: TOTAL NO. of ITERATIONS REACHED LIMIT.\n",
            "\n",
            "Increase the number of iterations (max_iter) or scale the data as shown in:\n",
            "    https://scikit-learn.org/stable/modules/preprocessing.html\n",
            "Please also refer to the documentation for alternative solver options:\n",
            "    https://scikit-learn.org/stable/modules/linear_model.html#logistic-regression\n",
            "  extra_warning_msg=_LOGISTIC_SOLVER_CONVERGENCE_MSG,\n",
            "/usr/local/lib/python3.7/dist-packages/sklearn/linear_model/_logistic.py:818: ConvergenceWarning: lbfgs failed to converge (status=1):\n",
            "STOP: TOTAL NO. of ITERATIONS REACHED LIMIT.\n",
            "\n",
            "Increase the number of iterations (max_iter) or scale the data as shown in:\n",
            "    https://scikit-learn.org/stable/modules/preprocessing.html\n",
            "Please also refer to the documentation for alternative solver options:\n",
            "    https://scikit-learn.org/stable/modules/linear_model.html#logistic-regression\n",
            "  extra_warning_msg=_LOGISTIC_SOLVER_CONVERGENCE_MSG,\n",
            "/usr/local/lib/python3.7/dist-packages/sklearn/linear_model/_logistic.py:818: ConvergenceWarning: lbfgs failed to converge (status=1):\n",
            "STOP: TOTAL NO. of ITERATIONS REACHED LIMIT.\n",
            "\n",
            "Increase the number of iterations (max_iter) or scale the data as shown in:\n",
            "    https://scikit-learn.org/stable/modules/preprocessing.html\n",
            "Please also refer to the documentation for alternative solver options:\n",
            "    https://scikit-learn.org/stable/modules/linear_model.html#logistic-regression\n",
            "  extra_warning_msg=_LOGISTIC_SOLVER_CONVERGENCE_MSG,\n"
          ]
        },
        {
          "output_type": "stream",
          "name": "stdout",
          "text": [
            "stacked model\n",
            "              precision    recall  f1-score   support\n",
            "\n",
            "           0       0.98      1.00      0.99      2679\n",
            "           1       1.00      0.98      0.99      2659\n",
            "\n",
            "    accuracy                           0.99      5338\n",
            "   macro avg       0.99      0.99      0.99      5338\n",
            "weighted avg       0.99      0.99      0.99      5338\n",
            "\n",
            "[[2667   12]\n",
            " [  51 2608]]\n"
          ]
        }
      ]
    },
    {
      "cell_type": "code",
      "source": [
        "# Function Call for training Machine Learning Models on undersampled data\n",
        "X_train, y_train,X_test,y_test = train_test_split(df2_train_features,df2_train_labels,test_size=0.25)\n",
        "plot_neighbors_accuracy(X_train,X_test,y_train,y_test)\n",
        "accuracy_scores_undersampled = machine_learning_classifiers(X_train,X_test,y_train,y_test,17)"
      ],
      "metadata": {
        "colab": {
          "base_uri": "https://localhost:8080/"
        },
        "id": "IhwuYTlgALsV",
        "outputId": "8b906faf-4181-4058-923e-89923c5d1e3d"
      },
      "execution_count": null,
      "outputs": [
        {
          "output_type": "display_data",
          "data": {
            "image/png": "[encoded data removed]",
            "text/plain": [
              "<Figure size 432x288 with 1 Axes>"
            ]
          },
          "metadata": {
            "needs_background": "light"
          }
        },
        {
          "output_type": "stream",
          "name": "stdout",
          "text": [
            "K nearest Neighbors\n",
            "              precision    recall  f1-score   support\n",
            "\n",
            "           0       0.49      0.51      0.50       480\n",
            "           1       0.54      0.53      0.54       534\n",
            "\n",
            "    accuracy                           0.52      1014\n",
            "   macro avg       0.52      0.52      0.52      1014\n",
            "weighted avg       0.52      0.52      0.52      1014\n",
            "\n",
            "[[243 237]\n",
            " [251 283]]\n",
            "Linear SVM\n",
            "              precision    recall  f1-score   support\n",
            "\n",
            "           0       0.55      0.48      0.51       480\n",
            "           1       0.58      0.65      0.62       534\n",
            "\n",
            "    accuracy                           0.57      1014\n",
            "   macro avg       0.57      0.57      0.57      1014\n",
            "weighted avg       0.57      0.57      0.57      1014\n",
            "\n",
            "[[230 250]\n",
            " [185 349]]\n",
            "RBF SVM\n",
            "              precision    recall  f1-score   support\n",
            "\n",
            "           0       0.51      0.52      0.51       480\n",
            "           1       0.56      0.56      0.56       534\n",
            "\n",
            "    accuracy                           0.54      1014\n",
            "   macro avg       0.54      0.54      0.54      1014\n",
            "weighted avg       0.54      0.54      0.54      1014\n",
            "\n",
            "[[248 232]\n",
            " [236 298]]\n",
            "Random Forest Classifier\n",
            "              precision    recall  f1-score   support\n",
            "\n",
            "           0       0.52      0.57      0.54       480\n",
            "           1       0.57      0.52      0.54       534\n",
            "\n",
            "    accuracy                           0.54      1014\n",
            "   macro avg       0.54      0.54      0.54      1014\n",
            "weighted avg       0.55      0.54      0.54      1014\n",
            "\n",
            "[[274 206]\n",
            " [258 276]]\n",
            "Decision tree Classifier\n",
            "              precision    recall  f1-score   support\n",
            "\n",
            "           0       0.50      0.57      0.53       480\n",
            "           1       0.56      0.49      0.52       534\n",
            "\n",
            "    accuracy                           0.53      1014\n",
            "   macro avg       0.53      0.53      0.53      1014\n",
            "weighted avg       0.53      0.53      0.53      1014\n",
            "\n",
            "[[273 207]\n",
            " [273 261]]\n"
          ]
        },
        {
          "output_type": "stream",
          "name": "stderr",
          "text": [
            "/usr/local/lib/python3.7/dist-packages/sklearn/neural_network/_multilayer_perceptron.py:696: ConvergenceWarning: Stochastic Optimizer: Maximum iterations (10) reached and the optimization hasn't converged yet.\n",
            "  ConvergenceWarning,\n"
          ]
        },
        {
          "output_type": "stream",
          "name": "stdout",
          "text": [
            "Neural network\n",
            "              precision    recall  f1-score   support\n",
            "\n",
            "           0       0.55      0.54      0.55       480\n",
            "           1       0.59      0.60      0.60       534\n",
            "\n",
            "    accuracy                           0.57      1014\n",
            "   macro avg       0.57      0.57      0.57      1014\n",
            "weighted avg       0.57      0.57      0.57      1014\n",
            "\n",
            "[[260 220]\n",
            " [212 322]]\n",
            "AdaBoost\n",
            "              precision    recall  f1-score   support\n",
            "\n",
            "           0       0.52      0.65      0.58       480\n",
            "           1       0.59      0.46      0.52       534\n",
            "\n",
            "    accuracy                           0.55      1014\n",
            "   macro avg       0.55      0.55      0.55      1014\n",
            "weighted avg       0.56      0.55      0.54      1014\n",
            "\n",
            "[[310 170]\n",
            " [288 246]]\n",
            "Quadratic Discriminative Analysis\n",
            "              precision    recall  f1-score   support\n",
            "\n",
            "           0       0.52      0.53      0.53       480\n",
            "           1       0.57      0.56      0.57       534\n",
            "\n",
            "    accuracy                           0.55      1014\n",
            "   macro avg       0.55      0.55      0.55      1014\n",
            "weighted avg       0.55      0.55      0.55      1014\n",
            "\n",
            "[[255 225]\n",
            " [233 301]]\n",
            "Naive Bayes\n",
            "              precision    recall  f1-score   support\n",
            "\n",
            "           0       0.59      0.11      0.18       480\n",
            "           1       0.54      0.93      0.68       534\n",
            "\n",
            "    accuracy                           0.54      1014\n",
            "   macro avg       0.56      0.52      0.43      1014\n",
            "weighted avg       0.56      0.54      0.44      1014\n",
            "\n",
            "[[ 51 429]\n",
            " [ 36 498]]\n"
          ]
        },
        {
          "output_type": "stream",
          "name": "stderr",
          "text": [
            "/usr/local/lib/python3.7/dist-packages/sklearn/discriminant_analysis.py:878: UserWarning: Variables are collinear\n",
            "  warnings.warn(\"Variables are collinear\")\n",
            "/usr/local/lib/python3.7/dist-packages/sklearn/linear_model/_logistic.py:818: ConvergenceWarning: lbfgs failed to converge (status=1):\n",
            "STOP: TOTAL NO. of ITERATIONS REACHED LIMIT.\n",
            "\n",
            "Increase the number of iterations (max_iter) or scale the data as shown in:\n",
            "    https://scikit-learn.org/stable/modules/preprocessing.html\n",
            "Please also refer to the documentation for alternative solver options:\n",
            "    https://scikit-learn.org/stable/modules/linear_model.html#logistic-regression\n",
            "  extra_warning_msg=_LOGISTIC_SOLVER_CONVERGENCE_MSG,\n"
          ]
        },
        {
          "output_type": "stream",
          "name": "stdout",
          "text": [
            "Logistic Regression\n",
            "              precision    recall  f1-score   support\n",
            "\n",
            "           0       0.55      0.59      0.57       480\n",
            "           1       0.60      0.56      0.58       534\n",
            "\n",
            "    accuracy                           0.58      1014\n",
            "   macro avg       0.58      0.58      0.58      1014\n",
            "weighted avg       0.58      0.58      0.58      1014\n",
            "\n",
            "[[284 196]\n",
            " [234 300]]\n"
          ]
        },
        {
          "output_type": "stream",
          "name": "stderr",
          "text": [
            "/usr/local/lib/python3.7/dist-packages/sklearn/linear_model/_logistic.py:818: ConvergenceWarning: lbfgs failed to converge (status=1):\n",
            "STOP: TOTAL NO. of ITERATIONS REACHED LIMIT.\n",
            "\n",
            "Increase the number of iterations (max_iter) or scale the data as shown in:\n",
            "    https://scikit-learn.org/stable/modules/preprocessing.html\n",
            "Please also refer to the documentation for alternative solver options:\n",
            "    https://scikit-learn.org/stable/modules/linear_model.html#logistic-regression\n",
            "  extra_warning_msg=_LOGISTIC_SOLVER_CONVERGENCE_MSG,\n",
            "/usr/local/lib/python3.7/dist-packages/sklearn/linear_model/_logistic.py:818: ConvergenceWarning: lbfgs failed to converge (status=1):\n",
            "STOP: TOTAL NO. of ITERATIONS REACHED LIMIT.\n",
            "\n",
            "Increase the number of iterations (max_iter) or scale the data as shown in:\n",
            "    https://scikit-learn.org/stable/modules/preprocessing.html\n",
            "Please also refer to the documentation for alternative solver options:\n",
            "    https://scikit-learn.org/stable/modules/linear_model.html#logistic-regression\n",
            "  extra_warning_msg=_LOGISTIC_SOLVER_CONVERGENCE_MSG,\n",
            "/usr/local/lib/python3.7/dist-packages/sklearn/linear_model/_logistic.py:818: ConvergenceWarning: lbfgs failed to converge (status=1):\n",
            "STOP: TOTAL NO. of ITERATIONS REACHED LIMIT.\n",
            "\n",
            "Increase the number of iterations (max_iter) or scale the data as shown in:\n",
            "    https://scikit-learn.org/stable/modules/preprocessing.html\n",
            "Please also refer to the documentation for alternative solver options:\n",
            "    https://scikit-learn.org/stable/modules/linear_model.html#logistic-regression\n",
            "  extra_warning_msg=_LOGISTIC_SOLVER_CONVERGENCE_MSG,\n",
            "/usr/local/lib/python3.7/dist-packages/sklearn/linear_model/_logistic.py:818: ConvergenceWarning: lbfgs failed to converge (status=1):\n",
            "STOP: TOTAL NO. of ITERATIONS REACHED LIMIT.\n",
            "\n",
            "Increase the number of iterations (max_iter) or scale the data as shown in:\n",
            "    https://scikit-learn.org/stable/modules/preprocessing.html\n",
            "Please also refer to the documentation for alternative solver options:\n",
            "    https://scikit-learn.org/stable/modules/linear_model.html#logistic-regression\n",
            "  extra_warning_msg=_LOGISTIC_SOLVER_CONVERGENCE_MSG,\n",
            "/usr/local/lib/python3.7/dist-packages/sklearn/linear_model/_logistic.py:818: ConvergenceWarning: lbfgs failed to converge (status=1):\n",
            "STOP: TOTAL NO. of ITERATIONS REACHED LIMIT.\n",
            "\n",
            "Increase the number of iterations (max_iter) or scale the data as shown in:\n",
            "    https://scikit-learn.org/stable/modules/preprocessing.html\n",
            "Please also refer to the documentation for alternative solver options:\n",
            "    https://scikit-learn.org/stable/modules/linear_model.html#logistic-regression\n",
            "  extra_warning_msg=_LOGISTIC_SOLVER_CONVERGENCE_MSG,\n",
            "/usr/local/lib/python3.7/dist-packages/sklearn/linear_model/_logistic.py:818: ConvergenceWarning: lbfgs failed to converge (status=1):\n",
            "STOP: TOTAL NO. of ITERATIONS REACHED LIMIT.\n",
            "\n",
            "Increase the number of iterations (max_iter) or scale the data as shown in:\n",
            "    https://scikit-learn.org/stable/modules/preprocessing.html\n",
            "Please also refer to the documentation for alternative solver options:\n",
            "    https://scikit-learn.org/stable/modules/linear_model.html#logistic-regression\n",
            "  extra_warning_msg=_LOGISTIC_SOLVER_CONVERGENCE_MSG,\n"
          ]
        },
        {
          "output_type": "stream",
          "name": "stdout",
          "text": [
            "stacked model\n",
            "              precision    recall  f1-score   support\n",
            "\n",
            "           0       0.49      0.54      0.51       480\n",
            "           1       0.54      0.49      0.51       534\n",
            "\n",
            "    accuracy                           0.51      1014\n",
            "   macro avg       0.51      0.51      0.51      1014\n",
            "weighted avg       0.51      0.51      0.51      1014\n",
            "\n",
            "[[259 221]\n",
            " [275 259]]\n"
          ]
        }
      ]
    },
    {
      "cell_type": "code",
      "source": [
        "# Function to plot the bar graph of all the accuracy\n",
        "def plot_bar(accuracy_dict):\n",
        "  keys = list(accuracy_dict.keys())\n",
        "  values = list(accuracy_dict.values())\n",
        "  fig, ax = plt.subplots()\n",
        "  ax.barh(keys, values, align='center')\n",
        "  plt.xlabel('accuracy')\n",
        "  plt.ylabel('Model Name')\n",
        "  plt.title('Accuracy Comparison between different models')\n",
        "  plt.show()"
      ],
      "metadata": {
        "id": "4rpujL9gEGKs"
      },
      "execution_count": null,
      "outputs": []
    },
    {
      "cell_type": "code",
      "source": [
        "# Function Call to plot the bar Graph of \n",
        "# Unbalanced Data\n",
        "plot_bar(accuracy_scores_unbalanced)\n",
        "# oversampled Data\n",
        "plot_bar(accuracy_scores_oversampled)\n",
        "# Undersampled Data\n",
        "plot_bar(accuracy_scores_undersampled)"
      ],
      "metadata": {
        "colab": {
          "base_uri": "https://localhost:8080/"
        },
        "id": "A7TjvG2DESrm",
        "outputId": "1bd903dd-6897-4afa-86b4-1bb50eebc3be"
      },
      "execution_count": null,
      "outputs": [
        {
          "output_type": "display_data",
          "data": {
            "image/png": "[encoded data removed]",
            "text/plain": [
              "<Figure size 432x288 with 1 Axes>"
            ]
          },
          "metadata": {
            "needs_background": "light"
          }
        },
        {
          "output_type": "display_data",
          "data": {
            "image/png": "[encoded data removed]",
            "text/plain": [
              "<Figure size 432x288 with 1 Axes>"
            ]
          },
          "metadata": {
            "needs_background": "light"
          }
        },
        {
          "output_type": "display_data",
          "data": {
            "image/png": "[encoded data removed]",
            "text/plain": [
              "<Figure size 432x288 with 1 Axes>"
            ]
          },
          "metadata": {
            "needs_background": "light"
          }
        }
      ]
    },
    {
      "cell_type": "markdown",
      "source": [
        "# using the final model"
      ],
      "metadata": {
        "id": "FrpWfYnnAgq0"
      }
    },
    {
      "cell_type": "code",
      "source": [
        "# Training the final model( Stacking Classifier ) on oversampled Data\n",
        "from sklearn.ensemble import StackingClassifier\n",
        "level0 = list()\n",
        "level0.append(('rf',RandomForestClassifier()))\n",
        "level0.append(('lr', LogisticRegression()))\n",
        "level0.append(('knn', KNeighborsClassifier()))\n",
        "level0.append(('svm', SVC()))\n",
        "level0.append(('bayes', GaussianNB()))\n",
        "# define meta learner model\n",
        "level1 = RandomForestClassifier()\n",
        "# define the stacking ensemble\n",
        "model = StackingClassifier(estimators=level0, final_estimator=level1, cv=5)\n",
        "# Splitting the data\n",
        "X_train,y_train,X_test,y_test = train_test_split(df1_train_features,df1_train_labels)\n",
        "# fit the model on all available data\n",
        "model.fit(X_train, X_test)"
      ],
      "metadata": {
        "colab": {
          "base_uri": "https://localhost:8080/"
        },
        "id": "4TPx9TTtgsPE",
        "outputId": "76164541-03af-4bc5-a9f8-90d0c84b1638"
      },
      "execution_count": null,
      "outputs": [
        {
          "output_type": "stream",
          "name": "stderr",
          "text": [
            "/usr/local/lib/python3.7/dist-packages/sklearn/linear_model/_logistic.py:818: ConvergenceWarning: lbfgs failed to converge (status=1):\n",
            "STOP: TOTAL NO. of ITERATIONS REACHED LIMIT.\n",
            "\n",
            "Increase the number of iterations (max_iter) or scale the data as shown in:\n",
            "    https://scikit-learn.org/stable/modules/preprocessing.html\n",
            "Please also refer to the documentation for alternative solver options:\n",
            "    https://scikit-learn.org/stable/modules/linear_model.html#logistic-regression\n",
            "  extra_warning_msg=_LOGISTIC_SOLVER_CONVERGENCE_MSG,\n",
            "/usr/local/lib/python3.7/dist-packages/sklearn/linear_model/_logistic.py:818: ConvergenceWarning: lbfgs failed to converge (status=1):\n",
            "STOP: TOTAL NO. of ITERATIONS REACHED LIMIT.\n",
            "\n",
            "Increase the number of iterations (max_iter) or scale the data as shown in:\n",
            "    https://scikit-learn.org/stable/modules/preprocessing.html\n",
            "Please also refer to the documentation for alternative solver options:\n",
            "    https://scikit-learn.org/stable/modules/linear_model.html#logistic-regression\n",
            "  extra_warning_msg=_LOGISTIC_SOLVER_CONVERGENCE_MSG,\n",
            "/usr/local/lib/python3.7/dist-packages/sklearn/linear_model/_logistic.py:818: ConvergenceWarning: lbfgs failed to converge (status=1):\n",
            "STOP: TOTAL NO. of ITERATIONS REACHED LIMIT.\n",
            "\n",
            "Increase the number of iterations (max_iter) or scale the data as shown in:\n",
            "    https://scikit-learn.org/stable/modules/preprocessing.html\n",
            "Please also refer to the documentation for alternative solver options:\n",
            "    https://scikit-learn.org/stable/modules/linear_model.html#logistic-regression\n",
            "  extra_warning_msg=_LOGISTIC_SOLVER_CONVERGENCE_MSG,\n",
            "/usr/local/lib/python3.7/dist-packages/sklearn/linear_model/_logistic.py:818: ConvergenceWarning: lbfgs failed to converge (status=1):\n",
            "STOP: TOTAL NO. of ITERATIONS REACHED LIMIT.\n",
            "\n",
            "Increase the number of iterations (max_iter) or scale the data as shown in:\n",
            "    https://scikit-learn.org/stable/modules/preprocessing.html\n",
            "Please also refer to the documentation for alternative solver options:\n",
            "    https://scikit-learn.org/stable/modules/linear_model.html#logistic-regression\n",
            "  extra_warning_msg=_LOGISTIC_SOLVER_CONVERGENCE_MSG,\n",
            "/usr/local/lib/python3.7/dist-packages/sklearn/linear_model/_logistic.py:818: ConvergenceWarning: lbfgs failed to converge (status=1):\n",
            "STOP: TOTAL NO. of ITERATIONS REACHED LIMIT.\n",
            "\n",
            "Increase the number of iterations (max_iter) or scale the data as shown in:\n",
            "    https://scikit-learn.org/stable/modules/preprocessing.html\n",
            "Please also refer to the documentation for alternative solver options:\n",
            "    https://scikit-learn.org/stable/modules/linear_model.html#logistic-regression\n",
            "  extra_warning_msg=_LOGISTIC_SOLVER_CONVERGENCE_MSG,\n",
            "/usr/local/lib/python3.7/dist-packages/sklearn/linear_model/_logistic.py:818: ConvergenceWarning: lbfgs failed to converge (status=1):\n",
            "STOP: TOTAL NO. of ITERATIONS REACHED LIMIT.\n",
            "\n",
            "Increase the number of iterations (max_iter) or scale the data as shown in:\n",
            "    https://scikit-learn.org/stable/modules/preprocessing.html\n",
            "Please also refer to the documentation for alternative solver options:\n",
            "    https://scikit-learn.org/stable/modules/linear_model.html#logistic-regression\n",
            "  extra_warning_msg=_LOGISTIC_SOLVER_CONVERGENCE_MSG,\n"
          ]
        },
        {
          "output_type": "execute_result",
          "data": {
            "text/plain": [
              "StackingClassifier(cv=5,\n",
              "                   estimators=[('rf', RandomForestClassifier()),\n",
              "                               ('lr', LogisticRegression()),\n",
              "                               ('knn', KNeighborsClassifier()), ('svm', SVC()),\n",
              "                               ('bayes', GaussianNB())],\n",
              "                   final_estimator=RandomForestClassifier())"
            ]
          },
          "metadata": {},
          "execution_count": 83
        }
      ]
    },
    {
      "cell_type": "code",
      "source": [
        "# Using metrics on the final model\n",
        "pred = model.predict(y_train)\n",
        "rep = classification_report(y_test,pred)\n",
        "mat = confusion_matrix(y_test,pred)\n",
        "print(rep)\n",
        "print(mat)"
      ],
      "metadata": {
        "colab": {
          "base_uri": "https://localhost:8080/"
        },
        "id": "OMo0doZ3Y6YH",
        "outputId": "39beed90-0b08-42cf-d94f-26969e737c60"
      },
      "execution_count": null,
      "outputs": [
        {
          "output_type": "stream",
          "name": "stdout",
          "text": [
            "              precision    recall  f1-score   support\n",
            "\n",
            "           0       0.99      1.00      0.99      2666\n",
            "           1       1.00      0.99      0.99      2672\n",
            "\n",
            "    accuracy                           0.99      5338\n",
            "   macro avg       0.99      0.99      0.99      5338\n",
            "weighted avg       0.99      0.99      0.99      5338\n",
            "\n",
            "[[2655   11]\n",
            " [  39 2633]]\n"
          ]
        }
      ]
    },
    {
      "cell_type": "code",
      "source": [
        "# getting predictions on the test dataset\n",
        "CLASSIFIER_PREDICTION = model.predict(df_test)\n",
        "CLASSIFIER_PROBABILITY = model.predict_proba(df_test)"
      ],
      "metadata": {
        "id": "hwzW83S4Y6Ve"
      },
      "execution_count": null,
      "outputs": []
    },
    {
      "cell_type": "code",
      "source": [
        "# converting to csv\n",
        "predictions_df = predictions_df.to_frame()\n",
        "predictions_df['CLASSIFIER_PROBABILITY'] = CLASSIFIER_PROBABILITY.tolist()\n",
        "predictions_df['CLASSIFIER_PREDICTION'] =  CLASSIFIER_PREDICTION.tolist()\n",
        "predictions_df['CLASSIFIER_PREDICTION'].value_counts()\n",
        "predictions_df.to_csv('/content/drive/MyDrive/predictions_Bora_Aashish_Intern.csv',index = False)"
      ],
      "metadata": {
        "id": "-w05m9EsY6S1"
      },
      "execution_count": null,
      "outputs": []
    },
    {
      "cell_type": "markdown",
      "source": [
        "# Recommendations"
      ],
      "metadata": {
        "id": "R3N2xPYxyCvw"
      }
    },
    {
      "cell_type": "markdown",
      "source": [
        "It is quite difficult to build a reliable MVP model based on the data provided. There is lot of missing values and outliers in the data which makes the small dataset even smaller. Apart from this the data is highly imbalanced with around 90% of the target values having 0 as a category. Although I have used oversampling and undersampling techniques to make the balanced there is a lot of noise in that type of training. Thus I do not recommend to build  a MVP model based on the dataset provided.<br>\n",
        "\n",
        "To solve the problem of skewed data we can try increasing the data of restaurants having class 1. If we can't increase data containing class 1 we can try adding more features. Some of suggestions are \n",
        "1. We can try getting some cleaned form of violations raw data as it is hard for machine to interpret the raw violations data. This data could have a high correlation with the NEXT_INSPECTION_GRADE. \n",
        "2. We can try getting a data containg when the next inspection is scheduled as the time between the inspection can play significant role in identifying the next grade. If there is not much time difference it is highly unlikely that there is difference in the grade before. \n",
        "3. Maybe we can get the foot traffic in the restaurant and number of customers a restaurant has daily can display its image.\n",
        "4. We can also get a feature like employee leaving and joining the restaurant. Employee satisfaction can display the standard the restaurant follows.\n",
        "5. Providing some formula to calculate CURRENT GRADE and INSPECTION DEMERITS can mitigate lot of missing data.\n",
        "6. Some information about the cleanliness of the restaurant could be given as it has a good contribution to the grade of the restaurant. \n",
        "7. Information about the average rating of customer reviews could be used to get better predictions\n",
        "8. Some data could be taken from the online vendors that work in partnership with the restaurant about their satisfaction with the restaurant and used to determine the future grading. \n",
        "9. Data about tips recieved monthly could be used. These tips represent of how much a customer is satisfied with the service. \n"
      ],
      "metadata": {
        "id": "zLDyIzkXyIAa"
      }
    },
    {
      "cell_type": "code",
      "source": [
        ""
      ],
      "metadata": {
        "id": "8okCXjDMBcYK"
      },
      "execution_count": null,
      "outputs": []
    }
  ]
}